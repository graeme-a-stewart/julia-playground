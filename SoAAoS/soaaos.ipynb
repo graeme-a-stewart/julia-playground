{
 "cells": [
  {
   "cell_type": "code",
   "execution_count": 2,
   "metadata": {},
   "outputs": [],
   "source": [
    "struct Particle\n",
    "    E::Float64\n",
    "    px::Float64\n",
    "    py::Float64\n",
    "    pz::Float64\n",
    "end"
   ]
  },
  {
   "cell_type": "code",
   "execution_count": 3,
   "metadata": {},
   "outputs": [
    {
     "data": {
      "text/plain": [
       "Particle[]"
      ]
     },
     "metadata": {},
     "output_type": "display_data"
    }
   ],
   "source": [
    "AoS = Particle[]"
   ]
  },
  {
   "cell_type": "code",
   "execution_count": 4,
   "metadata": {},
   "outputs": [
    {
     "data": {
      "text/plain": [
       "3-element Vector{Particle}:\n",
       " Particle(4.0, 3.0, 2.0, 1.0)\n",
       " Particle(9.0, 8.0, 7.0, 6.0)\n",
       " Particle(-1.0, -2.0, -3.0, -4.0)"
      ]
     },
     "metadata": {},
     "output_type": "display_data"
    }
   ],
   "source": [
    "push!(AoS, Particle(4,3,2,1), Particle(9,8,7,6), Particle(-1,-2,-3,-4))"
   ]
  },
  {
   "cell_type": "code",
   "execution_count": 5,
   "metadata": {},
   "outputs": [
    {
     "data": {
      "text/plain": [
       "Particle(9.0, 8.0, 7.0, 6.0)"
      ]
     },
     "metadata": {},
     "output_type": "display_data"
    }
   ],
   "source": [
    "AoS[2]"
   ]
  },
  {
   "cell_type": "code",
   "execution_count": 6,
   "metadata": {},
   "outputs": [
    {
     "data": {
      "text/plain": [
       "8.0"
      ]
     },
     "metadata": {},
     "output_type": "display_data"
    }
   ],
   "source": [
    "AoS[2].px"
   ]
  },
  {
   "cell_type": "code",
   "execution_count": 7,
   "metadata": {},
   "outputs": [
    {
     "data": {
      "text/plain": [
       "E (generic function with 1 method)"
      ]
     },
     "metadata": {},
     "output_type": "display_data"
    }
   ],
   "source": [
    "px(p::Particle) = p.px\n",
    "py(p::Particle) = p.py\n",
    "pz(p::Particle) = p.pz\n",
    "E(p::Particle) = p.E"
   ]
  },
  {
   "cell_type": "code",
   "execution_count": 8,
   "metadata": {},
   "outputs": [
    {
     "data": {
      "text/plain": [
       "get_px (generic function with 1 method)"
      ]
     },
     "metadata": {},
     "output_type": "display_data"
    }
   ],
   "source": [
    "function get_px(object::T) where T\n",
    "    T.px(object)\n",
    "end"
   ]
  },
  {
   "cell_type": "code",
   "execution_count": 20,
   "metadata": {},
   "outputs": [
    {
     "ename": "ErrorException",
     "evalue": "type DataType has no field px",
     "output_type": "error",
     "traceback": [
      "type DataType has no field px\n",
      "\n",
      "Stacktrace:\n",
      " [1] getproperty\n",
      "   @ ./Base.jl:32 [inlined]\n",
      " [2] get_px(object::Particle)\n",
      "   @ Main ~/code/julia-playground/SoAAoS/soaaos.ipynb:2\n",
      " [3] top-level scope\n",
      "   @ ~/code/julia-playground/SoAAoS/soaaos.ipynb:1"
     ]
    }
   ],
   "source": [
    "get_px(AoS[1])"
   ]
  },
  {
   "cell_type": "code",
   "execution_count": 9,
   "metadata": {},
   "outputs": [
    {
     "data": {
      "text/plain": [
       "9.0"
      ]
     },
     "metadata": {},
     "output_type": "display_data"
    }
   ],
   "source": [
    "E(AoS[2])"
   ]
  },
  {
   "cell_type": "code",
   "execution_count": 11,
   "metadata": {},
   "outputs": [
    {
     "data": {
      "text/plain": [
       "3-element Vector{Float64}:\n",
       "  4.0\n",
       "  9.0\n",
       " -1.0"
      ]
     },
     "metadata": {},
     "output_type": "display_data"
    }
   ],
   "source": [
    "e_arr = map(E, AoS)"
   ]
  },
  {
   "cell_type": "code",
   "execution_count": 12,
   "metadata": {},
   "outputs": [
    {
     "data": {
      "text/plain": [
       "px (generic function with 2 methods)"
      ]
     },
     "metadata": {},
     "output_type": "display_data"
    }
   ],
   "source": [
    "px(pa::Vector{Particle}) = map(px, pa)"
   ]
  },
  {
   "cell_type": "code",
   "execution_count": 13,
   "metadata": {},
   "outputs": [
    {
     "data": {
      "text/plain": [
       "3-element Vector{Float64}:\n",
       "  3.0\n",
       "  8.0\n",
       " -2.0"
      ]
     },
     "metadata": {},
     "output_type": "display_data"
    }
   ],
   "source": [
    "px(AoS)"
   ]
  },
  {
   "cell_type": "markdown",
   "metadata": {},
   "source": [
    "## Idea\n",
    "\n",
    "1. Pass `objects` into function\n",
    "2. Test if `px(objects{T})` exists, if so, use it\n",
    "3. Else, test if `px(T)` exists, if so use `map(px, objects)`\n",
    "4. Else error\n",
    "\n",
    "Need to investigate `Traits` and `IsDef` module"
   ]
  },
  {
   "cell_type": "code",
   "execution_count": 14,
   "metadata": {},
   "outputs": [
    {
     "ename": "UndefVarError",
     "evalue": "UndefVarError: `method_exists` not defined",
     "output_type": "error",
     "traceback": [
      "UndefVarError: `method_exists` not defined\n",
      "\n",
      "Stacktrace:\n",
      " [1] top-level scope\n",
      "   @ ~/code/julia-playground/SoAAoS/soaaos.ipynb:1"
     ]
    }
   ],
   "source": [
    "method_exists(px, SoA)"
   ]
  },
  {
   "cell_type": "code",
   "execution_count": 15,
   "metadata": {},
   "outputs": [
    {
     "ename": "TypeError",
     "evalue": "TypeError: in isdefined, expected Symbol, got a value of type Vector{Particle}",
     "output_type": "error",
     "traceback": [
      "TypeError: in isdefined, expected Symbol, got a value of type Vector{Particle}\n",
      "\n",
      "Stacktrace:\n",
      " [1] top-level scope\n",
      "   @ ~/code/julia-playground/SoAAoS/soaaos.ipynb:1"
     ]
    }
   ],
   "source": [
    "isdefined(+, AoS)"
   ]
  },
  {
   "cell_type": "code",
   "execution_count": 16,
   "metadata": {},
   "outputs": [
    {
     "data": {
      "text/plain": [
       "pt2 (generic function with 1 method)"
      ]
     },
     "metadata": {},
     "output_type": "display_data"
    }
   ],
   "source": [
    "pt2(p::Particle) = muladd(p.px,p.px,p.py^2)"
   ]
  },
  {
   "cell_type": "code",
   "execution_count": 17,
   "metadata": {},
   "outputs": [
    {
     "data": {
      "text/plain": [
       "113.0"
      ]
     },
     "metadata": {},
     "output_type": "display_data"
    }
   ],
   "source": [
    "pt2(AoS[2])"
   ]
  },
  {
   "cell_type": "code",
   "execution_count": 18,
   "metadata": {},
   "outputs": [
    {
     "data": {
      "text/plain": [
       "3-element Vector{Float64}:\n",
       " 0.00591715976331361\n",
       " 7.831466833737959e-5\n",
       " 0.00591715976331361"
      ]
     },
     "metadata": {},
     "output_type": "display_data"
    }
   ],
   "source": [
    "map(pt2, AoS) .^ -2"
   ]
  },
  {
   "cell_type": "markdown",
   "metadata": {},
   "source": [
    "Try and see how we import methods into a module, with as few specifics as possible..."
   ]
  },
  {
   "cell_type": "code",
   "execution_count": 3,
   "metadata": {},
   "outputs": [
    {
     "name": "stderr",
     "output_type": "stream",
     "text": [
      "WARNING: replacing module JR.\n"
     ]
    },
    {
     "ename": "UndefVarError",
     "evalue": "UndefVarError: `Particle` not defined",
     "output_type": "error",
     "traceback": [
      "UndefVarError: `Particle` not defined\n",
      "\n",
      "Stacktrace:\n",
      " [1] top-level scope\n",
      "   @ ~/code/julia-playground/SoAAoS/soaaos.ipynb:2"
     ]
    }
   ],
   "source": [
    "module JR\n",
    "    jrpx(p::Particle) = p.px\n",
    "end"
   ]
  },
  {
   "cell_type": "code",
   "execution_count": null,
   "metadata": {},
   "outputs": [],
   "source": []
  }
 ],
 "metadata": {
  "kernelspec": {
   "display_name": "Julia 1.9.3",
   "language": "julia",
   "name": "julia-1.9"
  },
  "language_info": {
   "file_extension": ".jl",
   "mimetype": "application/julia",
   "name": "julia",
   "version": "1.9.3"
  },
  "orig_nbformat": 4
 },
 "nbformat": 4,
 "nbformat_minor": 2
}

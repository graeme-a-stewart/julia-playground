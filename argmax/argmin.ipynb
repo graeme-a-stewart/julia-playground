{
 "cells": [
  {
   "cell_type": "markdown",
   "metadata": {},
   "source": [
    "# Benchmark Performance of argmin()"
   ]
  },
  {
   "cell_type": "code",
   "execution_count": 16,
   "metadata": {},
   "outputs": [],
   "source": [
    "using BenchmarkTools"
   ]
  },
  {
   "cell_type": "code",
   "execution_count": 17,
   "metadata": {},
   "outputs": [],
   "source": [
    "x = rand(450);"
   ]
  },
  {
   "cell_type": "code",
   "execution_count": 18,
   "metadata": {},
   "outputs": [
    {
     "name": "stdout",
     "output_type": "stream",
     "text": [
      "  556.452 ns (1 allocation: 32 bytes)\n"
     ]
    },
    {
     "data": {
      "text/plain": [
       "(0.004679542062770881, 420)"
      ]
     },
     "metadata": {},
     "output_type": "display_data"
    }
   ],
   "source": [
    "@btime findmin(x)"
   ]
  },
  {
   "cell_type": "code",
   "execution_count": 19,
   "metadata": {},
   "outputs": [
    {
     "name": "stdout",
     "output_type": "stream",
     "text": [
      "  615.850 ns (3 allocations: 112 bytes)\n"
     ]
    },
    {
     "data": {
      "text/plain": [
       "(0.004679542062770881, 420)"
      ]
     },
     "metadata": {},
     "output_type": "display_data"
    }
   ],
   "source": [
    "@btime findmin(@view x[begin:end])"
   ]
  },
  {
   "cell_type": "code",
   "execution_count": 20,
   "metadata": {},
   "outputs": [
    {
     "name": "stdout",
     "output_type": "stream",
     "text": [
      "  581.956 ns (2 allocations: 80 bytes)\n"
     ]
    },
    {
     "data": {
      "text/plain": [
       "(0.004679542062770881, 420)"
      ]
     },
     "metadata": {},
     "output_type": "display_data"
    }
   ],
   "source": [
    "@btime findmin(@view x[1:449])"
   ]
  },
  {
   "cell_type": "code",
   "execution_count": 21,
   "metadata": {},
   "outputs": [
    {
     "name": "stdout",
     "output_type": "stream",
     "text": [
      "  585.171 ns (2 allocations: 80 bytes)\n"
     ]
    },
    {
     "data": {
      "text/plain": [
       "(0.004679542062770881, 420)"
      ]
     },
     "metadata": {},
     "output_type": "display_data"
    }
   ],
   "source": [
    "@btime findmin(@view x[1:448])"
   ]
  },
  {
   "cell_type": "code",
   "execution_count": 22,
   "metadata": {},
   "outputs": [
    {
     "data": {
      "text/plain": [
       "BenchmarkTools.Trial: 10000 samples with 186 evaluations.\n",
       " Range \u001b[90m(\u001b[39m\u001b[36m\u001b[1mmin\u001b[22m\u001b[39m … \u001b[35mmax\u001b[39m\u001b[90m):  \u001b[39m\u001b[36m\u001b[1m555.554 ns\u001b[22m\u001b[39m … \u001b[35m 8.464 μs\u001b[39m  \u001b[90m┊\u001b[39m GC \u001b[90m(\u001b[39mmin … max\u001b[90m): \u001b[39m0.00% … 92.53%\n",
       " Time  \u001b[90m(\u001b[39m\u001b[34m\u001b[1mmedian\u001b[22m\u001b[39m\u001b[90m):     \u001b[39m\u001b[34m\u001b[1m558.022 ns              \u001b[22m\u001b[39m\u001b[90m┊\u001b[39m GC \u001b[90m(\u001b[39mmedian\u001b[90m):    \u001b[39m0.00%\n",
       " Time  \u001b[90m(\u001b[39m\u001b[32m\u001b[1mmean\u001b[22m\u001b[39m ± \u001b[32mσ\u001b[39m\u001b[90m):   \u001b[39m\u001b[32m\u001b[1m573.444 ns\u001b[22m\u001b[39m ± \u001b[32m83.400 ns\u001b[39m  \u001b[90m┊\u001b[39m GC \u001b[90m(\u001b[39mmean ± σ\u001b[90m):  \u001b[39m0.14% ±  0.93%\n",
       "\n",
       "  \u001b[39m█\u001b[34m▅\u001b[39m\u001b[39m▄\u001b[39m▄\u001b[39m▁\u001b[39m \u001b[39m \u001b[39m \u001b[39m \u001b[32m▃\u001b[39m\u001b[39m▃\u001b[39m▃\u001b[39m▃\u001b[39m▃\u001b[39m▁\u001b[39m▁\u001b[39m▁\u001b[39m▁\u001b[39m \u001b[39m▁\u001b[39m▁\u001b[39m▁\u001b[39m▁\u001b[39m▁\u001b[39m▁\u001b[39m▁\u001b[39m▁\u001b[39m \u001b[39m \u001b[39m \u001b[39m \u001b[39m \u001b[39m \u001b[39m \u001b[39m \u001b[39m \u001b[39m \u001b[39m \u001b[39m \u001b[39m \u001b[39m \u001b[39m \u001b[39m \u001b[39m \u001b[39m \u001b[39m \u001b[39m \u001b[39m \u001b[39m \u001b[39m \u001b[39m \u001b[39m \u001b[39m \u001b[39m \u001b[39m \u001b[39m \u001b[39m \u001b[39m \u001b[39m \u001b[39m \u001b[39m \u001b[39m▁\n",
       "  \u001b[39m█\u001b[34m█\u001b[39m\u001b[39m█\u001b[39m█\u001b[39m█\u001b[39m▇\u001b[39m▇\u001b[39m▇\u001b[39m▆\u001b[32m█\u001b[39m\u001b[39m█\u001b[39m█\u001b[39m█\u001b[39m█\u001b[39m█\u001b[39m█\u001b[39m█\u001b[39m█\u001b[39m█\u001b[39m█\u001b[39m█\u001b[39m█\u001b[39m█\u001b[39m█\u001b[39m█\u001b[39m█\u001b[39m█\u001b[39m█\u001b[39m█\u001b[39m█\u001b[39m█\u001b[39m█\u001b[39m▇\u001b[39m█\u001b[39m▇\u001b[39m█\u001b[39m█\u001b[39m█\u001b[39m█\u001b[39m▇\u001b[39m▇\u001b[39m▇\u001b[39m▇\u001b[39m▇\u001b[39m▇\u001b[39m▇\u001b[39m▆\u001b[39m▆\u001b[39m▆\u001b[39m▆\u001b[39m▆\u001b[39m▆\u001b[39m▆\u001b[39m▆\u001b[39m▆\u001b[39m▆\u001b[39m▅\u001b[39m▆\u001b[39m▆\u001b[39m▅\u001b[39m \u001b[39m█\n",
       "  556 ns\u001b[90m        \u001b[39m\u001b[90mHistogram: \u001b[39m\u001b[90m\u001b[1mlog(\u001b[22m\u001b[39m\u001b[90mfrequency\u001b[39m\u001b[90m\u001b[1m)\u001b[22m\u001b[39m\u001b[90m by time\u001b[39m       670 ns \u001b[0m\u001b[1m<\u001b[22m\n",
       "\n",
       " Memory estimate\u001b[90m: \u001b[39m\u001b[33m32 bytes\u001b[39m, allocs estimate\u001b[90m: \u001b[39m\u001b[33m1\u001b[39m."
      ]
     },
     "metadata": {},
     "output_type": "display_data"
    }
   ],
   "source": [
    "@benchmark findmin(x)"
   ]
  },
  {
   "cell_type": "code",
   "execution_count": 34,
   "metadata": {},
   "outputs": [
    {
     "name": "stdout",
     "output_type": "stream",
     "text": [
      "\t\u001b[0m.section\t\u001b[0m__TEXT\u001b[0m,\u001b[0m__text\u001b[0m,\u001b[0mregular\u001b[0m,\u001b[0mpure_instructions\n",
      "\t\u001b[0m.build_version \u001b[0mmacos\u001b[0m, \u001b[33m14\u001b[39m\u001b[0m, \u001b[33m0\u001b[39m\n",
      "\t\u001b[0m.globl\t\u001b[0m_julia_findmin_2588             \u001b[90m; -- Begin function julia_findmin_2588\u001b[39m\n",
      "\t\u001b[0m.p2align\t\u001b[33m2\u001b[39m\n",
      "\u001b[91m_julia_findmin_2588:\u001b[39m                    \u001b[90m; @julia_findmin_2588\u001b[39m\n",
      "\u001b[90m; ┌ @ reducedim.jl:1112 within `findmin`\u001b[39m\n",
      "\t\u001b[0m.cfi_startproc\n",
      "\u001b[90m; %bb.0:                                ; %top\u001b[39m\n",
      "\t\u001b[96m\u001b[1mstp\u001b[22m\u001b[39m\t\u001b[0mx29\u001b[0m, \u001b[0mx30\u001b[0m, \u001b[33m[\u001b[39m\u001b[0msp\u001b[0m, \u001b[33m#-16\u001b[39m\u001b[33m]\u001b[39m\u001b[95m!\u001b[39m           \u001b[90m; 16-byte Folded Spill\u001b[39m\n",
      "\t\u001b[96m\u001b[1mmov\u001b[22m\u001b[39m\t\u001b[0mx29\u001b[0m, \u001b[0msp\n",
      "\t\u001b[0m.cfi_def_cfa \u001b[0mw29\u001b[0m, \u001b[33m16\u001b[39m\n",
      "\u001b[90m; │┌ @ reducedim.jl:1112 within `#findmin#860`\u001b[39m\n",
      "\u001b[90m; ││┌ @ reduce.jl:989 within `_findmin`\u001b[39m\n",
      "\u001b[90m; │││┌ @ reducedim.jl:1135 within `findmin`\u001b[39m\n",
      "\u001b[90m; ││││┌ @ reducedim.jl:1135 within `#findmin#861`\u001b[39m\n",
      "\u001b[90m; │││││┌ @ reduce.jl:963 within `_findmin`\u001b[39m\n",
      "\u001b[90m; ││││││┌ @ iterators.jl:277 within `pairs` @ iterators.jl:270\u001b[39m\n",
      "\u001b[90m; │││││││┌ @ indices.jl:486 within `LinearIndices`\u001b[39m\n",
      "\u001b[90m; ││││││││┌ @ abstractarray.jl:98 within `axes`\u001b[39m\n",
      "\u001b[90m; │││││││││┌ @ array.jl:149 within `size`\u001b[39m\n",
      "\t\u001b[0m.cfi_offset \u001b[0mw30\u001b[0m, \u001b[33m-8\u001b[39m\n",
      "\t\u001b[0m.cfi_offset \u001b[0mw29\u001b[0m, \u001b[33m-16\u001b[39m\n",
      "\t\u001b[96m\u001b[1mldr\u001b[22m\u001b[39m\t\u001b[0mx9\u001b[0m, \u001b[33m[\u001b[39m\u001b[0mx0\u001b[0m, \u001b[33m#8\u001b[39m\u001b[33m]\u001b[39m\n",
      "\u001b[90m; ││││││└└└└\u001b[39m\n",
      "\u001b[90m; ││││││┌ @ reduce.jl:170 within `mapfoldl`\u001b[39m\n",
      "\u001b[90m; │││││││┌ @ reduce.jl:170 within `#mapfoldl#288`\u001b[39m\n",
      "\u001b[90m; ││││││││┌ @ reduce.jl:44 within `mapfoldl_impl`\u001b[39m\n",
      "\u001b[90m; │││││││││┌ @ reduce.jl:48 within `foldl_impl`\u001b[39m\n",
      "\u001b[90m; ││││││││││┌ @ reduce.jl:56 within `_foldl_impl`\u001b[39m\n",
      "\u001b[90m; │││││││││││┌ @ iterators.jl:295 within `iterate`\u001b[39m\n",
      "\t\u001b[96m\u001b[1mcbz\u001b[22m\u001b[39m\t\u001b[0mx9\u001b[0m, \u001b[91mLBB0_12\u001b[39m\n",
      "\u001b[90m; %bb.1:                                ; %L24\u001b[39m\n",
      "\u001b[90m; ││││││││││││ @ iterators.jl:297 within `iterate`\u001b[39m\n",
      "\u001b[90m; ││││││││││││┌ @ iterators.jl:290 within `_pairs_elt`\u001b[39m\n",
      "\u001b[90m; │││││││││││││┌ @ essentials.jl:13 within `getindex`\u001b[39m\n",
      "\t\u001b[96m\u001b[1mldr\u001b[22m\u001b[39m\t\u001b[0mx11\u001b[0m, \u001b[33m[\u001b[39m\u001b[0mx0\u001b[33m]\u001b[39m\n",
      "\t\u001b[96m\u001b[1mldr\u001b[22m\u001b[39m\t\u001b[0md0\u001b[0m, \u001b[33m[\u001b[39m\u001b[0mx11\u001b[33m]\u001b[39m\n",
      "\u001b[90m; │││││││││││└└└\u001b[39m\n",
      "\u001b[90m; │││││││││││ @ reduce.jl:60 within `_foldl_impl`\u001b[39m\n",
      "\u001b[90m; │││││││││││┌ @ iterators.jl:295 within `iterate`\u001b[39m\n",
      "\t\u001b[96m\u001b[1mcmp\u001b[22m\u001b[39m\t\u001b[0mx9\u001b[0m, \u001b[33m#1\u001b[39m\n",
      "\t\u001b[96m\u001b[1mb.ne\u001b[22m\u001b[39m\t\u001b[91mLBB0_4\u001b[39m\n",
      "\u001b[90m; %bb.2:\u001b[39m\n",
      "\t\u001b[96m\u001b[1mmov\u001b[22m\u001b[39m\t\u001b[0mw13\u001b[0m, \u001b[33m#1\u001b[39m\n",
      "\u001b[91mLBB0_3:\u001b[39m                                 \u001b[90m; %L113\u001b[39m\n",
      "\u001b[90m; │└└└└└└└└└└└\u001b[39m\n",
      "\t\u001b[96m\u001b[1mstr\u001b[22m\u001b[39m\t\u001b[0md0\u001b[0m, \u001b[33m[\u001b[39m\u001b[0mx8\u001b[33m]\u001b[39m\n",
      "\t\u001b[96m\u001b[1mstr\u001b[22m\u001b[39m\t\u001b[0mx13\u001b[0m, \u001b[33m[\u001b[39m\u001b[0mx8\u001b[0m, \u001b[33m#8\u001b[39m\u001b[33m]\u001b[39m\n",
      "\t\u001b[96m\u001b[1mmov\u001b[22m\u001b[39m\t\u001b[0msp\u001b[0m, \u001b[0mx29\n",
      "\t\u001b[96m\u001b[1mldp\u001b[22m\u001b[39m\t\u001b[0mx29\u001b[0m, \u001b[0mx30\u001b[0m, \u001b[33m[\u001b[39m\u001b[0msp\u001b[33m]\u001b[39m\u001b[0m, \u001b[33m#16\u001b[39m             \u001b[90m; 16-byte Folded Reload\u001b[39m\n",
      "\t\u001b[96m\u001b[1mret\u001b[22m\u001b[39m\n",
      "\u001b[91mLBB0_4:\u001b[39m                                 \u001b[90m; %L45.lr.ph\u001b[39m\n",
      "\u001b[90m; │┌ @ reducedim.jl:1112 within `#findmin#860`\u001b[39m\n",
      "\u001b[90m; ││┌ @ reduce.jl:989 within `_findmin`\u001b[39m\n",
      "\u001b[90m; │││┌ @ reducedim.jl:1135 within `findmin`\u001b[39m\n",
      "\u001b[90m; ││││┌ @ reducedim.jl:1135 within `#findmin#861`\u001b[39m\n",
      "\u001b[90m; │││││┌ @ reduce.jl:963 within `_findmin`\u001b[39m\n",
      "\u001b[90m; ││││││┌ @ reduce.jl:170 within `mapfoldl`\u001b[39m\n",
      "\u001b[90m; │││││││┌ @ reduce.jl:170 within `#mapfoldl#288`\u001b[39m\n",
      "\u001b[90m; ││││││││┌ @ reduce.jl:44 within `mapfoldl_impl`\u001b[39m\n",
      "\u001b[90m; │││││││││┌ @ reduce.jl:48 within `foldl_impl`\u001b[39m\n",
      "\u001b[90m; ││││││││││┌ @ reduce.jl:60 within `_foldl_impl`\u001b[39m\n",
      "\u001b[90m; │││││││││││┌ @ iterators.jl:295 within `iterate`\u001b[39m\n",
      "\t\u001b[96m\u001b[1madd\u001b[22m\u001b[39m\t\u001b[0mx10\u001b[0m, \u001b[0mx9\u001b[0m, \u001b[33m#1\u001b[39m\n",
      "\t\u001b[96m\u001b[1mmov\u001b[22m\u001b[39m\t\u001b[0mw12\u001b[0m, \u001b[33m#1\u001b[39m\n",
      "\t\u001b[96m\u001b[1mmov\u001b[22m\u001b[39m\t\u001b[0mw14\u001b[0m, \u001b[33m#1\u001b[39m\n",
      "\t\u001b[96m\u001b[1mfmov\u001b[22m\u001b[39m\t\u001b[0md1\u001b[0m, \u001b[0md0\n",
      "\t\u001b[96m\u001b[1mb\u001b[22m\u001b[39m\t\u001b[91mLBB0_7\u001b[39m\n",
      "\u001b[91mLBB0_5:\u001b[39m                                 \u001b[90m; %L100\u001b[39m\n",
      "                                        \u001b[90m;   in Loop: Header=BB0_7 Depth=1\u001b[39m\n",
      "\u001b[90m; │││││││││││└\u001b[39m\n",
      "\u001b[90m; │││││││││││ @ reduce.jl:62 within `_foldl_impl`\u001b[39m\n",
      "\u001b[90m; │││││││││││┌ @ reduce.jl:95 within `MappingRF`\u001b[39m\n",
      "\u001b[90m; ││││││││││││┌ @ reduce.jl:81 within `BottomRF`\u001b[39m\n",
      "\u001b[90m; │││││││││││││┌ @ reduce.jl:964 within `_rf_findmin`\u001b[39m\n",
      "\t\u001b[96m\u001b[1mfcmp\u001b[22m\u001b[39m\t\u001b[0md1\u001b[0m, \u001b[0md1\n",
      "\t\u001b[96m\u001b[1mb.vs\u001b[22m\u001b[39m\t\u001b[91mLBB0_10\u001b[39m\n",
      "\u001b[91mLBB0_6:\u001b[39m                                 \u001b[90m; %L106\u001b[39m\n",
      "                                        \u001b[90m;   in Loop: Header=BB0_7 Depth=1\u001b[39m\n",
      "\u001b[90m; │││││││││││└└└\u001b[39m\n",
      "\u001b[90m; │││││││││││ @ reduce.jl:60 within `_foldl_impl`\u001b[39m\n",
      "\u001b[90m; │││││││││││┌ @ iterators.jl:294 within `iterate` @ indices.jl:519 @ range.jl:891\u001b[39m\n",
      "\u001b[90m; ││││││││││││┌ @ promotion.jl:499 within `==`\u001b[39m\n",
      "\t\u001b[96m\u001b[1madd\u001b[22m\u001b[39m\t\u001b[0mx12\u001b[0m, \u001b[0mx12\u001b[0m, \u001b[33m#1\u001b[39m\n",
      "\t\u001b[96m\u001b[1mmov\u001b[22m\u001b[39m\t\u001b[0mx14\u001b[0m, \u001b[0mx13\n",
      "\t\u001b[96m\u001b[1mfmov\u001b[22m\u001b[39m\t\u001b[0md1\u001b[0m, \u001b[0md0\n",
      "\u001b[90m; ││││││││││││└\u001b[39m\n",
      "\u001b[90m; ││││││││││││ @ iterators.jl:295 within `iterate`\u001b[39m\n",
      "\t\u001b[96m\u001b[1mcmp\u001b[22m\u001b[39m\t\u001b[0mx9\u001b[0m, \u001b[0mx12\n",
      "\t\u001b[96m\u001b[1mb.eq\u001b[22m\u001b[39m\t\u001b[91mLBB0_3\u001b[39m\n",
      "\u001b[91mLBB0_7:\u001b[39m                                 \u001b[90m; %L45\u001b[39m\n",
      "                                        \u001b[90m; =>This Inner Loop Header: Depth=1\u001b[39m\n",
      "\u001b[90m; ││││││││││││ @ iterators.jl:297 within `iterate`\u001b[39m\n",
      "\u001b[90m; ││││││││││││┌ @ iterators.jl:290 within `_pairs_elt`\u001b[39m\n",
      "\u001b[90m; │││││││││││││┌ @ essentials.jl:13 within `getindex`\u001b[39m\n",
      "\t\u001b[96m\u001b[1mcmp\u001b[22m\u001b[39m\t\u001b[0mx9\u001b[0m, \u001b[0mx12\n",
      "\t\u001b[96m\u001b[1mb.eq\u001b[22m\u001b[39m\t\u001b[91mLBB0_11\u001b[39m\n",
      "\u001b[90m; %bb.8:                                ; %L52\u001b[39m\n",
      "                                        \u001b[90m;   in Loop: Header=BB0_7 Depth=1\u001b[39m\n",
      "\t\u001b[96m\u001b[1madd\u001b[22m\u001b[39m\t\u001b[0mx13\u001b[0m, \u001b[0mx12\u001b[0m, \u001b[33m#1\u001b[39m\n",
      "\t\u001b[96m\u001b[1mldr\u001b[22m\u001b[39m\t\u001b[0md0\u001b[0m, \u001b[33m[\u001b[39m\u001b[0mx11\u001b[0m, \u001b[0mx12\u001b[0m, \u001b[95mlsl\u001b[39m \u001b[33m#3\u001b[39m\u001b[33m]\u001b[39m\n",
      "\u001b[90m; │││││││││││└└└\u001b[39m\n",
      "\u001b[90m; │││││││││││ @ reduce.jl:62 within `_foldl_impl`\u001b[39m\n",
      "\u001b[90m; │││││││││││┌ @ reduce.jl:95 within `MappingRF`\u001b[39m\n",
      "\u001b[90m; ││││││││││││┌ @ reduce.jl:81 within `BottomRF`\u001b[39m\n",
      "\u001b[90m; │││││││││││││┌ @ reduce.jl:964 within `_rf_findmin`\u001b[39m\n",
      "\u001b[90m; ││││││││││││││┌ @ operators.jl:225 within `isgreater`\u001b[39m\n",
      "\t\u001b[96m\u001b[1mfcmp\u001b[22m\u001b[39m\t\u001b[0md1\u001b[0m, \u001b[0md1\n",
      "\t\u001b[96m\u001b[1mfccmp\u001b[22m\u001b[39m\t\u001b[0md0\u001b[0m, \u001b[0md0\u001b[0m, \u001b[33m#1\u001b[39m\u001b[0m, \u001b[95mvc\u001b[39m\n",
      "\t\u001b[96m\u001b[1mb.vs\u001b[22m\u001b[39m\t\u001b[91mLBB0_5\u001b[39m\n",
      "\u001b[90m; %bb.9:                                ; %L64\u001b[39m\n",
      "                                        \u001b[90m;   in Loop: Header=BB0_7 Depth=1\u001b[39m\n",
      "\u001b[90m; │││││││││││││││┌ @ float.jl:550 within `isless`\u001b[39m\n",
      "\u001b[90m; ││││││││││││││││┌ @ float.jl:543 within `_fpint`\u001b[39m\n",
      "\u001b[90m; │││││││││││││││││┌ @ essentials.jl:513 within `reinterpret`\u001b[39m\n",
      "\t\u001b[96m\u001b[1mfmov\u001b[22m\u001b[39m\t\u001b[0mx15\u001b[0m, \u001b[0md0\n",
      "\u001b[90m; │││││││││││││││││└\u001b[39m\n",
      "\u001b[90m; │││││││││││││││││ @ float.jl:544 within `_fpint`\u001b[39m\n",
      "\u001b[90m; │││││││││││││││││┌ @ int.jl:373 within `xor`\u001b[39m\n",
      "\t\u001b[96m\u001b[1meor\u001b[22m\u001b[39m\t\u001b[0mx16\u001b[0m, \u001b[0mx15\u001b[0m, \u001b[33m#0x7fffffffffffffff\u001b[39m\n",
      "\u001b[90m; │││││││││││││││││└\u001b[39m\n",
      "\u001b[90m; │││││││││││││││││┌ @ essentials.jl:575 within `ifelse`\u001b[39m\n",
      "\t\u001b[96m\u001b[1mcmp\u001b[22m\u001b[39m\t\u001b[0mx15\u001b[0m, \u001b[33m#0\u001b[39m\n",
      "\t\u001b[96m\u001b[1mcsel\u001b[22m\u001b[39m\t\u001b[0mx15\u001b[0m, \u001b[0mx16\u001b[0m, \u001b[0mx15\u001b[0m, \u001b[95mlt\u001b[39m\n",
      "\u001b[90m; │││││││││││││││││└\u001b[39m\n",
      "\u001b[90m; │││││││││││││││││ @ float.jl:543 within `_fpint`\u001b[39m\n",
      "\u001b[90m; │││││││││││││││││┌ @ essentials.jl:513 within `reinterpret`\u001b[39m\n",
      "\t\u001b[96m\u001b[1mfmov\u001b[22m\u001b[39m\t\u001b[0mx16\u001b[0m, \u001b[0md1\n",
      "\u001b[90m; │││││││││││││││││└\u001b[39m\n",
      "\u001b[90m; │││││││││││││││││ @ float.jl:544 within `_fpint`\u001b[39m\n",
      "\u001b[90m; │││││││││││││││││┌ @ int.jl:373 within `xor`\u001b[39m\n",
      "\t\u001b[96m\u001b[1meor\u001b[22m\u001b[39m\t\u001b[0mx17\u001b[0m, \u001b[0mx16\u001b[0m, \u001b[33m#0x7fffffffffffffff\u001b[39m\n",
      "\u001b[90m; │││││││││││││││││└\u001b[39m\n",
      "\u001b[90m; │││││││││││││││││┌ @ essentials.jl:575 within `ifelse`\u001b[39m\n",
      "\t\u001b[96m\u001b[1mcmp\u001b[22m\u001b[39m\t\u001b[0mx16\u001b[0m, \u001b[33m#0\u001b[39m\n",
      "\t\u001b[96m\u001b[1mcsel\u001b[22m\u001b[39m\t\u001b[0mx16\u001b[0m, \u001b[0mx17\u001b[0m, \u001b[0mx16\u001b[0m, \u001b[95mlt\u001b[39m\n",
      "\u001b[90m; ││││││││││││││└└└└\u001b[39m\n",
      "\t\u001b[96m\u001b[1mcmp\u001b[22m\u001b[39m\t\u001b[0mx15\u001b[0m, \u001b[0mx16\n",
      "\t\u001b[96m\u001b[1mb.lt\u001b[22m\u001b[39m\t\u001b[91mLBB0_6\u001b[39m\n",
      "\u001b[91mLBB0_10:\u001b[39m                                \u001b[90m; %L104\u001b[39m\n",
      "                                        \u001b[90m;   in Loop: Header=BB0_7 Depth=1\u001b[39m\n",
      "\t\u001b[96m\u001b[1mmov\u001b[22m\u001b[39m\t\u001b[0mx13\u001b[0m, \u001b[0mx14\n",
      "\t\u001b[96m\u001b[1mfmov\u001b[22m\u001b[39m\t\u001b[0md0\u001b[0m, \u001b[0md1\n",
      "\t\u001b[96m\u001b[1mb\u001b[22m\u001b[39m\t\u001b[91mLBB0_6\u001b[39m\n",
      "\u001b[91mLBB0_11:\u001b[39m                                \u001b[90m; %oob\u001b[39m\n",
      "\u001b[90m; │││││││││││└└└\u001b[39m\n",
      "\u001b[90m; │││││││││││ @ reduce.jl:60 within `_foldl_impl`\u001b[39m\n",
      "\u001b[90m; │││││││││││┌ @ iterators.jl:297 within `iterate`\u001b[39m"
     ]
    },
    {
     "name": "stdout",
     "output_type": "stream",
     "text": [
      "\n",
      "\u001b[90m; ││││││││││││┌ @ iterators.jl:290 within `_pairs_elt`\u001b[39m\n",
      "\u001b[90m; │││││││││││││┌ @ essentials.jl:13 within `getindex`\u001b[39m\n",
      "\t\u001b[96m\u001b[1mmov\u001b[22m\u001b[39m\t\u001b[0mx8\u001b[0m, \u001b[0msp\n",
      "\t\u001b[96m\u001b[1msub\u001b[22m\u001b[39m\t\u001b[0mx1\u001b[0m, \u001b[0mx8\u001b[0m, \u001b[33m#16\u001b[39m\n",
      "\t\u001b[96m\u001b[1mmov\u001b[22m\u001b[39m\t\u001b[0msp\u001b[0m, \u001b[0mx1\n",
      "\t\u001b[96m\u001b[1mstur\u001b[22m\u001b[39m\t\u001b[0mx10\u001b[0m, \u001b[33m[\u001b[39m\u001b[0mx8\u001b[0m, \u001b[33m#-16\u001b[39m\u001b[33m]\u001b[39m\n",
      "\u001b[91mLloh0:\u001b[39m\n",
      "\t\u001b[96m\u001b[1madrp\u001b[22m\u001b[39m\t\u001b[0mx8\u001b[0m, \u001b[0m_ijl_bounds_error_ints@GOTPAGE\n",
      "\u001b[91mLloh1:\u001b[39m\n",
      "\t\u001b[96m\u001b[1mldr\u001b[22m\u001b[39m\t\u001b[0mx8\u001b[0m, \u001b[33m[\u001b[39m\u001b[0mx8\u001b[0m, \u001b[0m_ijl_bounds_error_ints@GOTPAGEOFF\u001b[33m]\u001b[39m\n",
      "\t\u001b[96m\u001b[1mmov\u001b[22m\u001b[39m\t\u001b[0mw2\u001b[0m, \u001b[33m#1\u001b[39m\n",
      "\t\u001b[96m\u001b[1mblr\u001b[22m\u001b[39m\t\u001b[0mx8\n",
      "\u001b[91mLBB0_12:\u001b[39m                                \u001b[90m; %L23\u001b[39m\n",
      "\u001b[90m; ││││││││││└└└└\u001b[39m\n",
      "\u001b[90m; ││││││││││ @ reduce.jl:49 within `foldl_impl`\u001b[39m\n",
      "\u001b[90m; ││││││││││┌ @ reduce.jl:378 within `reduce_empty_iter` @ reduce.jl:379\u001b[39m\n",
      "\u001b[91mLloh2:\u001b[39m\n",
      "\t\u001b[96m\u001b[1madrp\u001b[22m\u001b[39m\t\u001b[0mx8\u001b[0m, \u001b[0m_j_reduce_empty_2590@GOTPAGE\n",
      "\u001b[91mLloh3:\u001b[39m\n",
      "\t\u001b[96m\u001b[1mldr\u001b[22m\u001b[39m\t\u001b[0mx8\u001b[0m, \u001b[33m[\u001b[39m\u001b[0mx8\u001b[0m, \u001b[0m_j_reduce_empty_2590@GOTPAGEOFF\u001b[33m]\u001b[39m"
     ]
    },
    {
     "name": "stdout",
     "output_type": "stream",
     "text": [
      "\n",
      "\t\u001b[96m\u001b[1mblr\u001b[22m\u001b[39m\t\u001b[0mx8\n",
      "\t\u001b[0m.loh \u001b[0mAdrpLdrGot\t\u001b[91mLloh0\u001b[39m\u001b[0m, \u001b[91mLloh1\u001b[39m\n",
      "\t\u001b[0m.loh \u001b[0mAdrpLdrGot\t\u001b[91mLloh2\u001b[39m\u001b[0m, \u001b[91mLloh3\u001b[39m\n",
      "\t\u001b[0m.cfi_endproc\n",
      "\u001b[90m; └└└└└└└└└└└\u001b[39m\n",
      "                                        \u001b[90m; -- End function\u001b[39m\n",
      "\u001b[0m.subsections_via_symbols\n"
     ]
    }
   ],
   "source": [
    "@code_native findmin(x)"
   ]
  },
  {
   "cell_type": "code",
   "execution_count": 24,
   "metadata": {},
   "outputs": [],
   "source": [
    "using LoopVectorization"
   ]
  },
  {
   "cell_type": "code",
   "execution_count": 25,
   "metadata": {},
   "outputs": [
    {
     "data": {
      "text/plain": [
       "fast_findmin (generic function with 1 method)"
      ]
     },
     "metadata": {},
     "output_type": "display_data"
    }
   ],
   "source": [
    "fast_findmin(dij, n) = begin\n",
    "    best = 1\n",
    "    @inbounds dij_min = dij[1]\n",
    "    @turbo for here in 2:n\n",
    "        newmin = dij[here] < dij_min\n",
    "        best = newmin ? here : best\n",
    "        dij_min = newmin ? dij[here] : dij_min\n",
    "    end\n",
    "    dij_min, best\n",
    "end"
   ]
  },
  {
   "cell_type": "code",
   "execution_count": 26,
   "metadata": {},
   "outputs": [
    {
     "name": "stdout",
     "output_type": "stream",
     "text": [
      "  99.478 ns (1 allocation: 32 bytes)\n"
     ]
    },
    {
     "data": {
      "text/plain": [
       "(0.004679542062770881, 420)"
      ]
     },
     "metadata": {},
     "output_type": "display_data"
    }
   ],
   "source": [
    "@btime fast_findmin(x, 450)"
   ]
  },
  {
   "cell_type": "code",
   "execution_count": 27,
   "metadata": {},
   "outputs": [
    {
     "data": {
      "text/plain": [
       "BenchmarkTools.Trial: 10000 samples with 947 evaluations.\n",
       " Range \u001b[90m(\u001b[39m\u001b[36m\u001b[1mmin\u001b[22m\u001b[39m … \u001b[35mmax\u001b[39m\u001b[90m):  \u001b[39m\u001b[36m\u001b[1m 99.482 ns\u001b[22m\u001b[39m … \u001b[35m 1.468 μs\u001b[39m  \u001b[90m┊\u001b[39m GC \u001b[90m(\u001b[39mmin … max\u001b[90m): \u001b[39m0.00% … 90.26%\n",
       " Time  \u001b[90m(\u001b[39m\u001b[34m\u001b[1mmedian\u001b[22m\u001b[39m\u001b[90m):     \u001b[39m\u001b[34m\u001b[1m102.780 ns              \u001b[22m\u001b[39m\u001b[90m┊\u001b[39m GC \u001b[90m(\u001b[39mmedian\u001b[90m):    \u001b[39m0.00%\n",
       " Time  \u001b[90m(\u001b[39m\u001b[32m\u001b[1mmean\u001b[22m\u001b[39m ± \u001b[32mσ\u001b[39m\u001b[90m):   \u001b[39m\u001b[32m\u001b[1m104.663 ns\u001b[22m\u001b[39m ± \u001b[32m30.727 ns\u001b[39m  \u001b[90m┊\u001b[39m GC \u001b[90m(\u001b[39mmean ± σ\u001b[90m):  \u001b[39m0.70% ±  2.22%\n",
       "\n",
       "  \u001b[39m▇\u001b[39m█\u001b[39m▆\u001b[39m▂\u001b[39m▁\u001b[39m▁\u001b[39m▁\u001b[39m▃\u001b[39m▆\u001b[34m▆\u001b[39m\u001b[39m▄\u001b[39m▄\u001b[39m▄\u001b[39m▄\u001b[32m▂\u001b[39m\u001b[39m▂\u001b[39m▂\u001b[39m▂\u001b[39m▂\u001b[39m▂\u001b[39m▃\u001b[39m▃\u001b[39m▃\u001b[39m▂\u001b[39m▂\u001b[39m▁\u001b[39m▁\u001b[39m▂\u001b[39m▁\u001b[39m▂\u001b[39m▁\u001b[39m▁\u001b[39m▁\u001b[39m▁\u001b[39m▁\u001b[39m▁\u001b[39m \u001b[39m \u001b[39m \u001b[39m \u001b[39m \u001b[39m \u001b[39m \u001b[39m \u001b[39m \u001b[39m \u001b[39m \u001b[39m \u001b[39m \u001b[39m \u001b[39m \u001b[39m \u001b[39m \u001b[39m \u001b[39m \u001b[39m \u001b[39m \u001b[39m \u001b[39m \u001b[39m \u001b[39m \u001b[39m▂\n",
       "  \u001b[39m█\u001b[39m█\u001b[39m█\u001b[39m█\u001b[39m█\u001b[39m█\u001b[39m█\u001b[39m█\u001b[39m█\u001b[34m█\u001b[39m\u001b[39m█\u001b[39m█\u001b[39m█\u001b[39m█\u001b[32m█\u001b[39m\u001b[39m█\u001b[39m█\u001b[39m█\u001b[39m█\u001b[39m█\u001b[39m█\u001b[39m█\u001b[39m█\u001b[39m█\u001b[39m█\u001b[39m█\u001b[39m█\u001b[39m█\u001b[39m█\u001b[39m█\u001b[39m█\u001b[39m█\u001b[39m█\u001b[39m█\u001b[39m█\u001b[39m█\u001b[39m█\u001b[39m█\u001b[39m█\u001b[39m█\u001b[39m▇\u001b[39m▇\u001b[39m▇\u001b[39m█\u001b[39m█\u001b[39m▇\u001b[39m▇\u001b[39m▇\u001b[39m▇\u001b[39m▇\u001b[39m▆\u001b[39m▆\u001b[39m▇\u001b[39m▆\u001b[39m▆\u001b[39m▅\u001b[39m▅\u001b[39m▅\u001b[39m▆\u001b[39m▆\u001b[39m \u001b[39m█\n",
       "  99.5 ns\u001b[90m       \u001b[39m\u001b[90mHistogram: \u001b[39m\u001b[90m\u001b[1mlog(\u001b[22m\u001b[39m\u001b[90mfrequency\u001b[39m\u001b[90m\u001b[1m)\u001b[22m\u001b[39m\u001b[90m by time\u001b[39m       122 ns \u001b[0m\u001b[1m<\u001b[22m\n",
       "\n",
       " Memory estimate\u001b[90m: \u001b[39m\u001b[33m32 bytes\u001b[39m, allocs estimate\u001b[90m: \u001b[39m\u001b[33m1\u001b[39m."
      ]
     },
     "metadata": {},
     "output_type": "display_data"
    }
   ],
   "source": [
    "@benchmark fast_findmin(x, 450)"
   ]
  },
  {
   "cell_type": "code",
   "execution_count": 28,
   "metadata": {},
   "outputs": [
    {
     "data": {
      "text/plain": [
       "BenchmarkTools.Trial: 10000 samples with 1 evaluation.\n",
       " Range \u001b[90m(\u001b[39m\u001b[36m\u001b[1mmin\u001b[22m\u001b[39m … \u001b[35mmax\u001b[39m\u001b[90m):  \u001b[39m\u001b[36m\u001b[1m26.792 μs\u001b[22m\u001b[39m … \u001b[35m 1.257 ms\u001b[39m  \u001b[90m┊\u001b[39m GC \u001b[90m(\u001b[39mmin … max\u001b[90m): \u001b[39m0.00% … 95.82%\n",
       " Time  \u001b[90m(\u001b[39m\u001b[34m\u001b[1mmedian\u001b[22m\u001b[39m\u001b[90m):     \u001b[39m\u001b[34m\u001b[1m27.500 μs              \u001b[22m\u001b[39m\u001b[90m┊\u001b[39m GC \u001b[90m(\u001b[39mmedian\u001b[90m):    \u001b[39m0.00%\n",
       " Time  \u001b[90m(\u001b[39m\u001b[32m\u001b[1mmean\u001b[22m\u001b[39m ± \u001b[32mσ\u001b[39m\u001b[90m):   \u001b[39m\u001b[32m\u001b[1m28.748 μs\u001b[22m\u001b[39m ± \u001b[32m20.846 μs\u001b[39m  \u001b[90m┊\u001b[39m GC \u001b[90m(\u001b[39mmean ± σ\u001b[90m):  \u001b[39m1.22% ±  1.66%\n",
       "\n",
       "  \u001b[39m▃\u001b[39m█\u001b[39m█\u001b[39m█\u001b[34m▆\u001b[39m\u001b[39m▆\u001b[39m▅\u001b[39m▅\u001b[39m▅\u001b[39m▄\u001b[32m▃\u001b[39m\u001b[39m▂\u001b[39m▁\u001b[39m▁\u001b[39m▁\u001b[39m \u001b[39m \u001b[39m▁\u001b[39m▁\u001b[39m▂\u001b[39m▁\u001b[39m▁\u001b[39m▂\u001b[39m▂\u001b[39m▂\u001b[39m▂\u001b[39m▂\u001b[39m▂\u001b[39m \u001b[39m▁\u001b[39m \u001b[39m \u001b[39m \u001b[39m \u001b[39m \u001b[39m \u001b[39m \u001b[39m \u001b[39m \u001b[39m \u001b[39m \u001b[39m \u001b[39m \u001b[39m \u001b[39m \u001b[39m \u001b[39m \u001b[39m \u001b[39m \u001b[39m \u001b[39m \u001b[39m \u001b[39m \u001b[39m \u001b[39m \u001b[39m \u001b[39m \u001b[39m \u001b[39m \u001b[39m \u001b[39m▂\n",
       "  \u001b[39m█\u001b[39m█\u001b[39m█\u001b[39m█\u001b[34m█\u001b[39m\u001b[39m█\u001b[39m█\u001b[39m█\u001b[39m█\u001b[39m█\u001b[32m█\u001b[39m\u001b[39m█\u001b[39m█\u001b[39m█\u001b[39m█\u001b[39m▇\u001b[39m█\u001b[39m█\u001b[39m█\u001b[39m█\u001b[39m█\u001b[39m█\u001b[39m█\u001b[39m█\u001b[39m█\u001b[39m█\u001b[39m█\u001b[39m█\u001b[39m█\u001b[39m█\u001b[39m▇\u001b[39m█\u001b[39m▇\u001b[39m▇\u001b[39m▆\u001b[39m▆\u001b[39m▇\u001b[39m▆\u001b[39m▇\u001b[39m▆\u001b[39m▇\u001b[39m▇\u001b[39m█\u001b[39m▇\u001b[39m▇\u001b[39m▇\u001b[39m▆\u001b[39m▇\u001b[39m▅\u001b[39m█\u001b[39m▆\u001b[39m▆\u001b[39m▆\u001b[39m▅\u001b[39m▅\u001b[39m▅\u001b[39m▅\u001b[39m▅\u001b[39m▅\u001b[39m \u001b[39m█\n",
       "  26.8 μs\u001b[90m      \u001b[39m\u001b[90mHistogram: \u001b[39m\u001b[90m\u001b[1mlog(\u001b[22m\u001b[39m\u001b[90mfrequency\u001b[39m\u001b[90m\u001b[1m)\u001b[22m\u001b[39m\u001b[90m by time\u001b[39m        38 μs \u001b[0m\u001b[1m<\u001b[22m\n",
       "\n",
       " Memory estimate\u001b[90m: \u001b[39m\u001b[33m14.06 KiB\u001b[39m, allocs estimate\u001b[90m: \u001b[39m\u001b[33m450\u001b[39m."
      ]
     },
     "metadata": {},
     "output_type": "display_data"
    }
   ],
   "source": [
    "@benchmark for j in 450:-1:1 fast_findmin(x, j) end"
   ]
  },
  {
   "cell_type": "code",
   "execution_count": 29,
   "metadata": {},
   "outputs": [
    {
     "data": {
      "text/plain": [
       "BenchmarkTools.Trial: 10000 samples with 1 evaluation.\n",
       " Range \u001b[90m(\u001b[39m\u001b[36m\u001b[1mmin\u001b[22m\u001b[39m … \u001b[35mmax\u001b[39m\u001b[90m):  \u001b[39m\u001b[36m\u001b[1m137.208 μs\u001b[22m\u001b[39m … \u001b[35m 2.097 ms\u001b[39m  \u001b[90m┊\u001b[39m GC \u001b[90m(\u001b[39mmin … max\u001b[90m): \u001b[39m0.00% … 92.12%\n",
       " Time  \u001b[90m(\u001b[39m\u001b[34m\u001b[1mmedian\u001b[22m\u001b[39m\u001b[90m):     \u001b[39m\u001b[34m\u001b[1m140.250 μs              \u001b[22m\u001b[39m\u001b[90m┊\u001b[39m GC \u001b[90m(\u001b[39mmedian\u001b[90m):    \u001b[39m0.00%\n",
       " Time  \u001b[90m(\u001b[39m\u001b[32m\u001b[1mmean\u001b[22m\u001b[39m ± \u001b[32mσ\u001b[39m\u001b[90m):   \u001b[39m\u001b[32m\u001b[1m144.478 μs\u001b[22m\u001b[39m ± \u001b[32m59.364 μs\u001b[39m  \u001b[90m┊\u001b[39m GC \u001b[90m(\u001b[39mmean ± σ\u001b[90m):  \u001b[39m1.34% ±  3.04%\n",
       "\n",
       "  \u001b[39m▄\u001b[39m█\u001b[39m█\u001b[39m▇\u001b[39m▅\u001b[39m▄\u001b[39m▃\u001b[34m▄\u001b[39m\u001b[39m▄\u001b[39m▅\u001b[39m▅\u001b[39m▅\u001b[39m▄\u001b[39m▄\u001b[39m▃\u001b[39m▃\u001b[32m▃\u001b[39m\u001b[39m▃\u001b[39m▃\u001b[39m▄\u001b[39m▃\u001b[39m▃\u001b[39m▃\u001b[39m▂\u001b[39m▂\u001b[39m▂\u001b[39m▂\u001b[39m▂\u001b[39m▂\u001b[39m▂\u001b[39m▂\u001b[39m▂\u001b[39m▁\u001b[39m▁\u001b[39m \u001b[39m▁\u001b[39m▁\u001b[39m▁\u001b[39m \u001b[39m \u001b[39m \u001b[39m \u001b[39m \u001b[39m \u001b[39m \u001b[39m \u001b[39m \u001b[39m \u001b[39m \u001b[39m \u001b[39m \u001b[39m \u001b[39m \u001b[39m \u001b[39m \u001b[39m \u001b[39m \u001b[39m \u001b[39m \u001b[39m \u001b[39m \u001b[39m▂\n",
       "  \u001b[39m█\u001b[39m█\u001b[39m█\u001b[39m█\u001b[39m█\u001b[39m█\u001b[39m█\u001b[34m█\u001b[39m\u001b[39m█\u001b[39m█\u001b[39m█\u001b[39m█\u001b[39m█\u001b[39m█\u001b[39m█\u001b[39m█\u001b[32m█\u001b[39m\u001b[39m█\u001b[39m█\u001b[39m█\u001b[39m█\u001b[39m█\u001b[39m█\u001b[39m█\u001b[39m█\u001b[39m█\u001b[39m█\u001b[39m█\u001b[39m█\u001b[39m█\u001b[39m█\u001b[39m█\u001b[39m█\u001b[39m█\u001b[39m█\u001b[39m█\u001b[39m█\u001b[39m█\u001b[39m█\u001b[39m█\u001b[39m█\u001b[39m█\u001b[39m█\u001b[39m█\u001b[39m█\u001b[39m▇\u001b[39m█\u001b[39m▇\u001b[39m█\u001b[39m▇\u001b[39m▇\u001b[39m▇\u001b[39m▇\u001b[39m▆\u001b[39m▆\u001b[39m▆\u001b[39m▆\u001b[39m▇\u001b[39m▆\u001b[39m▆\u001b[39m \u001b[39m█\n",
       "  137 μs\u001b[90m        \u001b[39m\u001b[90mHistogram: \u001b[39m\u001b[90m\u001b[1mlog(\u001b[22m\u001b[39m\u001b[90mfrequency\u001b[39m\u001b[90m\u001b[1m)\u001b[22m\u001b[39m\u001b[90m by time\u001b[39m       164 μs \u001b[0m\u001b[1m<\u001b[22m\n",
       "\n",
       " Memory estimate\u001b[90m: \u001b[39m\u001b[33m49.22 KiB\u001b[39m, allocs estimate\u001b[90m: \u001b[39m\u001b[33m1350\u001b[39m."
      ]
     },
     "metadata": {},
     "output_type": "display_data"
    }
   ],
   "source": [
    "@benchmark for j in 450:-1:1 findmin(@view x[1:j]) end"
   ]
  },
  {
   "cell_type": "code",
   "execution_count": 30,
   "metadata": {},
   "outputs": [],
   "source": []
  }
 ],
 "metadata": {
  "kernelspec": {
   "display_name": "Julia 1.9.3",
   "language": "julia",
   "name": "julia-1.9"
  },
  "language_info": {
   "file_extension": ".jl",
   "mimetype": "application/julia",
   "name": "julia",
   "version": "1.9.3"
  }
 },
 "nbformat": 4,
 "nbformat_minor": 2
}

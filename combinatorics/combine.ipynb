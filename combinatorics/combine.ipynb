{
 "cells": [
  {
   "cell_type": "code",
   "execution_count": 2,
   "metadata": {},
   "outputs": [],
   "source": [
    "s = Set{Int}(collect(1:20));"
   ]
  },
  {
   "cell_type": "code",
   "execution_count": 3,
   "metadata": {},
   "outputs": [],
   "source": [
    "using Combinatorics"
   ]
  },
  {
   "cell_type": "code",
   "execution_count": 4,
   "metadata": {},
   "outputs": [
    {
     "ename": "MethodError",
     "evalue": "MethodError: no method matching combinations(::Set{Int64}, ::Set{Int64})\n\nClosest candidates are:\n  combinations(::Any)\n   @ Combinatorics ~/.julia/packages/Combinatorics/Udg6X/src/combinations.jl:59\n  combinations(::Any, !Matched::Integer)\n   @ Combinatorics ~/.julia/packages/Combinatorics/Udg6X/src/combinations.jl:43\n",
     "output_type": "error",
     "traceback": [
      "MethodError: no method matching combinations(::Set{Int64}, ::Set{Int64})\n",
      "\n",
      "Closest candidates are:\n",
      "  combinations(::Any)\n",
      "   @ Combinatorics ~/.julia/packages/Combinatorics/Udg6X/src/combinations.jl:59\n",
      "  combinations(::Any, !Matched::Integer)\n",
      "   @ Combinatorics ~/.julia/packages/Combinatorics/Udg6X/src/combinations.jl:43\n",
      "\n",
      "\n",
      "Stacktrace:\n",
      " [1] top-level scope\n",
      "   @ ~/code/julia-playground/combinatorics/combine.ipynb:1"
     ]
    }
   ],
   "source": [
    "for c in combinations(s, s)\n",
    "    println(c)\n",
    "end"
   ]
  },
  {
   "cell_type": "code",
   "execution_count": 5,
   "metadata": {},
   "outputs": [
    {
     "data": {
      "text/plain": [
       "20-element Vector{Int64}:\n",
       "  5\n",
       " 16\n",
       "  7\n",
       " 20\n",
       " 12\n",
       "  8\n",
       " 17\n",
       "  1\n",
       " 19\n",
       "  4\n",
       "  6\n",
       " 13\n",
       "  2\n",
       " 10\n",
       " 11\n",
       "  9\n",
       " 15\n",
       " 18\n",
       " 14\n",
       "  3"
      ]
     },
     "metadata": {},
     "output_type": "display_data"
    }
   ],
   "source": [
    "v = Vector{Int}(collect(s))"
   ]
  },
  {
   "cell_type": "code",
   "execution_count": null,
   "metadata": {},
   "outputs": [],
   "source": []
  }
 ],
 "metadata": {
  "kernelspec": {
   "display_name": "Julia 1.9.2",
   "language": "julia",
   "name": "julia-1.9"
  },
  "language_info": {
   "file_extension": ".jl",
   "mimetype": "application/julia",
   "name": "julia",
   "version": "1.9.2"
  },
  "orig_nbformat": 4
 },
 "nbformat": 4,
 "nbformat_minor": 2
}

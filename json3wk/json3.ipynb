{
 "cells": [
  {
   "cell_type": "code",
   "execution_count": 1,
   "metadata": {},
   "outputs": [],
   "source": [
    "using Pkg"
   ]
  },
  {
   "cell_type": "code",
   "execution_count": 2,
   "metadata": {},
   "outputs": [
    {
     "name": "stderr",
     "output_type": "stream",
     "text": [
      "\u001b[32m\u001b[1m  Activating\u001b[22m\u001b[39m project at `~/code/JetReconstruction.jl/notebooks/json3wk`\n"
     ]
    }
   ],
   "source": [
    "Pkg.activate(\"json3wk\")"
   ]
  },
  {
   "cell_type": "code",
   "execution_count": 3,
   "metadata": {},
   "outputs": [
    {
     "name": "stderr",
     "output_type": "stream",
     "text": [
      "\u001b[32m\u001b[1m   Resolving\u001b[22m\u001b[39m package versions...\n"
     ]
    },
    {
     "name": "stderr",
     "output_type": "stream",
     "text": [
      "\u001b[32m\u001b[1m  No Changes\u001b[22m\u001b[39m to `~/code/JetReconstruction.jl/notebooks/json3wk/Project.toml`\n",
      "\u001b[32m\u001b[1m  No Changes\u001b[22m\u001b[39m to `~/code/JetReconstruction.jl/notebooks/json3wk/Manifest.toml`\n"
     ]
    }
   ],
   "source": [
    "Pkg.develop(path=\"..\")"
   ]
  },
  {
   "cell_type": "code",
   "execution_count": 4,
   "metadata": {},
   "outputs": [
    {
     "name": "stderr",
     "output_type": "stream",
     "text": [
      "\u001b[32m\u001b[1m   Resolving\u001b[22m\u001b[39m package versions...\n",
      "\u001b[32m\u001b[1m  No Changes\u001b[22m\u001b[39m to `~/code/JetReconstruction.jl/notebooks/json3wk/Project.toml`\n",
      "\u001b[32m\u001b[1m  No Changes\u001b[22m\u001b[39m to `~/code/JetReconstruction.jl/notebooks/json3wk/Manifest.toml`\n"
     ]
    }
   ],
   "source": [
    "Pkg.add(\"Revise\")\n",
    "using Revise"
   ]
  },
  {
   "cell_type": "code",
   "execution_count": 5,
   "metadata": {},
   "outputs": [
    {
     "name": "stderr",
     "output_type": "stream",
     "text": [
      "\u001b[32m\u001b[1m  Activating\u001b[22m\u001b[39m project at `~/code/JetReconstruction.jl`\n"
     ]
    }
   ],
   "source": [
    "Pkg.activate(\"..\")\n",
    "using JetReconstruction"
   ]
  },
  {
   "cell_type": "code",
   "execution_count": 6,
   "metadata": {},
   "outputs": [
    {
     "name": "stderr",
     "output_type": "stream",
     "text": [
      "\u001b[32m\u001b[1m   Resolving\u001b[22m\u001b[39m package versions...\n",
      "\u001b[32m\u001b[1m  No Changes\u001b[22m\u001b[39m to `~/code/JetReconstruction.jl/Project.toml`\n",
      "\u001b[32m\u001b[1m  No Changes\u001b[22m\u001b[39m to `~/code/JetReconstruction.jl/Manifest.toml`\n"
     ]
    }
   ],
   "source": [
    "Pkg.add(\"JSON3\")\n",
    "using JSON3"
   ]
  },
  {
   "cell_type": "code",
   "execution_count": 7,
   "metadata": {},
   "outputs": [
    {
     "name": "stderr",
     "output_type": "stream",
     "text": [
      "\u001b[32m\u001b[1m   Resolving\u001b[22m\u001b[39m package versions...\n",
      "\u001b[32m\u001b[1m  No Changes\u001b[22m\u001b[39m to `~/code/JetReconstruction.jl/Project.toml`\n",
      "\u001b[32m\u001b[1m  No Changes\u001b[22m\u001b[39m to `~/code/JetReconstruction.jl/Manifest.toml`\n"
     ]
    }
   ],
   "source": [
    "Pkg.add(\"StructTypes\")\n",
    "using StructTypes"
   ]
  },
  {
   "cell_type": "code",
   "execution_count": 8,
   "metadata": {},
   "outputs": [],
   "source": [
    "struct FinalJet2\n",
    "    rap::Float64\n",
    "    phi::Float64\n",
    "    pt::Float64\n",
    "end\n",
    "\n",
    "struct FinalJets2\n",
    "    jetid::Int64\n",
    "    jets::Vector{FinalJet}\n",
    "end\n",
    "\n",
    "# Register types to be able to dump to JSON\n",
    "StructTypes.StructType(::Type{FinalJet2}) = StructTypes.Struct()\n",
    "StructTypes.StructType(::Type{FinalJets2}) = StructTypes.Struct()"
   ]
  },
  {
   "cell_type": "code",
   "execution_count": 23,
   "metadata": {},
   "outputs": [],
   "source": [
    "StructTypes.StructType(::Type{FinalJets}) = StructTypes.Struct()"
   ]
  },
  {
   "cell_type": "code",
   "execution_count": 9,
   "metadata": {},
   "outputs": [
    {
     "data": {
      "text/plain": [
       "FinalJet2(4.5, 6.7, 1.4)"
      ]
     },
     "metadata": {},
     "output_type": "display_data"
    }
   ],
   "source": [
    "a=FinalJet2(4.5, 6.7, 1.4)"
   ]
  },
  {
   "cell_type": "code",
   "execution_count": 17,
   "metadata": {},
   "outputs": [
    {
     "data": {
      "text/plain": [
       "\"{\\\"rap\\\":4.5,\\\"phi\\\":6.7,\\\"pt\\\":1.4}\""
      ]
     },
     "metadata": {},
     "output_type": "display_data"
    }
   ],
   "source": [
    "as=JSON3.write(a)"
   ]
  },
  {
   "cell_type": "code",
   "execution_count": 19,
   "metadata": {},
   "outputs": [
    {
     "data": {
      "text/plain": [
       "FinalJet2(4.5, 6.7, 1.4)"
      ]
     },
     "metadata": {},
     "output_type": "display_data"
    }
   ],
   "source": [
    "b=JSON3.read(as, FinalJet2)"
   ]
  },
  {
   "cell_type": "code",
   "execution_count": 25,
   "metadata": {},
   "outputs": [
    {
     "ename": "MethodError",
     "evalue": "MethodError: no method matching FinalJet2(::FinalJet2, ::FinalJet2)\n\nClosest candidates are:\n  FinalJet2(::Any, ::Any, !Matched::Any)\n   @ Main ~/code/JetReconstruction.jl/notebooks/json3.ipynb:2\n",
     "output_type": "error",
     "traceback": [
      "MethodError: no method matching FinalJet2(::FinalJet2, ::FinalJet2)\n",
      "\n",
      "Closest candidates are:\n",
      "  FinalJet2(::Any, ::Any, !Matched::Any)\n",
      "   @ Main ~/code/JetReconstruction.jl/notebooks/json3.ipynb:2\n",
      "\n",
      "\n",
      "Stacktrace:\n",
      " [1] top-level scope\n",
      "   @ ~/code/JetReconstruction.jl/notebooks/json3.ipynb:1"
     ]
    }
   ],
   "source": [
    "z=Vector::FinalJet2(a,b)"
   ]
  },
  {
   "cell_type": "code",
   "execution_count": 20,
   "metadata": {},
   "outputs": [
    {
     "ename": "MethodError",
     "evalue": "MethodError: no method matching read(::IOStream, ::Vector{FinalJets2})\n\nClosest candidates are:\n  read(::Union{Base.AbstractCmd, IO}; kw...)\n   @ JSON3 ~/.julia/packages/JSON3/CpNms/src/read.jl:9\n  read(::IO, !Matched::Type{T}; kw...) where T\n   @ JSON3 ~/.julia/packages/JSON3/CpNms/src/structs.jl:13\n  read(!Matched::StructTypes.Struct, ::Any, !Matched::Any, !Matched::Any, !Matched::Any, !Matched::Type{Any}; allow_inf, kw...)\n   @ JSON3 ~/.julia/packages/JSON3/CpNms/src/structs.jl:97\n  ...\n",
     "output_type": "error",
     "traceback": [
      "MethodError: no method matching read(::IOStream, ::Vector{FinalJets2})\n",
      "\n",
      "Closest candidates are:\n",
      "  read(::Union{Base.AbstractCmd, IO}; kw...)\n",
      "   @ JSON3 ~/.julia/packages/JSON3/CpNms/src/read.jl:9\n",
      "  read(::IO, !Matched::Type{T}; kw...) where T\n",
      "   @ JSON3 ~/.julia/packages/JSON3/CpNms/src/structs.jl:13\n",
      "  read(!Matched::StructTypes.Struct, ::Any, !Matched::Any, !Matched::Any, !Matched::Any, !Matched::Type{Any}; allow_inf, kw...)\n",
      "   @ JSON3 ~/.julia/packages/JSON3/CpNms/src/structs.jl:97\n",
      "  ...\n",
      "\n",
      "\n",
      "Stacktrace:\n",
      " [1] top-level scope\n",
      "   @ ~/code/JetReconstruction.jl/notebooks/json3.ipynb:2"
     ]
    }
   ],
   "source": [
    "f = open(\"../test/data/jet_collections_fastjet.json\")\n",
    "fjj=JSON3.read(f, FinalJets2[])\n",
    "close(f)"
   ]
  },
  {
   "cell_type": "code",
   "execution_count": 11,
   "metadata": {},
   "outputs": [
    {
     "ename": "UndefVarError",
     "evalue": "UndefVarError: `fjj` not defined",
     "output_type": "error",
     "traceback": [
      "UndefVarError: `fjj` not defined\n",
      "\n",
      "Stacktrace:\n",
      " [1] top-level scope\n",
      "   @ ~/code/JetReconstruction.jl/notebooks/json3.ipynb:1"
     ]
    }
   ],
   "source": [
    "fjj[1].jets"
   ]
  },
  {
   "cell_type": "code",
   "execution_count": 12,
   "metadata": {},
   "outputs": [
    {
     "data": {
      "text/plain": [
       "pt (generic function with 1 method)"
      ]
     },
     "metadata": {},
     "output_type": "display_data"
    }
   ],
   "source": [
    "pt(a) = a.pt"
   ]
  },
  {
   "cell_type": "code",
   "execution_count": 13,
   "metadata": {},
   "outputs": [
    {
     "ename": "UndefVarError",
     "evalue": "UndefVarError: `fjj` not defined",
     "output_type": "error",
     "traceback": [
      "UndefVarError: `fjj` not defined\n",
      "\n",
      "Stacktrace:\n",
      " [1] top-level scope\n",
      "   @ ~/code/JetReconstruction.jl/notebooks/json3.ipynb:1"
     ]
    }
   ],
   "source": [
    "sort!(fjj[1].jets, by=pt, rev=true)"
   ]
  },
  {
   "cell_type": "code",
   "execution_count": 14,
   "metadata": {},
   "outputs": [
    {
     "ename": "UndefVarError",
     "evalue": "UndefVarError: `fjj` not defined",
     "output_type": "error",
     "traceback": [
      "UndefVarError: `fjj` not defined\n",
      "\n",
      "Stacktrace:\n",
      " [1] top-level scope\n",
      "   @ ~/code/JetReconstruction.jl/notebooks/json3.ipynb:2"
     ]
    }
   ],
   "source": [
    "fj = FinalJets()\n",
    "for e in fjj\n",
    "    println(e.jetid)\n",
    "    sort(e.jets, by=pt, rev=true)\n",
    "end"
   ]
  },
  {
   "cell_type": "code",
   "execution_count": 15,
   "metadata": {},
   "outputs": [],
   "source": []
  }
 ],
 "metadata": {
  "kernelspec": {
   "display_name": "Julia 1.9.1",
   "language": "julia",
   "name": "julia-1.9"
  },
  "language_info": {
   "file_extension": ".jl",
   "mimetype": "application/julia",
   "name": "julia",
   "version": "1.9.1"
  },
  "orig_nbformat": 4
 },
 "nbformat": 4,
 "nbformat_minor": 2
}

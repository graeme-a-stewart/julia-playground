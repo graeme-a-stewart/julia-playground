{
 "cells": [
  {
   "cell_type": "code",
   "execution_count": 19,
   "metadata": {},
   "outputs": [],
   "source": [
    "using Revise\n",
    "using Pkg"
   ]
  },
  {
   "cell_type": "code",
   "execution_count": null,
   "metadata": {},
   "outputs": [],
   "source": []
  },
  {
   "cell_type": "code",
   "execution_count": 21,
   "metadata": {},
   "outputs": [
    {
     "data": {
      "text/plain": [
       "20-element Vector{Symbol}:\n",
       " Symbol(\"@pkg_str\")\n",
       " :PKGMODE_MANIFEST\n",
       " :PKGMODE_PROJECT\n",
       " :PRESERVE_ALL\n",
       " :PRESERVE_ALL_INSTALLED\n",
       " :PRESERVE_DIRECT\n",
       " :PRESERVE_NONE\n",
       " :PRESERVE_SEMVER\n",
       " :PRESERVE_TIERED\n",
       " :PRESERVE_TIERED_INSTALLED\n",
       " :PackageMode\n",
       " :PackageSpec\n",
       " :Pkg\n",
       " :PreserveLevel\n",
       " :Registry\n",
       " :RegistrySpec\n",
       " :UPLEVEL_MAJOR\n",
       " :UPLEVEL_MINOR\n",
       " :UPLEVEL_PATCH\n",
       " :UpgradeLevel"
      ]
     },
     "metadata": {},
     "output_type": "display_data"
    }
   ],
   "source": [
    "names(Pkg)"
   ]
  },
  {
   "cell_type": "code",
   "execution_count": 20,
   "metadata": {},
   "outputs": [
    {
     "ename": "UndefVarError",
     "evalue": "UndefVarError: `dev` not defined",
     "output_type": "error",
     "traceback": [
      "UndefVarError: `dev` not defined\n",
      "\n",
      "Stacktrace:\n",
      " [1] getproperty(x::Module, f::Symbol)\n",
      "   @ Base ./Base.jl:31\n",
      " [2] top-level scope\n",
      "   @ ~/code/julia-playground/lorentzvectors/lorentz.ipynb:2"
     ]
    }
   ],
   "source": [
    "using LorentzVectorHEP\n",
    "Pkg.dev(LorentzVectorHEP)"
   ]
  },
  {
   "cell_type": "code",
   "execution_count": 12,
   "metadata": {},
   "outputs": [
    {
     "data": {
      "text/plain": [
       "LorentzVector{Float64}(10.0, 1.2, 2.4, -0.4)"
      ]
     },
     "metadata": {},
     "output_type": "display_data"
    }
   ],
   "source": [
    "j=LorentzVector(10.0, 1.2, 2.4, -0.4)"
   ]
  },
  {
   "cell_type": "code",
   "execution_count": 13,
   "metadata": {},
   "outputs": [
    {
     "data": {
      "text/plain": [
       "-0.14852453216104491"
      ]
     },
     "metadata": {},
     "output_type": "display_data"
    }
   ],
   "source": [
    "eta(j)"
   ]
  },
  {
   "cell_type": "code",
   "execution_count": 14,
   "metadata": {},
   "outputs": [
    {
     "data": {
      "text/plain": [
       "1.1071487177940904"
      ]
     },
     "metadata": {},
     "output_type": "display_data"
    }
   ],
   "source": [
    "phi(j)"
   ]
  },
  {
   "cell_type": "code",
   "execution_count": 15,
   "metadata": {},
   "outputs": [
    {
     "data": {
      "text/plain": [
       "9.624967532412771"
      ]
     },
     "metadata": {},
     "output_type": "display_data"
    }
   ],
   "source": [
    "mass(j)"
   ]
  },
  {
   "cell_type": "code",
   "execution_count": 16,
   "metadata": {},
   "outputs": [
    {
     "data": {
      "text/plain": [
       "2.6832815729997477"
      ]
     },
     "metadata": {},
     "output_type": "display_data"
    }
   ],
   "source": [
    "pt(j)"
   ]
  },
  {
   "cell_type": "code",
   "execution_count": 17,
   "metadata": {},
   "outputs": [
    {
     "ename": "UndefVarError",
     "evalue": "UndefVarError: `rap` not defined",
     "output_type": "error",
     "traceback": [
      "UndefVarError: `rap` not defined\n",
      "\n",
      "Stacktrace:\n",
      " [1] top-level scope\n",
      "   @ ~/code/julia-playground/lorentzvectors/lorentz.ipynb:1"
     ]
    }
   ],
   "source": [
    "rap(j)"
   ]
  },
  {
   "cell_type": "code",
   "execution_count": 18,
   "metadata": {},
   "outputs": [],
   "source": []
  }
 ],
 "metadata": {
  "kernelspec": {
   "display_name": "Julia 1.9.3",
   "language": "julia",
   "name": "julia-1.9"
  },
  "language_info": {
   "file_extension": ".jl",
   "mimetype": "application/julia",
   "name": "julia",
   "version": "1.9.3"
  },
  "orig_nbformat": 4
 },
 "nbformat": 4,
 "nbformat_minor": 2
}

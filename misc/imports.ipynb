{
 "cells": [
  {
   "cell_type": "code",
   "execution_count": 1,
   "metadata": {},
   "outputs": [],
   "source": [
    "using StaticArrays"
   ]
  },
  {
   "cell_type": "code",
   "execution_count": 2,
   "metadata": {},
   "outputs": [
    {
     "data": {
      "text/plain": [
       "42-element Vector{Symbol}:\n",
       " Symbol(\"@MArray\")\n",
       " Symbol(\"@MMatrix\")\n",
       " Symbol(\"@MVector\")\n",
       " Symbol(\"@SArray\")\n",
       " Symbol(\"@SMatrix\")\n",
       " Symbol(\"@SVector\")\n",
       " :FieldArray\n",
       " :FieldMatrix\n",
       " :FieldVector\n",
       " :Length\n",
       " ⋮\n",
       " :deleteat\n",
       " :enumerate_static\n",
       " :insert\n",
       " :pop\n",
       " :popfirst\n",
       " :push\n",
       " :pushfirst\n",
       " :setindex\n",
       " :similar_type"
      ]
     },
     "metadata": {},
     "output_type": "display_data"
    }
   ],
   "source": [
    "names(StaticArrays)"
   ]
  },
  {
   "cell_type": "code",
   "execution_count": 6,
   "metadata": {},
   "outputs": [
    {
     "data": {
      "text/plain": [
       "3-element MVector{3, Float64} with indices SOneTo(3):\n",
       " 1.2\n",
       " 3.4\n",
       " 4.5"
      ]
     },
     "metadata": {},
     "output_type": "display_data"
    }
   ],
   "source": [
    "v=MVector(1.2,3.4,4.5)"
   ]
  },
  {
   "cell_type": "code",
   "execution_count": 7,
   "metadata": {},
   "outputs": [
    {
     "data": {
      "text/plain": [
       "1-element MVector{1, Float64} with indices SOneTo(1):\n",
       " 3.45"
      ]
     },
     "metadata": {},
     "output_type": "display_data"
    }
   ],
   "source": [
    "v1=MVector(3.45)"
   ]
  },
  {
   "cell_type": "code",
   "execution_count": 8,
   "metadata": {},
   "outputs": [
    {
     "data": {
      "text/plain": [
       "ripple (generic function with 1 method)"
      ]
     },
     "metadata": {},
     "output_type": "display_data"
    }
   ],
   "source": [
    "function ripple(value)\n",
    "    return MVector(value)\n",
    "end"
   ]
  },
  {
   "cell_type": "code",
   "execution_count": 9,
   "metadata": {},
   "outputs": [
    {
     "data": {
      "text/plain": [
       "1-element MVector{1, Float64} with indices SOneTo(1):\n",
       " 9.34"
      ]
     },
     "metadata": {},
     "output_type": "display_data"
    }
   ],
   "source": [
    "ripple(9.34)"
   ]
  },
  {
   "cell_type": "code",
   "execution_count": 18,
   "metadata": {},
   "outputs": [
    {
     "name": "stderr",
     "output_type": "stream",
     "text": [
      "WARNING: replacing module m.\n"
     ]
    },
    {
     "data": {
      "text/plain": [
       "Main.m"
      ]
     },
     "metadata": {},
     "output_type": "display_data"
    }
   ],
   "source": [
    "module m\n",
    "# Note in a *module* we must import what we want to use, as it's global namespace\n",
    "# is independent\n",
    "using StaticArrays\n",
    "function mmripple(value)\n",
    "    return MVector(value)\n",
    "end\n",
    "export mmripple\n",
    "end"
   ]
  },
  {
   "cell_type": "code",
   "execution_count": 19,
   "metadata": {},
   "outputs": [],
   "source": [
    "using .m"
   ]
  },
  {
   "cell_type": "code",
   "execution_count": 20,
   "metadata": {},
   "outputs": [
    {
     "data": {
      "text/plain": [
       "1-element MVector{1, Float64} with indices SOneTo(1):\n",
       " 6.38"
      ]
     },
     "metadata": {},
     "output_type": "display_data"
    }
   ],
   "source": [
    "mmripple(6.38)"
   ]
  },
  {
   "cell_type": "code",
   "execution_count": null,
   "metadata": {},
   "outputs": [],
   "source": []
  }
 ],
 "metadata": {
  "kernelspec": {
   "display_name": "Julia 1.9.2",
   "language": "julia",
   "name": "julia-1.9"
  },
  "language_info": {
   "file_extension": ".jl",
   "mimetype": "application/julia",
   "name": "julia",
   "version": "1.9.2"
  },
  "orig_nbformat": 4
 },
 "nbformat": 4,
 "nbformat_minor": 2
}

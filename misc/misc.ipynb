{
 "cells": [
  {
   "cell_type": "code",
   "execution_count": 1,
   "metadata": {},
   "outputs": [
    {
     "data": {
      "text/plain": [
       "7-element Vector{Int64}:\n",
       "  2\n",
       "  3\n",
       "  4\n",
       "  5\n",
       "  9\n",
       " 10\n",
       " 11"
      ]
     },
     "metadata": {},
     "output_type": "display_data"
    }
   ],
   "source": [
    "nA = [1,2,3,4,5,6,7,8]\n",
    "nB = [2,3,4,5,9,10,11]"
   ]
  },
  {
   "cell_type": "code",
   "execution_count": 43,
   "metadata": {},
   "outputs": [
    {
     "data": {
      "text/plain": [
       "7-element Vector{Int64}:\n",
       " 2\n",
       " 3\n",
       " 4\n",
       " 5\n",
       " 6\n",
       " 7\n",
       " 8"
      ]
     },
     "metadata": {},
     "output_type": "display_data"
    }
   ],
   "source": [
    "nA[2:last(nA)]"
   ]
  },
  {
   "cell_type": "code",
   "execution_count": 2,
   "metadata": {},
   "outputs": [],
   "source": [
    "using BenchmarkTools\n"
   ]
  },
  {
   "cell_type": "code",
   "execution_count": 3,
   "metadata": {},
   "outputs": [
    {
     "data": {
      "text/plain": [
       "Set{Int64}()"
      ]
     },
     "metadata": {},
     "output_type": "display_data"
    }
   ],
   "source": [
    "s=Set{Int64}()\n"
   ]
  },
  {
   "cell_type": "code",
   "execution_count": 4,
   "metadata": {},
   "outputs": [
    {
     "data": {
      "text/plain": [
       "BenchmarkTools.Trial: 10000 samples with 999 evaluations.\n",
       " Range \u001b[90m(\u001b[39m\u001b[36m\u001b[1mmin\u001b[22m\u001b[39m … \u001b[35mmax\u001b[39m\u001b[90m):  \u001b[39m\u001b[36m\u001b[1m11.970 ns\u001b[22m\u001b[39m … \u001b[35m49.842 ns\u001b[39m  \u001b[90m┊\u001b[39m GC \u001b[90m(\u001b[39mmin … max\u001b[90m): \u001b[39m0.00% … 0.00%\n",
       " Time  \u001b[90m(\u001b[39m\u001b[34m\u001b[1mmedian\u001b[22m\u001b[39m\u001b[90m):     \u001b[39m\u001b[34m\u001b[1m12.220 ns              \u001b[22m\u001b[39m\u001b[90m┊\u001b[39m GC \u001b[90m(\u001b[39mmedian\u001b[90m):    \u001b[39m0.00%\n",
       " Time  \u001b[90m(\u001b[39m\u001b[32m\u001b[1mmean\u001b[22m\u001b[39m ± \u001b[32mσ\u001b[39m\u001b[90m):   \u001b[39m\u001b[32m\u001b[1m12.605 ns\u001b[22m\u001b[39m ± \u001b[32m 1.324 ns\u001b[39m  \u001b[90m┊\u001b[39m GC \u001b[90m(\u001b[39mmean ± σ\u001b[90m):  \u001b[39m0.00% ± 0.00%\n",
       "\n",
       "  \u001b[39m▄\u001b[39m█\u001b[34m▆\u001b[39m\u001b[39m▂\u001b[39m \u001b[32m▂\u001b[39m\u001b[39m▂\u001b[39m▂\u001b[39m▄\u001b[39m▄\u001b[39m▁\u001b[39m \u001b[39m \u001b[39m \u001b[39m \u001b[39m \u001b[39m \u001b[39m \u001b[39m \u001b[39m \u001b[39m \u001b[39m \u001b[39m \u001b[39m \u001b[39m \u001b[39m \u001b[39m \u001b[39m \u001b[39m▁\u001b[39m \u001b[39m \u001b[39m \u001b[39m \u001b[39m \u001b[39m \u001b[39m \u001b[39m \u001b[39m \u001b[39m \u001b[39m \u001b[39m \u001b[39m \u001b[39m \u001b[39m \u001b[39m \u001b[39m \u001b[39m \u001b[39m \u001b[39m \u001b[39m \u001b[39m \u001b[39m \u001b[39m \u001b[39m \u001b[39m \u001b[39m \u001b[39m \u001b[39m \u001b[39m \u001b[39m \u001b[39m▂\n",
       "  \u001b[39m█\u001b[39m█\u001b[34m█\u001b[39m\u001b[39m█\u001b[39m▇\u001b[32m█\u001b[39m\u001b[39m█\u001b[39m█\u001b[39m█\u001b[39m█\u001b[39m█\u001b[39m▇\u001b[39m▇\u001b[39m▇\u001b[39m▇\u001b[39m▆\u001b[39m▆\u001b[39m▆\u001b[39m▆\u001b[39m▇\u001b[39m▆\u001b[39m▆\u001b[39m▇\u001b[39m▆\u001b[39m▆\u001b[39m▇\u001b[39m▇\u001b[39m█\u001b[39m█\u001b[39m█\u001b[39m▇\u001b[39m▇\u001b[39m█\u001b[39m▇\u001b[39m▇\u001b[39m▇\u001b[39m▅\u001b[39m▅\u001b[39m▄\u001b[39m▅\u001b[39m▄\u001b[39m▄\u001b[39m▅\u001b[39m▄\u001b[39m▃\u001b[39m▁\u001b[39m▁\u001b[39m▃\u001b[39m▄\u001b[39m▃\u001b[39m▃\u001b[39m▃\u001b[39m▄\u001b[39m▃\u001b[39m▃\u001b[39m▄\u001b[39m▁\u001b[39m▃\u001b[39m▅\u001b[39m \u001b[39m█\n",
       "  12 ns\u001b[90m        \u001b[39m\u001b[90mHistogram: \u001b[39m\u001b[90m\u001b[1mlog(\u001b[22m\u001b[39m\u001b[90mfrequency\u001b[39m\u001b[90m\u001b[1m)\u001b[22m\u001b[39m\u001b[90m by time\u001b[39m      19.6 ns \u001b[0m\u001b[1m<\u001b[22m\n",
       "\n",
       " Memory estimate\u001b[90m: \u001b[39m\u001b[33m0 bytes\u001b[39m, allocs estimate\u001b[90m: \u001b[39m\u001b[33m0\u001b[39m."
      ]
     },
     "metadata": {},
     "output_type": "display_data"
    }
   ],
   "source": [
    "@benchmark 5 in nA"
   ]
  },
  {
   "cell_type": "code",
   "execution_count": 5,
   "metadata": {},
   "outputs": [
    {
     "data": {
      "text/plain": [
       "BenchmarkTools.Trial: 10000 samples with 695 evaluations.\n",
       " Range \u001b[90m(\u001b[39m\u001b[36m\u001b[1mmin\u001b[22m\u001b[39m … \u001b[35mmax\u001b[39m\u001b[90m):  \u001b[39m\u001b[36m\u001b[1m182.794 ns\u001b[22m\u001b[39m … \u001b[35m 1.481 μs\u001b[39m  \u001b[90m┊\u001b[39m GC \u001b[90m(\u001b[39mmin … max\u001b[90m): \u001b[39m0.00% … 83.94%\n",
       " Time  \u001b[90m(\u001b[39m\u001b[34m\u001b[1mmedian\u001b[22m\u001b[39m\u001b[90m):     \u001b[39m\u001b[34m\u001b[1m186.391 ns              \u001b[22m\u001b[39m\u001b[90m┊\u001b[39m GC \u001b[90m(\u001b[39mmedian\u001b[90m):    \u001b[39m0.00%\n",
       " Time  \u001b[90m(\u001b[39m\u001b[32m\u001b[1mmean\u001b[22m\u001b[39m ± \u001b[32mσ\u001b[39m\u001b[90m):   \u001b[39m\u001b[32m\u001b[1m197.634 ns\u001b[22m\u001b[39m ± \u001b[32m75.047 ns\u001b[39m  \u001b[90m┊\u001b[39m GC \u001b[90m(\u001b[39mmean ± σ\u001b[90m):  \u001b[39m3.10% ±  6.76%\n",
       "\n",
       "  \u001b[39m▃\u001b[39m█\u001b[39m█\u001b[39m▅\u001b[34m▂\u001b[39m\u001b[39m▂\u001b[39m▃\u001b[39m▅\u001b[39m▅\u001b[39m▄\u001b[39m▃\u001b[39m▃\u001b[39m▃\u001b[39m▃\u001b[39m▃\u001b[39m▃\u001b[39m▃\u001b[32m▃\u001b[39m\u001b[39m▃\u001b[39m▃\u001b[39m▂\u001b[39m▂\u001b[39m▂\u001b[39m▂\u001b[39m▂\u001b[39m▁\u001b[39m▁\u001b[39m▁\u001b[39m▁\u001b[39m▁\u001b[39m▁\u001b[39m▁\u001b[39m▁\u001b[39m▁\u001b[39m▁\u001b[39m▁\u001b[39m \u001b[39m \u001b[39m \u001b[39m \u001b[39m \u001b[39m \u001b[39m \u001b[39m \u001b[39m \u001b[39m \u001b[39m \u001b[39m \u001b[39m \u001b[39m \u001b[39m \u001b[39m \u001b[39m \u001b[39m \u001b[39m \u001b[39m \u001b[39m \u001b[39m \u001b[39m \u001b[39m \u001b[39m \u001b[39m▂\n",
       "  \u001b[39m█\u001b[39m█\u001b[39m█\u001b[39m█\u001b[34m█\u001b[39m\u001b[39m█\u001b[39m█\u001b[39m█\u001b[39m█\u001b[39m█\u001b[39m█\u001b[39m█\u001b[39m█\u001b[39m█\u001b[39m█\u001b[39m█\u001b[39m█\u001b[32m█\u001b[39m\u001b[39m█\u001b[39m█\u001b[39m█\u001b[39m█\u001b[39m█\u001b[39m█\u001b[39m█\u001b[39m█\u001b[39m█\u001b[39m█\u001b[39m█\u001b[39m█\u001b[39m█\u001b[39m█\u001b[39m█\u001b[39m█\u001b[39m█\u001b[39m█\u001b[39m▇\u001b[39m█\u001b[39m█\u001b[39m▇\u001b[39m▇\u001b[39m▇\u001b[39m▇\u001b[39m▇\u001b[39m▇\u001b[39m▇\u001b[39m▆\u001b[39m▆\u001b[39m▄\u001b[39m▅\u001b[39m▅\u001b[39m▄\u001b[39m▅\u001b[39m▄\u001b[39m▄\u001b[39m▄\u001b[39m▄\u001b[39m▄\u001b[39m▅\u001b[39m▄\u001b[39m \u001b[39m█\n",
       "  183 ns\u001b[90m        \u001b[39m\u001b[90mHistogram: \u001b[39m\u001b[90m\u001b[1mlog(\u001b[22m\u001b[39m\u001b[90mfrequency\u001b[39m\u001b[90m\u001b[1m)\u001b[22m\u001b[39m\u001b[90m by time\u001b[39m       234 ns \u001b[0m\u001b[1m<\u001b[22m\n",
       "\n",
       " Memory estimate\u001b[90m: \u001b[39m\u001b[33m480 bytes\u001b[39m, allocs estimate\u001b[90m: \u001b[39m\u001b[33m3\u001b[39m."
      ]
     },
     "metadata": {},
     "output_type": "display_data"
    }
   ],
   "source": [
    "@benchmark begin\n",
    "    empty!(s)\n",
    "    union!(s, nA)\n",
    "    union!(s, nB)\n",
    "end"
   ]
  },
  {
   "cell_type": "code",
   "execution_count": 6,
   "metadata": {},
   "outputs": [
    {
     "data": {
      "text/plain": [
       "BenchmarkTools.Trial: 10000 samples with 47 evaluations.\n",
       " Range \u001b[90m(\u001b[39m\u001b[36m\u001b[1mmin\u001b[22m\u001b[39m … \u001b[35mmax\u001b[39m\u001b[90m):  \u001b[39m\u001b[36m\u001b[1m883.872 ns\u001b[22m\u001b[39m … \u001b[35m 21.660 μs\u001b[39m  \u001b[90m┊\u001b[39m GC \u001b[90m(\u001b[39mmin … max\u001b[90m): \u001b[39m0.00% … 94.42%\n",
       " Time  \u001b[90m(\u001b[39m\u001b[34m\u001b[1mmedian\u001b[22m\u001b[39m\u001b[90m):     \u001b[39m\u001b[34m\u001b[1m908.691 ns               \u001b[22m\u001b[39m\u001b[90m┊\u001b[39m GC \u001b[90m(\u001b[39mmedian\u001b[90m):    \u001b[39m0.00%\n",
       " Time  \u001b[90m(\u001b[39m\u001b[32m\u001b[1mmean\u001b[22m\u001b[39m ± \u001b[32mσ\u001b[39m\u001b[90m):   \u001b[39m\u001b[32m\u001b[1m952.289 ns\u001b[22m\u001b[39m ± \u001b[32m421.354 ns\u001b[39m  \u001b[90m┊\u001b[39m GC \u001b[90m(\u001b[39mmean ± σ\u001b[90m):  \u001b[39m0.95% ±  2.10%\n",
       "\n",
       "  \u001b[39m \u001b[39m▅\u001b[39m█\u001b[39m█\u001b[39m▆\u001b[34m▅\u001b[39m\u001b[39m▅\u001b[39m▄\u001b[39m▄\u001b[39m▄\u001b[39m▄\u001b[39m▃\u001b[39m▃\u001b[32m▃\u001b[39m\u001b[39m▂\u001b[39m▂\u001b[39m▃\u001b[39m▃\u001b[39m▃\u001b[39m▃\u001b[39m▂\u001b[39m▂\u001b[39m▂\u001b[39m▂\u001b[39m▁\u001b[39m▂\u001b[39m▂\u001b[39m▂\u001b[39m▂\u001b[39m▁\u001b[39m \u001b[39m▁\u001b[39m▁\u001b[39m▁\u001b[39m▁\u001b[39m \u001b[39m \u001b[39m \u001b[39m \u001b[39m \u001b[39m \u001b[39m▁\u001b[39m▁\u001b[39m \u001b[39m \u001b[39m \u001b[39m \u001b[39m \u001b[39m \u001b[39m \u001b[39m \u001b[39m \u001b[39m \u001b[39m \u001b[39m \u001b[39m \u001b[39m \u001b[39m \u001b[39m \u001b[39m \u001b[39m \u001b[39m \u001b[39m▂\n",
       "  \u001b[39m█\u001b[39m█\u001b[39m█\u001b[39m█\u001b[39m█\u001b[34m█\u001b[39m\u001b[39m█\u001b[39m█\u001b[39m█\u001b[39m█\u001b[39m█\u001b[39m█\u001b[39m█\u001b[32m█\u001b[39m\u001b[39m█\u001b[39m█\u001b[39m█\u001b[39m█\u001b[39m█\u001b[39m█\u001b[39m█\u001b[39m█\u001b[39m█\u001b[39m█\u001b[39m█\u001b[39m█\u001b[39m█\u001b[39m█\u001b[39m█\u001b[39m█\u001b[39m█\u001b[39m█\u001b[39m█\u001b[39m█\u001b[39m█\u001b[39m█\u001b[39m█\u001b[39m█\u001b[39m█\u001b[39m█\u001b[39m█\u001b[39m█\u001b[39m█\u001b[39m▇\u001b[39m█\u001b[39m▇\u001b[39m▇\u001b[39m▆\u001b[39m▇\u001b[39m▆\u001b[39m█\u001b[39m▇\u001b[39m▇\u001b[39m▇\u001b[39m▇\u001b[39m▆\u001b[39m▆\u001b[39m▆\u001b[39m▆\u001b[39m▅\u001b[39m▆\u001b[39m \u001b[39m█\n",
       "  884 ns\u001b[90m        \u001b[39m\u001b[90mHistogram: \u001b[39m\u001b[90m\u001b[1mlog(\u001b[22m\u001b[39m\u001b[90mfrequency\u001b[39m\u001b[90m\u001b[1m)\u001b[22m\u001b[39m\u001b[90m by time\u001b[39m        1.2 μs \u001b[0m\u001b[1m<\u001b[22m\n",
       "\n",
       " Memory estimate\u001b[90m: \u001b[39m\u001b[33m480 bytes\u001b[39m, allocs estimate\u001b[90m: \u001b[39m\u001b[33m15\u001b[39m."
      ]
     },
     "metadata": {},
     "output_type": "display_data"
    }
   ],
   "source": [
    "v=Vector{Int64}()\n",
    "@benchmark begin\n",
    "    empty!(v)\n",
    "    for n in nA\n",
    "        if !(n in v)\n",
    "            push!(v, n)\n",
    "        end\n",
    "    end\n",
    "    for n in nB\n",
    "        if !(n in v)\n",
    "            push!(v, n)\n",
    "        end\n",
    "    end\n",
    "end"
   ]
  },
  {
   "cell_type": "code",
   "execution_count": 7,
   "metadata": {},
   "outputs": [
    {
     "data": {
      "text/plain": [
       "BenchmarkTools.Trial: 10000 samples with 37 evaluations.\n",
       " Range \u001b[90m(\u001b[39m\u001b[36m\u001b[1mmin\u001b[22m\u001b[39m … \u001b[35mmax\u001b[39m\u001b[90m):  \u001b[39m\u001b[36m\u001b[1m905.405 ns\u001b[22m\u001b[39m … \u001b[35m 33.736 μs\u001b[39m  \u001b[90m┊\u001b[39m GC \u001b[90m(\u001b[39mmin … max\u001b[90m): \u001b[39m0.00% … 95.05%\n",
       " Time  \u001b[90m(\u001b[39m\u001b[34m\u001b[1mmedian\u001b[22m\u001b[39m\u001b[90m):     \u001b[39m\u001b[34m\u001b[1m925.676 ns               \u001b[22m\u001b[39m\u001b[90m┊\u001b[39m GC \u001b[90m(\u001b[39mmedian\u001b[90m):    \u001b[39m0.00%\n",
       " Time  \u001b[90m(\u001b[39m\u001b[32m\u001b[1mmean\u001b[22m\u001b[39m ± \u001b[32mσ\u001b[39m\u001b[90m):   \u001b[39m\u001b[32m\u001b[1m981.103 ns\u001b[22m\u001b[39m ± \u001b[32m604.233 ns\u001b[39m  \u001b[90m┊\u001b[39m GC \u001b[90m(\u001b[39mmean ± σ\u001b[90m):  \u001b[39m1.33% ±  2.12%\n",
       "\n",
       "  \u001b[39m▃\u001b[39m▇\u001b[39m█\u001b[34m▅\u001b[39m\u001b[39m▃\u001b[39m▄\u001b[39m▄\u001b[39m▃\u001b[39m▄\u001b[39m▅\u001b[39m▃\u001b[39m▃\u001b[32m▂\u001b[39m\u001b[39m▂\u001b[39m▂\u001b[39m▁\u001b[39m▂\u001b[39m▂\u001b[39m▂\u001b[39m▂\u001b[39m▂\u001b[39m▂\u001b[39m▂\u001b[39m▂\u001b[39m▂\u001b[39m▂\u001b[39m▁\u001b[39m▁\u001b[39m \u001b[39m \u001b[39m \u001b[39m \u001b[39m \u001b[39m \u001b[39m \u001b[39m \u001b[39m \u001b[39m \u001b[39m \u001b[39m \u001b[39m \u001b[39m \u001b[39m \u001b[39m \u001b[39m \u001b[39m \u001b[39m \u001b[39m \u001b[39m \u001b[39m \u001b[39m \u001b[39m \u001b[39m \u001b[39m \u001b[39m \u001b[39m \u001b[39m \u001b[39m \u001b[39m \u001b[39m \u001b[39m \u001b[39m \u001b[39m▂\n",
       "  \u001b[39m█\u001b[39m█\u001b[39m█\u001b[34m█\u001b[39m\u001b[39m█\u001b[39m█\u001b[39m█\u001b[39m█\u001b[39m█\u001b[39m█\u001b[39m█\u001b[39m█\u001b[32m█\u001b[39m\u001b[39m█\u001b[39m█\u001b[39m█\u001b[39m█\u001b[39m█\u001b[39m█\u001b[39m█\u001b[39m█\u001b[39m█\u001b[39m█\u001b[39m█\u001b[39m█\u001b[39m█\u001b[39m█\u001b[39m█\u001b[39m█\u001b[39m█\u001b[39m█\u001b[39m█\u001b[39m█\u001b[39m█\u001b[39m▇\u001b[39m█\u001b[39m█\u001b[39m█\u001b[39m█\u001b[39m█\u001b[39m▇\u001b[39m█\u001b[39m█\u001b[39m▇\u001b[39m█\u001b[39m▆\u001b[39m█\u001b[39m▇\u001b[39m▇\u001b[39m▆\u001b[39m▇\u001b[39m▅\u001b[39m▅\u001b[39m▅\u001b[39m▅\u001b[39m▆\u001b[39m▆\u001b[39m▅\u001b[39m▅\u001b[39m▄\u001b[39m▄\u001b[39m \u001b[39m█\n",
       "  905 ns\u001b[90m        \u001b[39m\u001b[90mHistogram: \u001b[39m\u001b[90m\u001b[1mlog(\u001b[22m\u001b[39m\u001b[90mfrequency\u001b[39m\u001b[90m\u001b[1m)\u001b[22m\u001b[39m\u001b[90m by time\u001b[39m       1.28 μs \u001b[0m\u001b[1m<\u001b[22m\n",
       "\n",
       " Memory estimate\u001b[90m: \u001b[39m\u001b[33m656 bytes\u001b[39m, allocs estimate\u001b[90m: \u001b[39m\u001b[33m16\u001b[39m."
      ]
     },
     "metadata": {},
     "output_type": "display_data"
    }
   ],
   "source": [
    "done = Vector{Int64}()\n",
    "@benchmark begin \n",
    "    empty!(done)\n",
    "    for i in vcat(nA, nB)\n",
    "        if !(i in done)\n",
    "            push!(done, i)\n",
    "        end\n",
    "    end\n",
    "end"
   ]
  },
  {
   "cell_type": "code",
   "execution_count": 8,
   "metadata": {},
   "outputs": [
    {
     "data": {
      "text/plain": [
       "Set{Int64} with 9 elements:\n",
       "  5\n",
       "  4\n",
       "  6\n",
       "  7\n",
       "  2\n",
       "  9\n",
       "  8\n",
       "  3\n",
       "  1"
      ]
     },
     "metadata": {},
     "output_type": "display_data"
    }
   ],
   "source": [
    "a = Set(1:9)"
   ]
  },
  {
   "cell_type": "code",
   "execution_count": 9,
   "metadata": {},
   "outputs": [
    {
     "data": {
      "text/plain": [
       "true"
      ]
     },
     "metadata": {},
     "output_type": "display_data"
    }
   ],
   "source": [
    "5 in a"
   ]
  },
  {
   "cell_type": "code",
   "execution_count": 10,
   "metadata": {},
   "outputs": [
    {
     "data": {
      "text/plain": [
       "== (generic function with 189 methods)"
      ]
     },
     "metadata": {},
     "output_type": "display_data"
    }
   ],
   "source": [
    "mutable struct pair\n",
    "    a::Int64\n",
    "    b::Int64\n",
    "end\n",
    "import Base.hash\n",
    "hash(x::pair) = begin\n",
    "    hash(hash(x.a), hash(x.b))\n",
    "end\n",
    "import Base.==\n",
    "==(x::pair,y::pair) = hash(x)==hash(y)"
   ]
  },
  {
   "cell_type": "code",
   "execution_count": 11,
   "metadata": {},
   "outputs": [
    {
     "data": {
      "text/plain": [
       "0xc8950fedffc2833e"
      ]
     },
     "metadata": {},
     "output_type": "display_data"
    }
   ],
   "source": [
    "hash(pair(5,6))"
   ]
  },
  {
   "cell_type": "code",
   "execution_count": 12,
   "metadata": {},
   "outputs": [
    {
     "data": {
      "text/plain": [
       "0x042724ff42bacd24"
      ]
     },
     "metadata": {},
     "output_type": "display_data"
    }
   ],
   "source": [
    "hash(pair(1,2))"
   ]
  },
  {
   "cell_type": "code",
   "execution_count": 13,
   "metadata": {},
   "outputs": [
    {
     "data": {
      "text/plain": [
       "Set{pair}()"
      ]
     },
     "metadata": {},
     "output_type": "display_data"
    }
   ],
   "source": [
    "ms = Set{pair}()"
   ]
  },
  {
   "cell_type": "code",
   "execution_count": 14,
   "metadata": {},
   "outputs": [
    {
     "data": {
      "text/plain": [
       "Set{pair} with 5 elements:\n",
       "  pair(2, 1)\n",
       "  pair(9, 8)\n",
       "  pair(6, 7)\n",
       "  pair(3, 9)\n",
       "  pair(3, 4)"
      ]
     },
     "metadata": {},
     "output_type": "display_data"
    }
   ],
   "source": [
    "push!(ms, pair(3,4))\n",
    "push!(ms, pair(6,7))\n",
    "push!(ms, pair(3,9))\n",
    "push!(ms, pair(3,4))\n",
    "push!(ms, pair(2,1))\n",
    "push!(ms, pair(9,8))\n",
    "push!(ms, pair(3,4))"
   ]
  },
  {
   "cell_type": "code",
   "execution_count": 15,
   "metadata": {},
   "outputs": [
    {
     "data": {
      "text/plain": [
       "true"
      ]
     },
     "metadata": {},
     "output_type": "display_data"
    }
   ],
   "source": [
    "pair(3,4) in ms"
   ]
  },
  {
   "cell_type": "code",
   "execution_count": 16,
   "metadata": {},
   "outputs": [
    {
     "data": {
      "text/plain": [
       "BenchmarkTools.Trial: 10000 samples with 992 evaluations.\n",
       " Range \u001b[90m(\u001b[39m\u001b[36m\u001b[1mmin\u001b[22m\u001b[39m … \u001b[35mmax\u001b[39m\u001b[90m):  \u001b[39m\u001b[36m\u001b[1m39.609 ns\u001b[22m\u001b[39m … \u001b[35m 1.133 μs\u001b[39m  \u001b[90m┊\u001b[39m GC \u001b[90m(\u001b[39mmin … max\u001b[90m): \u001b[39m0.00% … 93.57%\n",
       " Time  \u001b[90m(\u001b[39m\u001b[34m\u001b[1mmedian\u001b[22m\u001b[39m\u001b[90m):     \u001b[39m\u001b[34m\u001b[1m41.457 ns              \u001b[22m\u001b[39m\u001b[90m┊\u001b[39m GC \u001b[90m(\u001b[39mmedian\u001b[90m):    \u001b[39m0.00%\n",
       " Time  \u001b[90m(\u001b[39m\u001b[32m\u001b[1mmean\u001b[22m\u001b[39m ± \u001b[32mσ\u001b[39m\u001b[90m):   \u001b[39m\u001b[32m\u001b[1m43.893 ns\u001b[22m\u001b[39m ± \u001b[32m32.956 ns\u001b[39m  \u001b[90m┊\u001b[39m GC \u001b[90m(\u001b[39mmean ± σ\u001b[90m):  \u001b[39m2.62% ±  3.37%\n",
       "\n",
       "  \u001b[39m \u001b[39m▁\u001b[39m█\u001b[39m▂\u001b[39m \u001b[39m \u001b[39m \u001b[34m \u001b[39m\u001b[39m \u001b[39m \u001b[39m \u001b[39m \u001b[39m \u001b[39m \u001b[39m \u001b[39m \u001b[32m \u001b[39m\u001b[39m \u001b[39m \u001b[39m \u001b[39m \u001b[39m \u001b[39m \u001b[39m \u001b[39m \u001b[39m \u001b[39m \u001b[39m \u001b[39m \u001b[39m \u001b[39m \u001b[39m \u001b[39m \u001b[39m \u001b[39m \u001b[39m \u001b[39m \u001b[39m \u001b[39m \u001b[39m \u001b[39m \u001b[39m \u001b[39m \u001b[39m \u001b[39m \u001b[39m \u001b[39m \u001b[39m \u001b[39m \u001b[39m \u001b[39m \u001b[39m \u001b[39m \u001b[39m \u001b[39m \u001b[39m \u001b[39m \u001b[39m \u001b[39m \u001b[39m \u001b[39m \n",
       "  \u001b[39m▂\u001b[39m█\u001b[39m█\u001b[39m█\u001b[39m▆\u001b[39m▄\u001b[39m▄\u001b[34m▄\u001b[39m\u001b[39m▅\u001b[39m▅\u001b[39m▃\u001b[39m▃\u001b[39m▃\u001b[39m▃\u001b[39m▃\u001b[39m▃\u001b[32m▂\u001b[39m\u001b[39m▂\u001b[39m▂\u001b[39m▂\u001b[39m▂\u001b[39m▂\u001b[39m▂\u001b[39m▂\u001b[39m▂\u001b[39m▂\u001b[39m▂\u001b[39m▂\u001b[39m▂\u001b[39m▂\u001b[39m▁\u001b[39m▁\u001b[39m▁\u001b[39m▂\u001b[39m▂\u001b[39m▁\u001b[39m▁\u001b[39m▁\u001b[39m▁\u001b[39m▁\u001b[39m▁\u001b[39m▁\u001b[39m▁\u001b[39m▁\u001b[39m▁\u001b[39m▁\u001b[39m▁\u001b[39m▁\u001b[39m▁\u001b[39m▁\u001b[39m▁\u001b[39m▁\u001b[39m▁\u001b[39m▁\u001b[39m▁\u001b[39m▁\u001b[39m▁\u001b[39m▁\u001b[39m▁\u001b[39m \u001b[39m▂\n",
       "  39.6 ns\u001b[90m         Histogram: frequency by time\u001b[39m        55.2 ns \u001b[0m\u001b[1m<\u001b[22m\n",
       "\n",
       " Memory estimate\u001b[90m: \u001b[39m\u001b[33m64 bytes\u001b[39m, allocs estimate\u001b[90m: \u001b[39m\u001b[33m2\u001b[39m."
      ]
     },
     "metadata": {},
     "output_type": "display_data"
    }
   ],
   "source": [
    "@benchmark begin\n",
    "    pair(3,4) in ms\n",
    "    pair(9,22) in ms\n",
    "end"
   ]
  },
  {
   "cell_type": "code",
   "execution_count": 17,
   "metadata": {},
   "outputs": [
    {
     "data": {
      "text/plain": [
       "in (generic function with 37 methods)"
      ]
     },
     "metadata": {},
     "output_type": "display_data"
    }
   ],
   "source": [
    "import Base.in\n",
    "in(x::pair, y::AbstractArray{pair}) = begin\n",
    "    for n in y\n",
    "        if x==n\n",
    "            return true\n",
    "        end\n",
    "    end\n",
    "    false\n",
    "end"
   ]
  },
  {
   "cell_type": "code",
   "execution_count": 18,
   "metadata": {},
   "outputs": [
    {
     "data": {
      "text/plain": [
       "true"
      ]
     },
     "metadata": {},
     "output_type": "display_data"
    }
   ],
   "source": [
    "pair(3,4) in ms"
   ]
  },
  {
   "cell_type": "code",
   "execution_count": 19,
   "metadata": {},
   "outputs": [],
   "source": [
    "# \"\"\"Nearest neighbour coordinates\"\"\"\n",
    "# mutable struct TiledNN\n",
    "#     _itile::Int           # Jet tile index (flattened)\n",
    "#     _ijet::Int            # Jet position in this tile\n",
    "# end\n",
    "\n",
    "# \"\"\"Equality operator for tiled coordinates\"\"\"\n",
    "# ==(x::TiledNN,y::TiledNN) = (x._itile == y._itile) && (x._ijet == y._ijet)"
   ]
  },
  {
   "cell_type": "code",
   "execution_count": 20,
   "metadata": {},
   "outputs": [
    {
     "data": {
      "text/plain": [
       "Set{pair} with 5 elements:\n",
       "  pair(2, 1)\n",
       "  pair(9, 8)\n",
       "  pair(6, 7)\n",
       "  pair(3, 9)\n",
       "  pair(3, 4)"
      ]
     },
     "metadata": {},
     "output_type": "display_data"
    }
   ],
   "source": [
    "ms"
   ]
  },
  {
   "cell_type": "code",
   "execution_count": 21,
   "metadata": {},
   "outputs": [
    {
     "ename": "MethodError",
     "evalue": "MethodError: Cannot `convert` an object of type Nothing to an object of type pair\n\nClosest candidates are:\n  convert(::Type{T}, !Matched::T) where T\n   @ Base Base.jl:64\n  pair(::Any, !Matched::Any)\n   @ Main ~/code/julia-playground/misc/misc.ipynb:2\n",
     "output_type": "error",
     "traceback": [
      "MethodError: Cannot `convert` an object of type Nothing to an object of type pair\n",
      "\n",
      "Closest candidates are:\n",
      "  convert(::Type{T}, !Matched::T) where T\n",
      "   @ Base Base.jl:64\n",
      "  pair(::Any, !Matched::Any)\n",
      "   @ Main ~/code/julia-playground/misc/misc.ipynb:2\n",
      "\n",
      "\n",
      "Stacktrace:\n",
      " [1] setindex!(h::Dict{pair, Nothing}, v0::Nothing, key0::Nothing)\n",
      "   @ Base ./dict.jl:361\n",
      " [2] push!(s::Set{pair}, x::Nothing)\n",
      "   @ Base ./set.jl:103\n",
      " [3] top-level scope\n",
      "   @ ~/code/julia-playground/misc/misc.ipynb:1"
     ]
    }
   ],
   "source": [
    "push!(ms, nothing)"
   ]
  },
  {
   "cell_type": "code",
   "execution_count": 22,
   "metadata": {},
   "outputs": [
    {
     "data": {
      "text/plain": [
       "\"ken:love:barbie:nice:pots\""
      ]
     },
     "metadata": {},
     "output_type": "display_data"
    }
   ],
   "source": [
    "s=\"ken:love:barbie:nice:pots\""
   ]
  },
  {
   "cell_type": "code",
   "execution_count": 23,
   "metadata": {},
   "outputs": [
    {
     "data": {
      "text/plain": [
       "5-element Vector{SubString{String}}:\n",
       " \"ken\"\n",
       " \"love\"\n",
       " \"barbie\"\n",
       " \"nice\"\n",
       " \"pots\""
      ]
     },
     "metadata": {},
     "output_type": "display_data"
    }
   ],
   "source": [
    "p=split(s, \":\")"
   ]
  },
  {
   "cell_type": "code",
   "execution_count": 24,
   "metadata": {},
   "outputs": [
    {
     "data": {
      "text/plain": [
       "\"mazeofbits\""
      ]
     },
     "metadata": {},
     "output_type": "display_data"
    }
   ],
   "source": [
    "p[1] = \"mazeofbits\""
   ]
  },
  {
   "cell_type": "code",
   "execution_count": 25,
   "metadata": {},
   "outputs": [
    {
     "data": {
      "text/plain": [
       "5-element Vector{SubString{String}}:\n",
       " \"mazeofbits\"\n",
       " \"love\"\n",
       " \"barbie\"\n",
       " \"nice\"\n",
       " \"pots\""
      ]
     },
     "metadata": {},
     "output_type": "display_data"
    }
   ],
   "source": [
    "p"
   ]
  },
  {
   "cell_type": "code",
   "execution_count": 26,
   "metadata": {},
   "outputs": [
    {
     "data": {
      "text/plain": [
       "\"ken:love:barbie:nice:pots\""
      ]
     },
     "metadata": {},
     "output_type": "display_data"
    }
   ],
   "source": [
    "s"
   ]
  },
  {
   "cell_type": "code",
   "execution_count": 27,
   "metadata": {},
   "outputs": [
    {
     "data": {
      "text/plain": [
       "Dict{String, Int64} with 3 entries:\n",
       "  \"k1\"  => 34\n",
       "  \"jip\" => 999\n",
       "  \"k2\"  => 99"
      ]
     },
     "metadata": {},
     "output_type": "display_data"
    }
   ],
   "source": [
    "d=Dict([(\"k1\", 34), (\"k2\", 99), (\"jip\", 999)])"
   ]
  },
  {
   "cell_type": "code",
   "execution_count": 28,
   "metadata": {},
   "outputs": [
    {
     "name": "stdout",
     "output_type": "stream",
     "text": [
      "Pair{String, Int64}\n",
      "k1 34\n",
      "Pair{String, Int64}\n",
      "jip 999\n",
      "Pair{String, Int64}\n",
      "k2 99\n"
     ]
    }
   ],
   "source": [
    "for k in d\n",
    "    println(typeof(k))\n",
    "    println(k.first, \" \", k.second)\n",
    "end"
   ]
  },
  {
   "cell_type": "code",
   "execution_count": 29,
   "metadata": {},
   "outputs": [
    {
     "data": {
      "text/plain": [
       "\"the quick brown fox jumps over the lazy dog\""
      ]
     },
     "metadata": {},
     "output_type": "display_data"
    }
   ],
   "source": [
    "s=\"the quick brown fox jumps over the lazy dog\""
   ]
  },
  {
   "cell_type": "code",
   "execution_count": 30,
   "metadata": {},
   "outputs": [
    {
     "data": {
      "text/plain": [
       "true"
      ]
     },
     "metadata": {},
     "output_type": "display_data"
    }
   ],
   "source": [
    "occursin(\"fox\", s)"
   ]
  },
  {
   "cell_type": "code",
   "execution_count": 31,
   "metadata": {},
   "outputs": [
    {
     "data": {
      "text/plain": [
       "3-element Vector{String}:\n",
       " \"bob\"\n",
       " \"sam\"\n",
       " \"karen\""
      ]
     },
     "metadata": {},
     "output_type": "display_data"
    }
   ],
   "source": [
    "v=[\"bob\", \"sam\", \"karen\"]"
   ]
  },
  {
   "cell_type": "code",
   "execution_count": 32,
   "metadata": {},
   "outputs": [
    {
     "data": {
      "text/plain": [
       "\"bob:sam:karen\""
      ]
     },
     "metadata": {},
     "output_type": "display_data"
    }
   ],
   "source": [
    "join(v, \":\")"
   ]
  },
  {
   "cell_type": "code",
   "execution_count": 33,
   "metadata": {},
   "outputs": [
    {
     "data": {
      "text/html": [
       "46-element Vector{Method}:<ul><li> CapturedException(ex, bt_raw::<b>Vector</b>) in Base at <a href=\"https://github.com/JuliaLang/julia/tree/e4ee485e90961018b7e53ce14b8b99335953e176/base/task.jl#L12\" target=\"_blank\">task.jl:12</a><li> \\(L::<b>SparseArrays.CHOLMOD.FactorComponent</b>, b::<b>Vector</b>) in SparseArrays.CHOLMOD at <a href=\"file:///Users/julia/.julia/scratchspaces/a66863c6-20e8-4ff4-8a62-49f30b1f605e/agent-cache/default-honeycrisp-R17H3W25T9.0/build/default-honeycrisp-R17H3W25T9-0/julialang/julia-release-1-dot-9/usr/share/julia/stdlib/v1.9/SparseArrays/src/solvers/cholmod.jl\" target=\"_blank\">/Applications/Julia-1.9.app/Contents/Resources/julia/share/julia/stdlib/v1.9/SparseArrays/src/solvers/cholmod.jl:1524</a><li> \\(A::<b>LinearAlgebra.Transpose{<:Complex, <:LinearAlgebra.Hermitian{<:Complex, <:SparseArrays.AbstractSparseMatrixCSC}}</b>, B::<b>Vector</b>) in SparseArrays at <a href=\"file:///Users/julia/.julia/scratchspaces/a66863c6-20e8-4ff4-8a62-49f30b1f605e/agent-cache/default-honeycrisp-R17H3W25T9.0/build/default-honeycrisp-R17H3W25T9-0/julialang/julia-release-1-dot-9/usr/share/julia/stdlib/v1.9/SparseArrays/src/linalg.jl\" target=\"_blank\">/Applications/Julia-1.9.app/Contents/Resources/julia/share/julia/stdlib/v1.9/SparseArrays/src/linalg.jl:859</a><li> append!(a::<b>Vector</b>, items::<b>AbstractVector</b>) in Base at <a href=\"https://github.com/JuliaLang/julia/tree/e4ee485e90961018b7e53ce14b8b99335953e176/base/array.jl#L1118\" target=\"_blank\">array.jl:1118</a><li> deleteat!(a::<b>Vector</b>, i::<b>Integer</b>) in Base at <a href=\"https://github.com/JuliaLang/julia/tree/e4ee485e90961018b7e53ce14b8b99335953e176/base/array.jl#L1519\" target=\"_blank\">array.jl:1519</a><li> deleteat!(a::<b>Vector</b>, r::<b>AbstractUnitRange{<:Integer}</b>) in Base at <a href=\"https://github.com/JuliaLang/julia/tree/e4ee485e90961018b7e53ce14b8b99335953e176/base/array.jl#L1525\" target=\"_blank\">array.jl:1525</a><li> deleteat!(a::<b>Vector</b>, inds::<b>AbstractVector{Bool}</b>) in Base at <a href=\"https://github.com/JuliaLang/julia/tree/e4ee485e90961018b7e53ce14b8b99335953e176/base/array.jl#L1624\" target=\"_blank\">array.jl:1624</a><li> deleteat!(a::<b>Vector</b>, inds::<b>AbstractVector</b>) in Base at <a href=\"https://github.com/JuliaLang/julia/tree/e4ee485e90961018b7e53ce14b8b99335953e176/base/array.jl#L1567\" target=\"_blank\">array.jl:1567</a><li> deleteat!(a::<b>Vector</b>, inds) in Base at <a href=\"https://github.com/JuliaLang/julia/tree/e4ee485e90961018b7e53ce14b8b99335953e176/base/array.jl#L1566\" target=\"_blank\">array.jl:1566</a><li> empty!(a::<b>Vector</b>) in Base at <a href=\"https://github.com/JuliaLang/julia/tree/e4ee485e90961018b7e53ce14b8b99335953e176/base/array.jl#L1772\" target=\"_blank\">array.jl:1772</a><li> evalfile(path::<b>AbstractString</b>, args::<b>Vector</b>) in Base at <a href=\"https://github.com/JuliaLang/julia/tree/e4ee485e90961018b7e53ce14b8b99335953e176/base/loading.jl#L2007\" target=\"_blank\">loading.jl:2007</a><li> getindex(group::<b>BenchmarkGroup</b>, keys::<b>Vector</b>) in BenchmarkTools at <a href=\"file:///Users/graemes/.julia/packages/BenchmarkTools/0owsb/src/groups.jl\" target=\"_blank\">/Users/graemes/.julia/packages/BenchmarkTools/0owsb/src/groups.jl:145</a><li> insert!(a::<b>Vector{T}</b>, i::<b>Integer</b>, item)<i> where T</i> in Base at <a href=\"https://github.com/JuliaLang/julia/tree/e4ee485e90961018b7e53ce14b8b99335953e176/base/array.jl#L1491\" target=\"_blank\">array.jl:1491</a><li> keepat!(a::<b>Vector</b>, m::<b>AbstractVector{Bool}</b>) in Base at <a href=\"https://github.com/JuliaLang/julia/tree/e4ee485e90961018b7e53ce14b8b99335953e176/base/array.jl#L2742\" target=\"_blank\">array.jl:2742</a><li> keepat!(a::<b>Vector</b>, inds) in Base at <a href=\"https://github.com/JuliaLang/julia/tree/e4ee485e90961018b7e53ce14b8b99335953e176/base/array.jl#L2717\" target=\"_blank\">array.jl:2717</a><li> permute!(A::<b>SparseArrays.AbstractSparseMatrixCSC{Tv, Ti}</b>, p::<b>AbstractVector{<:Integer}</b>, q::<b>AbstractVector{<:Integer}</b>, C::<b>SparseArrays.AbstractSparseMatrixCSC{Tv, Ti}</b>, workcolptr::<b>Vector{Ti}</b>)<i> where {Tv, Ti}</i> in SparseArrays at <a href=\"file:///Users/julia/.julia/scratchspaces/a66863c6-20e8-4ff4-8a62-49f30b1f605e/agent-cache/default-honeycrisp-R17H3W25T9.0/build/default-honeycrisp-R17H3W25T9-0/julialang/julia-release-1-dot-9/usr/share/julia/stdlib/v1.9/SparseArrays/src/sparsematrix.jl\" target=\"_blank\">/Applications/Julia-1.9.app/Contents/Resources/julia/share/julia/stdlib/v1.9/SparseArrays/src/sparsematrix.jl:1608</a><li> pop!(a::<b>Vector</b>) in Base at <a href=\"https://github.com/JuliaLang/julia/tree/e4ee485e90961018b7e53ce14b8b99335953e176/base/array.jl#L1330\" target=\"_blank\">array.jl:1330</a><li> popat!(a::<b>Vector</b>, i::<b>Integer</b>) in Base at <a href=\"https://github.com/JuliaLang/julia/tree/e4ee485e90961018b7e53ce14b8b99335953e176/base/array.jl#L1371\" target=\"_blank\">array.jl:1371</a><li> popat!(a::<b>Vector</b>, i::<b>Integer</b>, default) in Base at <a href=\"https://github.com/JuliaLang/julia/tree/e4ee485e90961018b7e53ce14b8b99335953e176/base/array.jl#L1377\" target=\"_blank\">array.jl:1377</a><li> popfirst!(a::<b>Vector</b>) in Base at <a href=\"https://github.com/JuliaLang/julia/tree/e4ee485e90961018b7e53ce14b8b99335953e176/base/array.jl#L1461\" target=\"_blank\">array.jl:1461</a><li> prepend!(a::<b>Vector</b>, items::<b>AbstractVector</b>) in Base at <a href=\"https://github.com/JuliaLang/julia/tree/e4ee485e90961018b7e53ce14b8b99335953e176/base/array.jl#L1179\" target=\"_blank\">array.jl:1179</a><li> prepend!(a::<b>Vector</b>, iter) in Base at <a href=\"https://github.com/JuliaLang/julia/tree/e4ee485e90961018b7e53ce14b8b99335953e176/base/array.jl#L1191\" target=\"_blank\">array.jl:1191</a><li> push!(a::<b>Vector{T}</b>, item)<i> where T</i> in Base at <a href=\"https://github.com/JuliaLang/julia/tree/e4ee485e90961018b7e53ce14b8b99335953e176/base/array.jl#L1058\" target=\"_blank\">array.jl:1058</a><li> pushfirst!(a::<b>Vector{T}</b>, item)<i> where T</i> in Base at <a href=\"https://github.com/JuliaLang/julia/tree/e4ee485e90961018b7e53ce14b8b99335953e176/base/array.jl#L1406\" target=\"_blank\">array.jl:1406</a><li> pushfirst!(a::<b>Vector</b>, iter...) in Base at <a href=\"https://github.com/JuliaLang/julia/tree/e4ee485e90961018b7e53ce14b8b99335953e176/base/array.jl#L1192\" target=\"_blank\">array.jl:1192</a><li> resize!(a::<b>Vector</b>, nl::<b>Integer</b>) in Base at <a href=\"https://github.com/JuliaLang/julia/tree/e4ee485e90961018b7e53ce14b8b99335953e176/base/array.jl#L1246\" target=\"_blank\">array.jl:1246</a><li> setindex!(group::<b>BenchmarkGroup</b>, x, keys::<b>Vector</b>) in BenchmarkTools at <a href=\"file:///Users/graemes/.julia/packages/BenchmarkTools/0owsb/src/groups.jl\" target=\"_blank\">/Users/graemes/.julia/packages/BenchmarkTools/0owsb/src/groups.jl:151</a><li> similar(a::<b>Vector{T}</b>)<i> where T</i> in Base at <a href=\"https://github.com/JuliaLang/julia/tree/e4ee485e90961018b7e53ce14b8b99335953e176/base/array.jl#L369\" target=\"_blank\">array.jl:369</a><li> similar(a::<b>Vector{T}</b>, S::<b>Type</b>)<i> where T</i> in Base at <a href=\"https://github.com/JuliaLang/julia/tree/e4ee485e90961018b7e53ce14b8b99335953e176/base/array.jl#L371\" target=\"_blank\">array.jl:371</a><li> size(a::<b>Vector</b>) in Base at <a href=\"https://github.com/JuliaLang/julia/tree/e4ee485e90961018b7e53ce14b8b99335953e176/base/array.jl#L149\" target=\"_blank\">array.jl:149</a><li> sizehint!(a::<b>Vector</b>, sz::<b>Integer</b>) in Base at <a href=\"https://github.com/JuliaLang/julia/tree/e4ee485e90961018b7e53ce14b8b99335953e176/base/array.jl#L1284\" target=\"_blank\">array.jl:1284</a><li> sort!(v::<b>AbstractVector{T}</b>, lo::<b>Integer</b>, hi::<b>Integer</b>, a::<b>Base.Sort.MergeSortAlg</b>, o::<b>Base.Order.Ordering</b>, t0::<b>Vector{T}</b>)<i> where T</i> in Base.Sort at <a href=\"https://github.com/JuliaLang/julia/tree/e4ee485e90961018b7e53ce14b8b99335953e176/base/sort.jl#L2048\" target=\"_blank\">sort.jl:2048</a><li> sort!(v::<b>AbstractVector</b>, lo::<b>Integer</b>, hi::<b>Integer</b>, a::<b>Base.Sort.Algorithm</b>, o::<b>Base.Order.Ordering</b>, scratch::<b>Vector</b>) in Base.Sort at <a href=\"https://github.com/JuliaLang/julia/tree/e4ee485e90961018b7e53ce14b8b99335953e176/base/sort.jl#L2127\" target=\"_blank\">sort.jl:2127</a><li> splice!(a::<b>Vector</b>, i::<b>Integer</b>) in Base at <a href=\"https://github.com/JuliaLang/julia/tree/e4ee485e90961018b7e53ce14b8b99335953e176/base/array.jl#L1689\" target=\"_blank\">array.jl:1689</a><li> splice!(a::<b>Vector</b>, i::<b>Integer</b>, ins) in Base at <a href=\"https://github.com/JuliaLang/julia/tree/e4ee485e90961018b7e53ce14b8b99335953e176/base/array.jl#L1689\" target=\"_blank\">array.jl:1689</a><li> splice!(a::<b>Vector</b>, r::<b>AbstractUnitRange{<:Integer}</b>) in Base at <a href=\"https://github.com/JuliaLang/julia/tree/e4ee485e90961018b7e53ce14b8b99335953e176/base/array.jl#L1742\" target=\"_blank\">array.jl:1742</a><li> splice!(a::<b>Vector</b>, r::<b>AbstractUnitRange{<:Integer}</b>, ins) in Base at <a href=\"https://github.com/JuliaLang/julia/tree/e4ee485e90961018b7e53ce14b8b99335953e176/base/array.jl#L1742\" target=\"_blank\">array.jl:1742</a><li> splice!(a::<b>Vector</b>, inds) in Base at <a href=\"https://github.com/JuliaLang/julia/tree/e4ee485e90961018b7e53ce14b8b99335953e176/base/array.jl#L1770\" target=\"_blank\">array.jl:1770</a><li> LinearAlgebra.Bidiagonal(dv::<b>Vector{T}</b>, ev::<b>Vector{S}</b>, uplo::<b>Symbol</b>)<i> where {T, S}</i> in LinearAlgebra at <a href=\"file:///Users/julia/.julia/scratchspaces/a66863c6-20e8-4ff4-8a62-49f30b1f605e/agent-cache/default-honeycrisp-R17H3W25T9.0/build/default-honeycrisp-R17H3W25T9-0/julialang/julia-release-1-dot-9/usr/share/julia/stdlib/v1.9/LinearAlgebra/src/bidiag.jl\" target=\"_blank\">/Applications/Julia-1.9.app/Contents/Resources/julia/share/julia/stdlib/v1.9/LinearAlgebra/src/bidiag.jl:77</a><li> html(io::<b>IO</b>, content::<b>Vector</b>) in Markdown at <a href=\"file:///Users/julia/.julia/scratchspaces/a66863c6-20e8-4ff4-8a62-49f30b1f605e/agent-cache/default-honeycrisp-R17H3W25T9.0/build/default-honeycrisp-R17H3W25T9-0/julialang/julia-release-1-dot-9/usr/share/julia/stdlib/v1.9/Markdown/src/render/html.jl\" target=\"_blank\">/Applications/Julia-1.9.app/Contents/Resources/julia/share/julia/stdlib/v1.9/Markdown/src/render/html.jl:53</a><li> latex(io::<b>IO</b>, content::<b>Vector</b>) in Markdown at <a href=\"file:///Users/julia/.julia/scratchspaces/a66863c6-20e8-4ff4-8a62-49f30b1f605e/agent-cache/default-honeycrisp-R17H3W25T9.0/build/default-honeycrisp-R17H3W25T9-0/julialang/julia-release-1-dot-9/usr/share/julia/stdlib/v1.9/Markdown/src/render/latex.jl\" target=\"_blank\">/Applications/Julia-1.9.app/Contents/Resources/julia/share/julia/stdlib/v1.9/Markdown/src/render/latex.jl:21</a><li> SparseArrays.SparseMatrixCSC(m::<b>Integer</b>, n::<b>Integer</b>, colptr::<b>Vector</b>, rowval::<b>Vector</b>, nzval::<b>Vector</b>) in SparseArrays at <a href=\"file:///Users/julia/.julia/scratchspaces/a66863c6-20e8-4ff4-8a62-49f30b1f605e/agent-cache/default-honeycrisp-R17H3W25T9.0/build/default-honeycrisp-R17H3W25T9-0/julialang/julia-release-1-dot-9/usr/share/julia/stdlib/v1.9/SparseArrays/src/sparsematrix.jl\" target=\"_blank\">/Applications/Julia-1.9.app/Contents/Resources/julia/share/julia/stdlib/v1.9/SparseArrays/src/sparsematrix.jl:34</a><li> SparseArrays.SparseMatrixCSC(m, n, colptr::<b>SparseArrays.ReadOnly</b>, rowval::<b>SparseArrays.ReadOnly</b>, nzval::<b>Vector</b>) in SparseArrays at <a href=\"file:///Users/julia/.julia/scratchspaces/a66863c6-20e8-4ff4-8a62-49f30b1f605e/agent-cache/default-honeycrisp-R17H3W25T9.0/build/default-honeycrisp-R17H3W25T9-0/julialang/julia-release-1-dot-9/usr/share/julia/stdlib/v1.9/SparseArrays/src/sparsematrix.jl\" target=\"_blank\">/Applications/Julia-1.9.app/Contents/Resources/julia/share/julia/stdlib/v1.9/SparseArrays/src/sparsematrix.jl:47</a><li> SparseArrays.SparseVector(n::<b>Integer</b>, nzind::<b>Vector{Ti}</b>, nzval::<b>Vector{Tv}</b>)<i> where {Tv, Ti}</i> in SparseArrays at <a href=\"file:///Users/julia/.julia/scratchspaces/a66863c6-20e8-4ff4-8a62-49f30b1f605e/agent-cache/default-honeycrisp-R17H3W25T9.0/build/default-honeycrisp-R17H3W25T9-0/julialang/julia-release-1-dot-9/usr/share/julia/stdlib/v1.9/SparseArrays/src/sparsevector.jl\" target=\"_blank\">/Applications/Julia-1.9.app/Contents/Resources/julia/share/julia/stdlib/v1.9/SparseArrays/src/sparsevector.jl:49</a><li> (SharedArrays.SharedVector)(A::<b>Vector</b>) in SharedArrays at <a href=\"file:///Users/julia/.julia/scratchspaces/a66863c6-20e8-4ff4-8a62-49f30b1f605e/agent-cache/default-honeycrisp-R17H3W25T9.0/build/default-honeycrisp-R17H3W25T9-0/julialang/julia-release-1-dot-9/usr/share/julia/stdlib/v1.9/SharedArrays/src/SharedArrays.jl\" target=\"_blank\">/Applications/Julia-1.9.app/Contents/Resources/julia/share/julia/stdlib/v1.9/SharedArrays/src/SharedArrays.jl:291</a><li> BenchmarkGroup(tags::<b>Vector</b>, args::<b>Pair...</b>) in BenchmarkTools at <a href=\"file:///Users/graemes/.julia/packages/BenchmarkTools/0owsb/src/groups.jl\" target=\"_blank\">/Users/graemes/.julia/packages/BenchmarkTools/0owsb/src/groups.jl:17</a></ul>"
      ],
      "text/plain": [
       "[1] CapturedException(\u001b[90mex\u001b[39m, \u001b[90mbt_raw\u001b[39m::\u001b[1mVector\u001b[22m)\u001b[90m @\u001b[39m \u001b[90mBase\u001b[39m \u001b[90m\u001b[4mtask.jl:12\u001b[24m\u001b[39m\n",
       "[2] \\(\u001b[90mL\u001b[39m::\u001b[1mSparseArrays.CHOLMOD.FactorComponent\u001b[22m, \u001b[90mb\u001b[39m::\u001b[1mVector\u001b[22m)\u001b[90m @\u001b[39m \u001b[90mSparseArrays.CHOLMOD\u001b[39m \u001b[90m/Applications/Julia-1.9.app/Contents/Resources/julia/share/julia/stdlib/v1.9/SparseArrays/src/solvers/\u001b[39m\u001b[90m\u001b[4mcholmod.jl:1524\u001b[24m\u001b[39m\n",
       "[3] \\(\u001b[90mA\u001b[39m::\u001b[1mLinearAlgebra.Transpose\u001b[22m\u001b[0m{<:Complex, <:LinearAlgebra.Hermitian{<:Complex, <:SparseArrays.AbstractSparseMatrixCSC}}, \u001b[90mB\u001b[39m::\u001b[1mVector\u001b[22m)\u001b[90m @\u001b[39m \u001b[90mSparseArrays\u001b[39m \u001b[90m/Applications/Julia-1.9.app/Contents/Resources/julia/share/julia/stdlib/v1.9/SparseArrays/src/\u001b[39m\u001b[90m\u001b[4mlinalg.jl:859\u001b[24m\u001b[39m\n",
       "[4] append!(\u001b[90ma\u001b[39m::\u001b[1mVector\u001b[22m, \u001b[90mitems\u001b[39m::\u001b[1mAbstractVector\u001b[22m)\u001b[90m @\u001b[39m \u001b[90mBase\u001b[39m \u001b[90m\u001b[4marray.jl:1118\u001b[24m\u001b[39m\n",
       "[5] deleteat!(\u001b[90ma\u001b[39m::\u001b[1mVector\u001b[22m, \u001b[90mi\u001b[39m::\u001b[1mInteger\u001b[22m)\u001b[90m @\u001b[39m \u001b[90mBase\u001b[39m \u001b[90m\u001b[4marray.jl:1519\u001b[24m\u001b[39m\n",
       "[6] deleteat!(\u001b[90ma\u001b[39m::\u001b[1mVector\u001b[22m, \u001b[90mr\u001b[39m::\u001b[1mAbstractUnitRange\u001b[22m\u001b[0m{<:Integer})\u001b[90m @\u001b[39m \u001b[90mBase\u001b[39m \u001b[90m\u001b[4marray.jl:1525\u001b[24m\u001b[39m\n",
       "[7] deleteat!(\u001b[90ma\u001b[39m::\u001b[1mVector\u001b[22m, \u001b[90minds\u001b[39m::\u001b[1mAbstractVector\u001b[22m\u001b[0m{Bool})\u001b[90m @\u001b[39m \u001b[90mBase\u001b[39m \u001b[90m\u001b[4marray.jl:1624\u001b[24m\u001b[39m\n",
       "[8] deleteat!(\u001b[90ma\u001b[39m::\u001b[1mVector\u001b[22m, \u001b[90minds\u001b[39m::\u001b[1mAbstractVector\u001b[22m)\u001b[90m @\u001b[39m \u001b[90mBase\u001b[39m \u001b[90m\u001b[4marray.jl:1567\u001b[24m\u001b[39m\n",
       "[9] deleteat!(\u001b[90ma\u001b[39m::\u001b[1mVector\u001b[22m, \u001b[90minds\u001b[39m)\u001b[90m @\u001b[39m \u001b[90mBase\u001b[39m \u001b[90m\u001b[4marray.jl:1566\u001b[24m\u001b[39m\n",
       "[10] empty!(\u001b[90ma\u001b[39m::\u001b[1mVector\u001b[22m)\u001b[90m @\u001b[39m \u001b[90mBase\u001b[39m \u001b[90m\u001b[4marray.jl:1772\u001b[24m\u001b[39m\n",
       "[11] evalfile(\u001b[90mpath\u001b[39m::\u001b[1mAbstractString\u001b[22m, \u001b[90margs\u001b[39m::\u001b[1mVector\u001b[22m)\u001b[90m @\u001b[39m \u001b[90mBase\u001b[39m \u001b[90m\u001b[4mloading.jl:2007\u001b[24m\u001b[39m\n",
       "[12] getindex(\u001b[90mgroup\u001b[39m::\u001b[1mBenchmarkGroup\u001b[22m, \u001b[90mkeys\u001b[39m::\u001b[1mVector\u001b[22m)\u001b[90m @\u001b[39m \u001b[90mBenchmarkTools\u001b[39m \u001b[90m~/.julia/packages/BenchmarkTools/0owsb/src/\u001b[39m\u001b[90m\u001b[4mgroups.jl:145\u001b[24m\u001b[39m\n",
       "[13] insert!(\u001b[90ma\u001b[39m::\u001b[1mVector\u001b[22m\u001b[0m{T}, \u001b[90mi\u001b[39m::\u001b[1mInteger\u001b[22m, \u001b[90mitem\u001b[39m) where T\u001b[90m @\u001b[39m \u001b[90mBase\u001b[39m \u001b[90m\u001b[4marray.jl:1491\u001b[24m\u001b[39m\n",
       "[14] keepat!(\u001b[90ma\u001b[39m::\u001b[1mVector\u001b[22m, \u001b[90mm\u001b[39m::\u001b[1mAbstractVector\u001b[22m\u001b[0m{Bool})\u001b[90m @\u001b[39m \u001b[90mBase\u001b[39m \u001b[90m\u001b[4marray.jl:2742\u001b[24m\u001b[39m\n",
       "[15] keepat!(\u001b[90ma\u001b[39m::\u001b[1mVector\u001b[22m, \u001b[90minds\u001b[39m)\u001b[90m @\u001b[39m \u001b[90mBase\u001b[39m \u001b[90m\u001b[4marray.jl:2717\u001b[24m\u001b[39m\n",
       "[16] permute!(\u001b[90mA\u001b[39m::\u001b[1mSparseArrays.AbstractSparseMatrixCSC\u001b[22m\u001b[0m{Tv, Ti}, \u001b[90mp\u001b[39m::\u001b[1mAbstractVector\u001b[22m\u001b[0m{<:Integer}, \u001b[90mq\u001b[39m::\u001b[1mAbstractVector\u001b[22m\u001b[0m{<:Integer}, \u001b[90mC\u001b[39m::\u001b[1mSparseArrays.AbstractSparseMatrixCSC\u001b[22m\u001b[0m{Tv, Ti}, \u001b[90mworkcolptr\u001b[39m::\u001b[1mVector\u001b[22m\u001b[0m{Ti}) where {Tv, Ti}\u001b[90m @\u001b[39m \u001b[90mSparseArrays\u001b[39m \u001b[90m/Applications/Julia-1.9.app/Contents/Resources/julia/share/julia/stdlib/v1.9/SparseArrays/src/\u001b[39m\u001b[90m\u001b[4msparsematrix.jl:1608\u001b[24m\u001b[39m\n",
       "[17] pop!(\u001b[90ma\u001b[39m::\u001b[1mVector\u001b[22m)\u001b[90m @\u001b[39m \u001b[90mBase\u001b[39m \u001b[90m\u001b[4marray.jl:1330\u001b[24m\u001b[39m\n",
       "[18] popat!(\u001b[90ma\u001b[39m::\u001b[1mVector\u001b[22m, \u001b[90mi\u001b[39m::\u001b[1mInteger\u001b[22m)\u001b[90m @\u001b[39m \u001b[90mBase\u001b[39m \u001b[90m\u001b[4marray.jl:1371\u001b[24m\u001b[39m\n",
       "[19] popat!(\u001b[90ma\u001b[39m::\u001b[1mVector\u001b[22m, \u001b[90mi\u001b[39m::\u001b[1mInteger\u001b[22m, \u001b[90mdefault\u001b[39m)\u001b[90m @\u001b[39m \u001b[90mBase\u001b[39m \u001b[90m\u001b[4marray.jl:1377\u001b[24m\u001b[39m\n",
       "[20] popfirst!(\u001b[90ma\u001b[39m::\u001b[1mVector\u001b[22m)\u001b[90m @\u001b[39m \u001b[90mBase\u001b[39m \u001b[90m\u001b[4marray.jl:1461\u001b[24m\u001b[39m\n",
       "[21] prepend!(\u001b[90ma\u001b[39m::\u001b[1mVector\u001b[22m, \u001b[90mitems\u001b[39m::\u001b[1mAbstractVector\u001b[22m)\u001b[90m @\u001b[39m \u001b[90mBase\u001b[39m \u001b[90m\u001b[4marray.jl:1179\u001b[24m\u001b[39m\n",
       "[22] prepend!(\u001b[90ma\u001b[39m::\u001b[1mVector\u001b[22m, \u001b[90miter\u001b[39m)\u001b[90m @\u001b[39m \u001b[90mBase\u001b[39m \u001b[90m\u001b[4marray.jl:1191\u001b[24m\u001b[39m\n",
       "[23] push!(\u001b[90ma\u001b[39m::\u001b[1mVector\u001b[22m\u001b[0m{T}, \u001b[90mitem\u001b[39m) where T\u001b[90m @\u001b[39m \u001b[90mBase\u001b[39m \u001b[90m\u001b[4marray.jl:1058\u001b[24m\u001b[39m\n",
       "[24] pushfirst!(\u001b[90ma\u001b[39m::\u001b[1mVector\u001b[22m\u001b[0m{T}, \u001b[90mitem\u001b[39m) where T\u001b[90m @\u001b[39m \u001b[90mBase\u001b[39m \u001b[90m\u001b[4marray.jl:1406\u001b[24m\u001b[39m\n",
       "[25] pushfirst!(\u001b[90ma\u001b[39m::\u001b[1mVector\u001b[22m, \u001b[90miter...\u001b[39m)\u001b[90m @\u001b[39m \u001b[90mBase\u001b[39m \u001b[90m\u001b[4marray.jl:1192\u001b[24m\u001b[39m\n",
       "[26] resize!(\u001b[90ma\u001b[39m::\u001b[1mVector\u001b[22m, \u001b[90mnl\u001b[39m::\u001b[1mInteger\u001b[22m)\u001b[90m @\u001b[39m \u001b[90mBase\u001b[39m \u001b[90m\u001b[4marray.jl:1246\u001b[24m\u001b[39m\n",
       "[27] setindex!(\u001b[90mgroup\u001b[39m::\u001b[1mBenchmarkGroup\u001b[22m, \u001b[90mx\u001b[39m, \u001b[90mkeys\u001b[39m::\u001b[1mVector\u001b[22m)\u001b[90m @\u001b[39m \u001b[90mBenchmarkTools\u001b[39m \u001b[90m~/.julia/packages/BenchmarkTools/0owsb/src/\u001b[39m\u001b[90m\u001b[4mgroups.jl:151\u001b[24m\u001b[39m\n",
       "[28] similar(\u001b[90ma\u001b[39m::\u001b[1mVector\u001b[22m\u001b[0m{T}) where T\u001b[90m @\u001b[39m \u001b[90mBase\u001b[39m \u001b[90m\u001b[4marray.jl:369\u001b[24m\u001b[39m\n",
       "[29] similar(\u001b[90ma\u001b[39m::\u001b[1mVector\u001b[22m\u001b[0m{T}, \u001b[90mS\u001b[39m::\u001b[1mType\u001b[22m) where T\u001b[90m @\u001b[39m \u001b[90mBase\u001b[39m \u001b[90m\u001b[4marray.jl:371\u001b[24m\u001b[39m\n",
       "[30] size(\u001b[90ma\u001b[39m::\u001b[1mVector\u001b[22m)\u001b[90m @\u001b[39m \u001b[90mBase\u001b[39m \u001b[90m\u001b[4marray.jl:149\u001b[24m\u001b[39m\n",
       "[31] sizehint!(\u001b[90ma\u001b[39m::\u001b[1mVector\u001b[22m, \u001b[90msz\u001b[39m::\u001b[1mInteger\u001b[22m)\u001b[90m @\u001b[39m \u001b[90mBase\u001b[39m \u001b[90m\u001b[4marray.jl:1284\u001b[24m\u001b[39m\n",
       "[32] sort!(\u001b[90mv\u001b[39m::\u001b[1mAbstractVector\u001b[22m\u001b[0m{T}, \u001b[90mlo\u001b[39m::\u001b[1mInteger\u001b[22m, \u001b[90mhi\u001b[39m::\u001b[1mInteger\u001b[22m, \u001b[90ma\u001b[39m::\u001b[1mBase.Sort.MergeSortAlg\u001b[22m, \u001b[90mo\u001b[39m::\u001b[1mBase.Order.Ordering\u001b[22m, \u001b[90mt0\u001b[39m::\u001b[1mVector\u001b[22m\u001b[0m{T}) where T\u001b[90m @\u001b[39m \u001b[90mBase.Sort\u001b[39m \u001b[90m\u001b[4msort.jl:2048\u001b[24m\u001b[39m\n",
       "[33] sort!(\u001b[90mv\u001b[39m::\u001b[1mAbstractVector\u001b[22m, \u001b[90mlo\u001b[39m::\u001b[1mInteger\u001b[22m, \u001b[90mhi\u001b[39m::\u001b[1mInteger\u001b[22m, \u001b[90ma\u001b[39m::\u001b[1mBase.Sort.Algorithm\u001b[22m, \u001b[90mo\u001b[39m::\u001b[1mBase.Order.Ordering\u001b[22m, \u001b[90mscratch\u001b[39m::\u001b[1mVector\u001b[22m)\u001b[90m @\u001b[39m \u001b[90mBase.Sort\u001b[39m \u001b[90m\u001b[4msort.jl:2127\u001b[24m\u001b[39m\n",
       "[34] splice!(\u001b[90ma\u001b[39m::\u001b[1mVector\u001b[22m, \u001b[90mi\u001b[39m::\u001b[1mInteger\u001b[22m)\u001b[90m @\u001b[39m \u001b[90mBase\u001b[39m \u001b[90m\u001b[4marray.jl:1689\u001b[24m\u001b[39m\n",
       "[35] splice!(\u001b[90ma\u001b[39m::\u001b[1mVector\u001b[22m, \u001b[90mi\u001b[39m::\u001b[1mInteger\u001b[22m, \u001b[90mins\u001b[39m)\u001b[90m @\u001b[39m \u001b[90mBase\u001b[39m \u001b[90m\u001b[4marray.jl:1689\u001b[24m\u001b[39m\n",
       "[36] splice!(\u001b[90ma\u001b[39m::\u001b[1mVector\u001b[22m, \u001b[90mr\u001b[39m::\u001b[1mAbstractUnitRange\u001b[22m\u001b[0m{<:Integer})\u001b[90m @\u001b[39m \u001b[90mBase\u001b[39m \u001b[90m\u001b[4marray.jl:1742\u001b[24m\u001b[39m\n",
       "[37] splice!(\u001b[90ma\u001b[39m::\u001b[1mVector\u001b[22m, \u001b[90mr\u001b[39m::\u001b[1mAbstractUnitRange\u001b[22m\u001b[0m{<:Integer}, \u001b[90mins\u001b[39m)\u001b[90m @\u001b[39m \u001b[90mBase\u001b[39m \u001b[90m\u001b[4marray.jl:1742\u001b[24m\u001b[39m\n",
       "[38] splice!(\u001b[90ma\u001b[39m::\u001b[1mVector\u001b[22m, \u001b[90minds\u001b[39m)\u001b[90m @\u001b[39m \u001b[90mBase\u001b[39m \u001b[90m\u001b[4marray.jl:1770\u001b[24m\u001b[39m\n",
       "[39] LinearAlgebra.Bidiagonal(\u001b[90mdv\u001b[39m::\u001b[1mVector\u001b[22m\u001b[0m{T}, \u001b[90mev\u001b[39m::\u001b[1mVector\u001b[22m\u001b[0m{S}, \u001b[90muplo\u001b[39m::\u001b[1mSymbol\u001b[22m) where {T, S}\u001b[90m @\u001b[39m \u001b[90mLinearAlgebra\u001b[39m \u001b[90m/Applications/Julia-1.9.app/Contents/Resources/julia/share/julia/stdlib/v1.9/LinearAlgebra/src/\u001b[39m\u001b[90m\u001b[4mbidiag.jl:77\u001b[24m\u001b[39m\n",
       "[40] html(\u001b[90mio\u001b[39m::\u001b[1mIO\u001b[22m, \u001b[90mcontent\u001b[39m::\u001b[1mVector\u001b[22m)\u001b[90m @\u001b[39m \u001b[90mMarkdown\u001b[39m \u001b[90m/Applications/Julia-1.9.app/Contents/Resources/julia/share/julia/stdlib/v1.9/Markdown/src/render/\u001b[39m\u001b[90m\u001b[4mhtml.jl:53\u001b[24m\u001b[39m\n",
       "[41] latex(\u001b[90mio\u001b[39m::\u001b[1mIO\u001b[22m, \u001b[90mcontent\u001b[39m::\u001b[1mVector\u001b[22m)\u001b[90m @\u001b[39m \u001b[90mMarkdown\u001b[39m \u001b[90m/Applications/Julia-1.9.app/Contents/Resources/julia/share/julia/stdlib/v1.9/Markdown/src/render/\u001b[39m\u001b[90m\u001b[4mlatex.jl:21\u001b[24m\u001b[39m\n",
       "[42] SparseArrays.SparseMatrixCSC(\u001b[90mm\u001b[39m::\u001b[1mInteger\u001b[22m, \u001b[90mn\u001b[39m::\u001b[1mInteger\u001b[22m, \u001b[90mcolptr\u001b[39m::\u001b[1mVector\u001b[22m, \u001b[90mrowval\u001b[39m::\u001b[1mVector\u001b[22m, \u001b[90mnzval\u001b[39m::\u001b[1mVector\u001b[22m)\u001b[90m @\u001b[39m \u001b[90mSparseArrays\u001b[39m \u001b[90m/Applications/Julia-1.9.app/Contents/Resources/julia/share/julia/stdlib/v1.9/SparseArrays/src/\u001b[39m\u001b[90m\u001b[4msparsematrix.jl:34\u001b[24m\u001b[39m\n",
       "[43] SparseArrays.SparseMatrixCSC(\u001b[90mm\u001b[39m, \u001b[90mn\u001b[39m, \u001b[90mcolptr\u001b[39m::\u001b[1mSparseArrays.ReadOnly\u001b[22m, \u001b[90mrowval\u001b[39m::\u001b[1mSparseArrays.ReadOnly\u001b[22m, \u001b[90mnzval\u001b[39m::\u001b[1mVector\u001b[22m)\u001b[90m @\u001b[39m \u001b[90mSparseArrays\u001b[39m \u001b[90m/Applications/Julia-1.9.app/Contents/Resources/julia/share/julia/stdlib/v1.9/SparseArrays/src/\u001b[39m\u001b[90m\u001b[4msparsematrix.jl:47\u001b[24m\u001b[39m\n",
       "[44] SparseArrays.SparseVector(\u001b[90mn\u001b[39m::\u001b[1mInteger\u001b[22m, \u001b[90mnzind\u001b[39m::\u001b[1mVector\u001b[22m\u001b[0m{Ti}, \u001b[90mnzval\u001b[39m::\u001b[1mVector\u001b[22m\u001b[0m{Tv}) where {Tv, Ti}\u001b[90m @\u001b[39m \u001b[90mSparseArrays\u001b[39m \u001b[90m/Applications/Julia-1.9.app/Contents/Resources/julia/share/julia/stdlib/v1.9/SparseArrays/src/\u001b[39m\u001b[90m\u001b[4msparsevector.jl:49\u001b[24m\u001b[39m\n",
       "[45] (SharedArrays.SharedVector)(\u001b[90mA\u001b[39m::\u001b[1mVector\u001b[22m)\u001b[90m @\u001b[39m \u001b[90mSharedArrays\u001b[39m \u001b[90m/Applications/Julia-1.9.app/Contents/Resources/julia/share/julia/stdlib/v1.9/SharedArrays/src/\u001b[39m\u001b[90m\u001b[4mSharedArrays.jl:291\u001b[24m\u001b[39m\n",
       "[46] BenchmarkGroup(\u001b[90mtags\u001b[39m::\u001b[1mVector\u001b[22m, \u001b[90margs\u001b[39m::\u001b[1mPair...\u001b[22m)\u001b[90m @\u001b[39m \u001b[90mBenchmarkTools\u001b[39m \u001b[90m~/.julia/packages/BenchmarkTools/0owsb/src/\u001b[39m\u001b[90m\u001b[4mgroups.jl:17\u001b[24m\u001b[39m"
      ]
     },
     "metadata": {},
     "output_type": "display_data"
    }
   ],
   "source": [
    "methodswith(Vector)"
   ]
  },
  {
   "cell_type": "code",
   "execution_count": 34,
   "metadata": {},
   "outputs": [
    {
     "data": {
      "text/html": [
       "# 14 methods for generic function <b>sin</b> from \u001b[90mBase\u001b[39m:<ul><li> sin(x::<b>T</b>)<i> where T<:Union{Float32, Float64}</i> in Base.Math at <a href=\"https://github.com/JuliaLang/julia/tree/e4ee485e90961018b7e53ce14b8b99335953e176/base/special/trig.jl#L29\" target=\"_blank\">special/trig.jl:29</a></li> <li> sin(J::<b>LinearAlgebra.UniformScaling</b>) in LinearAlgebra at <a href=\"file:///Users/julia/.julia/scratchspaces/a66863c6-20e8-4ff4-8a62-49f30b1f605e/agent-cache/default-honeycrisp-R17H3W25T9.0/build/default-honeycrisp-R17H3W25T9-0/julialang/julia-release-1-dot-9/usr/share/julia/stdlib/v1.9/LinearAlgebra/src/uniformscaling.jl\" target=\"_blank\">/Applications/Julia-1.9.app/Contents/Resources/julia/share/julia/stdlib/v1.9/LinearAlgebra/src/uniformscaling.jl:173</a></li> <li> sin(D::<b>LinearAlgebra.Diagonal</b>) in LinearAlgebra at <a href=\"file:///Users/julia/.julia/scratchspaces/a66863c6-20e8-4ff4-8a62-49f30b1f605e/agent-cache/default-honeycrisp-R17H3W25T9.0/build/default-honeycrisp-R17H3W25T9-0/julialang/julia-release-1-dot-9/usr/share/julia/stdlib/v1.9/LinearAlgebra/src/diagonal.jl\" target=\"_blank\">/Applications/Julia-1.9.app/Contents/Resources/julia/share/julia/stdlib/v1.9/LinearAlgebra/src/diagonal.jl:678</a></li> <li> sin(A::<b>LinearAlgebra.Hermitian{var\"#s970\", S} where {var\"#s970\"<:Complex, S<:(AbstractMatrix{<:var\"#s970\"})}</b>) in LinearAlgebra at <a href=\"file:///Users/julia/.julia/scratchspaces/a66863c6-20e8-4ff4-8a62-49f30b1f605e/agent-cache/default-honeycrisp-R17H3W25T9.0/build/default-honeycrisp-R17H3W25T9-0/julialang/julia-release-1-dot-9/usr/share/julia/stdlib/v1.9/LinearAlgebra/src/symmetric.jl\" target=\"_blank\">/Applications/Julia-1.9.app/Contents/Resources/julia/share/julia/stdlib/v1.9/LinearAlgebra/src/symmetric.jl:732</a></li> <li> sin(A::<b>Union{LinearAlgebra.Hermitian{var\"#s971\", S}, LinearAlgebra.Symmetric{var\"#s971\", S}} where {var\"#s971\"<:Real, S}</b>) in LinearAlgebra at <a href=\"file:///Users/julia/.julia/scratchspaces/a66863c6-20e8-4ff4-8a62-49f30b1f605e/agent-cache/default-honeycrisp-R17H3W25T9.0/build/default-honeycrisp-R17H3W25T9-0/julialang/julia-release-1-dot-9/usr/share/julia/stdlib/v1.9/LinearAlgebra/src/symmetric.jl\" target=\"_blank\">/Applications/Julia-1.9.app/Contents/Resources/julia/share/julia/stdlib/v1.9/LinearAlgebra/src/symmetric.jl:728</a></li> <li> sin(A::<b>AbstractMatrix{<:Real}</b>) in LinearAlgebra at <a href=\"file:///Users/julia/.julia/scratchspaces/a66863c6-20e8-4ff4-8a62-49f30b1f605e/agent-cache/default-honeycrisp-R17H3W25T9.0/build/default-honeycrisp-R17H3W25T9-0/julialang/julia-release-1-dot-9/usr/share/julia/stdlib/v1.9/LinearAlgebra/src/dense.jl\" target=\"_blank\">/Applications/Julia-1.9.app/Contents/Resources/julia/share/julia/stdlib/v1.9/LinearAlgebra/src/dense.jl:972</a></li> <li> sin(A::<b>AbstractMatrix{<:Complex}</b>) in LinearAlgebra at <a href=\"file:///Users/julia/.julia/scratchspaces/a66863c6-20e8-4ff4-8a62-49f30b1f605e/agent-cache/default-honeycrisp-R17H3W25T9.0/build/default-honeycrisp-R17H3W25T9-0/julialang/julia-release-1-dot-9/usr/share/julia/stdlib/v1.9/LinearAlgebra/src/dense.jl\" target=\"_blank\">/Applications/Julia-1.9.app/Contents/Resources/julia/share/julia/stdlib/v1.9/LinearAlgebra/src/dense.jl:979</a></li> <li> sin(x::<b>BigFloat</b>) in Base.MPFR at <a href=\"https://github.com/JuliaLang/julia/tree/e4ee485e90961018b7e53ce14b8b99335953e176/base/mpfr.jl#L760\" target=\"_blank\">mpfr.jl:760</a></li> <li> sin(::<b>Irrational{:π}</b>) in Base.MathConstants at <a href=\"https://github.com/JuliaLang/julia/tree/e4ee485e90961018b7e53ce14b8b99335953e176/base/mathconstants.jl#L126\" target=\"_blank\">mathconstants.jl:126</a></li> <li> sin(::<b>Missing</b>) in Base.Math at <a href=\"https://github.com/JuliaLang/julia/tree/e4ee485e90961018b7e53ce14b8b99335953e176/base/math.jl#L1493\" target=\"_blank\">math.jl:1493</a></li> <li> sin(a::<b>ComplexF16</b>) in Base.Math at <a href=\"https://github.com/JuliaLang/julia/tree/e4ee485e90961018b7e53ce14b8b99335953e176/base/math.jl#L1472\" target=\"_blank\">math.jl:1472</a></li> <li> sin(z::<b>Complex{T}</b>)<i> where T</i> in Base at <a href=\"https://github.com/JuliaLang/julia/tree/e4ee485e90961018b7e53ce14b8b99335953e176/base/complex.jl#L882\" target=\"_blank\">complex.jl:882</a></li> <li> sin(a::<b>Float16</b>) in Base.Math at <a href=\"https://github.com/JuliaLang/julia/tree/e4ee485e90961018b7e53ce14b8b99335953e176/base/math.jl#L1471\" target=\"_blank\">math.jl:1471</a></li> <li> sin(x::<b>Real</b>) in Base.Math at <a href=\"https://github.com/JuliaLang/julia/tree/e4ee485e90961018b7e53ce14b8b99335953e176/base/math.jl#L1488\" target=\"_blank\">math.jl:1488</a></li> </ul>"
      ],
      "text/plain": [
       "# 14 methods for generic function \"sin\" from \u001b[90mBase\u001b[39m:\n",
       "  [1] sin(\u001b[90mx\u001b[39m::\u001b[1mT\u001b[22m) where T<:Union{Float32, Float64}\n",
       "\u001b[90m     @\u001b[39m \u001b[90mBase.Math\u001b[39m \u001b[90mspecial/\u001b[39m\u001b[90m\u001b[4mtrig.jl:29\u001b[24m\u001b[39m\n",
       "  [2] sin(\u001b[90mJ\u001b[39m::\u001b[1mLinearAlgebra.UniformScaling\u001b[22m)\n",
       "\u001b[90m     @\u001b[39m \u001b[36mLinearAlgebra\u001b[39m \u001b[90m/Applications/Julia-1.9.app/Contents/Resources/julia/share/julia/stdlib/v1.9/LinearAlgebra/src/\u001b[39m\u001b[90m\u001b[4muniformscaling.jl:173\u001b[24m\u001b[39m\n",
       "  [3] sin(\u001b[90mD\u001b[39m::\u001b[1mLinearAlgebra.Diagonal\u001b[22m)\n",
       "\u001b[90m     @\u001b[39m \u001b[36mLinearAlgebra\u001b[39m \u001b[90m/Applications/Julia-1.9.app/Contents/Resources/julia/share/julia/stdlib/v1.9/LinearAlgebra/src/\u001b[39m\u001b[90m\u001b[4mdiagonal.jl:678\u001b[24m\u001b[39m\n",
       "  [4] sin(\u001b[90mA\u001b[39m::\u001b[1mLinearAlgebra.Hermitian\u001b[22m\u001b[0m{var\"#s970\", S} where {var\"#s970\"<:Complex, S<:(AbstractMatrix{<:var\"#s970\"})})\n",
       "\u001b[90m     @\u001b[39m \u001b[36mLinearAlgebra\u001b[39m \u001b[90m/Applications/Julia-1.9.app/Contents/Resources/julia/share/julia/stdlib/v1.9/LinearAlgebra/src/\u001b[39m\u001b[90m\u001b[4msymmetric.jl:732\u001b[24m\u001b[39m\n",
       "  [5] sin(\u001b[90mA\u001b[39m::\u001b[1mUnion\u001b[22m\u001b[0m{LinearAlgebra.Hermitian{var\"#s971\", S}, LinearAlgebra.Symmetric{var\"#s971\", S}} where {var\"#s971\"<:Real, S})\n",
       "\u001b[90m     @\u001b[39m \u001b[36mLinearAlgebra\u001b[39m \u001b[90m/Applications/Julia-1.9.app/Contents/Resources/julia/share/julia/stdlib/v1.9/LinearAlgebra/src/\u001b[39m\u001b[90m\u001b[4msymmetric.jl:728\u001b[24m\u001b[39m\n",
       "  [6] sin(\u001b[90mA\u001b[39m::\u001b[1mAbstractMatrix\u001b[22m\u001b[0m{<:Real})\n",
       "\u001b[90m     @\u001b[39m \u001b[36mLinearAlgebra\u001b[39m \u001b[90m/Applications/Julia-1.9.app/Contents/Resources/julia/share/julia/stdlib/v1.9/LinearAlgebra/src/\u001b[39m\u001b[90m\u001b[4mdense.jl:972\u001b[24m\u001b[39m\n",
       "  [7] sin(\u001b[90mA\u001b[39m::\u001b[1mAbstractMatrix\u001b[22m\u001b[0m{<:Complex})\n",
       "\u001b[90m     @\u001b[39m \u001b[36mLinearAlgebra\u001b[39m \u001b[90m/Applications/Julia-1.9.app/Contents/Resources/julia/share/julia/stdlib/v1.9/LinearAlgebra/src/\u001b[39m\u001b[90m\u001b[4mdense.jl:979\u001b[24m\u001b[39m\n",
       "  [8] sin(\u001b[90mx\u001b[39m::\u001b[1mBigFloat\u001b[22m)\n",
       "\u001b[90m     @\u001b[39m \u001b[90mBase.MPFR\u001b[39m \u001b[90m\u001b[4mmpfr.jl:760\u001b[24m\u001b[39m\n",
       "  [9] sin(::\u001b[1mIrrational\u001b[22m\u001b[0m{:π})\n",
       "\u001b[90m     @\u001b[39m \u001b[90mBase.MathConstants\u001b[39m \u001b[90m\u001b[4mmathconstants.jl:126\u001b[24m\u001b[39m\n",
       " [10] sin(::\u001b[1mMissing\u001b[22m)\n",
       "\u001b[90m     @\u001b[39m \u001b[90mBase.Math\u001b[39m \u001b[90m\u001b[4mmath.jl:1493\u001b[24m\u001b[39m\n",
       " [11] sin(\u001b[90ma\u001b[39m::\u001b[1mComplexF16\u001b[22m)\n",
       "\u001b[90m     @\u001b[39m \u001b[90mBase.Math\u001b[39m \u001b[90m\u001b[4mmath.jl:1472\u001b[24m\u001b[39m\n",
       " [12] sin(\u001b[90mz\u001b[39m::\u001b[1mComplex\u001b[22m\u001b[0m{T}) where T\n",
       "\u001b[90m     @\u001b[39m \u001b[90m\u001b[4mcomplex.jl:882\u001b[24m\u001b[39m\n",
       " [13] sin(\u001b[90ma\u001b[39m::\u001b[1mFloat16\u001b[22m)\n",
       "\u001b[90m     @\u001b[39m \u001b[90mBase.Math\u001b[39m \u001b[90m\u001b[4mmath.jl:1471\u001b[24m\u001b[39m\n",
       " [14] sin(\u001b[90mx\u001b[39m::\u001b[1mReal\u001b[22m)\n",
       "\u001b[90m     @\u001b[39m \u001b[90mBase.Math\u001b[39m \u001b[90m\u001b[4mmath.jl:1488\u001b[24m\u001b[39m"
      ]
     },
     "metadata": {},
     "output_type": "display_data"
    }
   ],
   "source": [
    "methods(sin)"
   ]
  },
  {
   "cell_type": "code",
   "execution_count": 35,
   "metadata": {},
   "outputs": [
    {
     "data": {
      "text/plain": [
       "Set{Int64}()"
      ]
     },
     "metadata": {},
     "output_type": "display_data"
    }
   ],
   "source": [
    "s=Set{Int}()"
   ]
  },
  {
   "cell_type": "code",
   "execution_count": 36,
   "metadata": {},
   "outputs": [
    {
     "data": {
      "text/plain": [
       "Set{Int64}()"
      ]
     },
     "metadata": {},
     "output_type": "display_data"
    }
   ],
   "source": [
    "s"
   ]
  },
  {
   "cell_type": "code",
   "execution_count": 37,
   "metadata": {},
   "outputs": [
    {
     "data": {
      "text/plain": [
       "Set{Int64} with 1 element:\n",
       "  67"
      ]
     },
     "metadata": {},
     "output_type": "display_data"
    }
   ],
   "source": [
    "push!(s, 67)"
   ]
  },
  {
   "cell_type": "code",
   "execution_count": 38,
   "metadata": {},
   "outputs": [
    {
     "data": {
      "text/plain": [
       "BenchmarkTools.Trial: 10000 samples with 192 evaluations.\n",
       " Range \u001b[90m(\u001b[39m\u001b[36m\u001b[1mmin\u001b[22m\u001b[39m … \u001b[35mmax\u001b[39m\u001b[90m):  \u001b[39m\u001b[36m\u001b[1m517.578 ns\u001b[22m\u001b[39m … \u001b[35m  9.654 μs\u001b[39m  \u001b[90m┊\u001b[39m GC \u001b[90m(\u001b[39mmin … max\u001b[90m): \u001b[39m0.00% … 93.38%\n",
       " Time  \u001b[90m(\u001b[39m\u001b[34m\u001b[1mmedian\u001b[22m\u001b[39m\u001b[90m):     \u001b[39m\u001b[34m\u001b[1m537.542 ns               \u001b[22m\u001b[39m\u001b[90m┊\u001b[39m GC \u001b[90m(\u001b[39mmedian\u001b[90m):    \u001b[39m0.00%\n",
       " Time  \u001b[90m(\u001b[39m\u001b[32m\u001b[1mmean\u001b[22m\u001b[39m ± \u001b[32mσ\u001b[39m\u001b[90m):   \u001b[39m\u001b[32m\u001b[1m572.007 ns\u001b[22m\u001b[39m ± \u001b[32m425.863 ns\u001b[39m  \u001b[90m┊\u001b[39m GC \u001b[90m(\u001b[39mmean ± σ\u001b[90m):  \u001b[39m4.20% ±  5.28%\n",
       "\n",
       "  \u001b[39m \u001b[39m \u001b[39m▇\u001b[39m█\u001b[39m \u001b[39m \u001b[39m \u001b[39m \u001b[34m \u001b[39m\u001b[39m \u001b[39m \u001b[39m \u001b[39m \u001b[39m \u001b[39m \u001b[39m \u001b[39m \u001b[39m \u001b[39m \u001b[39m \u001b[39m \u001b[39m \u001b[32m \u001b[39m\u001b[39m \u001b[39m \u001b[39m \u001b[39m \u001b[39m \u001b[39m \u001b[39m \u001b[39m \u001b[39m \u001b[39m \u001b[39m \u001b[39m \u001b[39m \u001b[39m \u001b[39m \u001b[39m \u001b[39m \u001b[39m \u001b[39m \u001b[39m \u001b[39m \u001b[39m \u001b[39m \u001b[39m \u001b[39m \u001b[39m \u001b[39m \u001b[39m \u001b[39m \u001b[39m \u001b[39m \u001b[39m \u001b[39m \u001b[39m \u001b[39m \u001b[39m \u001b[39m \u001b[39m \u001b[39m \u001b[39m \n",
       "  \u001b[39m▁\u001b[39m▆\u001b[39m█\u001b[39m█\u001b[39m▇\u001b[39m▃\u001b[39m▂\u001b[39m▃\u001b[34m▄\u001b[39m\u001b[39m▄\u001b[39m▅\u001b[39m▄\u001b[39m▄\u001b[39m▃\u001b[39m▃\u001b[39m▃\u001b[39m▃\u001b[39m▃\u001b[39m▃\u001b[39m▂\u001b[39m▃\u001b[39m▃\u001b[32m▂\u001b[39m\u001b[39m▂\u001b[39m▂\u001b[39m▂\u001b[39m▂\u001b[39m▂\u001b[39m▂\u001b[39m▂\u001b[39m▂\u001b[39m▂\u001b[39m▂\u001b[39m▂\u001b[39m▁\u001b[39m▁\u001b[39m▁\u001b[39m▂\u001b[39m▁\u001b[39m▁\u001b[39m▁\u001b[39m▁\u001b[39m▁\u001b[39m▁\u001b[39m▁\u001b[39m▁\u001b[39m▁\u001b[39m▁\u001b[39m▁\u001b[39m▁\u001b[39m▁\u001b[39m▁\u001b[39m▁\u001b[39m▁\u001b[39m▁\u001b[39m▁\u001b[39m▁\u001b[39m▁\u001b[39m▁\u001b[39m▁\u001b[39m▁\u001b[39m \u001b[39m▂\n",
       "  518 ns\u001b[90m           Histogram: frequency by time\u001b[39m          665 ns \u001b[0m\u001b[1m<\u001b[22m\n",
       "\n",
       " Memory estimate\u001b[90m: \u001b[39m\u001b[33m864 bytes\u001b[39m, allocs estimate\u001b[90m: \u001b[39m\u001b[33m15\u001b[39m."
      ]
     },
     "metadata": {},
     "output_type": "display_data"
    }
   ],
   "source": [
    "nns = [3, 5, 7, 9, 11, 15, 17, 29, 100, 123, 200, 400]\n",
    "@benchmark begin\n",
    "    nnv = Vector{Int}(undef, 0)\n",
    "    for nn in nns\n",
    "        push!(nnv, nn)\n",
    "    end\n",
    "end"
   ]
  },
  {
   "cell_type": "code",
   "execution_count": 39,
   "metadata": {},
   "outputs": [
    {
     "data": {
      "text/plain": [
       "BenchmarkTools.Trial: 10000 samples with 19 evaluations.\n",
       " Range \u001b[90m(\u001b[39m\u001b[36m\u001b[1mmin\u001b[22m\u001b[39m … \u001b[35mmax\u001b[39m\u001b[90m):  \u001b[39m\u001b[36m\u001b[1m953.947 ns\u001b[22m\u001b[39m … \u001b[35m120.096 μs\u001b[39m  \u001b[90m┊\u001b[39m GC \u001b[90m(\u001b[39mmin … max\u001b[90m): \u001b[39m0.00% … 98.39%\n",
       " Time  \u001b[90m(\u001b[39m\u001b[34m\u001b[1mmedian\u001b[22m\u001b[39m\u001b[90m):     \u001b[39m\u001b[34m\u001b[1m986.842 ns               \u001b[22m\u001b[39m\u001b[90m┊\u001b[39m GC \u001b[90m(\u001b[39mmedian\u001b[90m):    \u001b[39m0.00%\n",
       " Time  \u001b[90m(\u001b[39m\u001b[32m\u001b[1mmean\u001b[22m\u001b[39m ± \u001b[32mσ\u001b[39m\u001b[90m):   \u001b[39m\u001b[32m\u001b[1m  1.099 μs\u001b[22m\u001b[39m ± \u001b[32m  2.542 μs\u001b[39m  \u001b[90m┊\u001b[39m GC \u001b[90m(\u001b[39mmean ± σ\u001b[90m):  \u001b[39m5.10% ±  2.19%\n",
       "\n",
       "  \u001b[39m▆\u001b[39m█\u001b[39m█\u001b[34m▆\u001b[39m\u001b[39m▄\u001b[39m▄\u001b[39m▅\u001b[39m▄\u001b[39m▄\u001b[39m▄\u001b[39m▃\u001b[39m▃\u001b[39m▂\u001b[39m▂\u001b[32m \u001b[39m\u001b[39m▁\u001b[39m▁\u001b[39m \u001b[39m▁\u001b[39m▁\u001b[39m▂\u001b[39m▁\u001b[39m▂\u001b[39m▂\u001b[39m▁\u001b[39m▁\u001b[39m▁\u001b[39m▁\u001b[39m▁\u001b[39m▁\u001b[39m▁\u001b[39m▁\u001b[39m \u001b[39m▁\u001b[39m \u001b[39m \u001b[39m \u001b[39m \u001b[39m \u001b[39m \u001b[39m \u001b[39m \u001b[39m \u001b[39m \u001b[39m \u001b[39m \u001b[39m \u001b[39m \u001b[39m \u001b[39m \u001b[39m \u001b[39m \u001b[39m \u001b[39m \u001b[39m \u001b[39m \u001b[39m \u001b[39m \u001b[39m \u001b[39m \u001b[39m \u001b[39m \u001b[39m▂\n",
       "  \u001b[39m█\u001b[39m█\u001b[39m█\u001b[34m█\u001b[39m\u001b[39m█\u001b[39m█\u001b[39m█\u001b[39m█\u001b[39m█\u001b[39m█\u001b[39m█\u001b[39m█\u001b[39m█\u001b[39m█\u001b[32m█\u001b[39m\u001b[39m█\u001b[39m█\u001b[39m█\u001b[39m█\u001b[39m█\u001b[39m█\u001b[39m█\u001b[39m█\u001b[39m█\u001b[39m█\u001b[39m█\u001b[39m█\u001b[39m█\u001b[39m█\u001b[39m█\u001b[39m█\u001b[39m█\u001b[39m█\u001b[39m█\u001b[39m█\u001b[39m▇\u001b[39m▇\u001b[39m▇\u001b[39m▇\u001b[39m▆\u001b[39m▆\u001b[39m▆\u001b[39m▆\u001b[39m▅\u001b[39m▅\u001b[39m▅\u001b[39m▆\u001b[39m▆\u001b[39m▅\u001b[39m▆\u001b[39m▆\u001b[39m▅\u001b[39m▃\u001b[39m▄\u001b[39m▅\u001b[39m▅\u001b[39m▄\u001b[39m▃\u001b[39m▄\u001b[39m▂\u001b[39m▄\u001b[39m \u001b[39m█\n",
       "  954 ns\u001b[90m        \u001b[39m\u001b[90mHistogram: \u001b[39m\u001b[90m\u001b[1mlog(\u001b[22m\u001b[39m\u001b[90mfrequency\u001b[39m\u001b[90m\u001b[1m)\u001b[22m\u001b[39m\u001b[90m by time\u001b[39m       1.59 μs \u001b[0m\u001b[1m<\u001b[22m\n",
       "\n",
       " Memory estimate\u001b[90m: \u001b[39m\u001b[33m1.34 KiB\u001b[39m, allocs estimate\u001b[90m: \u001b[39m\u001b[33m38\u001b[39m."
      ]
     },
     "metadata": {},
     "output_type": "display_data"
    }
   ],
   "source": [
    "nns = [3, 5, 7, 9, 11, 15, 17, 29, 100, 123, 200, 400]\n",
    "nnsc = copy(nns)\n",
    "@benchmark begin\n",
    "    for (i, x) in enumerate(nns)\n",
    "        nnsc[i] = x * 2\n",
    "    end\n",
    "end"
   ]
  },
  {
   "cell_type": "code",
   "execution_count": 40,
   "metadata": {},
   "outputs": [
    {
     "data": {
      "text/plain": [
       "BenchmarkTools.Trial: 10000 samples with 446 evaluations.\n",
       " Range \u001b[90m(\u001b[39m\u001b[36m\u001b[1mmin\u001b[22m\u001b[39m … \u001b[35mmax\u001b[39m\u001b[90m):  \u001b[39m\u001b[36m\u001b[1m232.155 ns\u001b[22m\u001b[39m … \u001b[35m  3.736 μs\u001b[39m  \u001b[90m┊\u001b[39m GC \u001b[90m(\u001b[39mmin … max\u001b[90m): \u001b[39m0.00% … 91.98%\n",
       " Time  \u001b[90m(\u001b[39m\u001b[34m\u001b[1mmedian\u001b[22m\u001b[39m\u001b[90m):     \u001b[39m\u001b[34m\u001b[1m238.975 ns               \u001b[22m\u001b[39m\u001b[90m┊\u001b[39m GC \u001b[90m(\u001b[39mmedian\u001b[90m):    \u001b[39m0.00%\n",
       " Time  \u001b[90m(\u001b[39m\u001b[32m\u001b[1mmean\u001b[22m\u001b[39m ± \u001b[32mσ\u001b[39m\u001b[90m):   \u001b[39m\u001b[32m\u001b[1m250.469 ns\u001b[22m\u001b[39m ± \u001b[32m126.348 ns\u001b[39m  \u001b[90m┊\u001b[39m GC \u001b[90m(\u001b[39mmean ± σ\u001b[90m):  \u001b[39m2.25% ±  4.14%\n",
       "\n",
       "  \u001b[39m \u001b[39m▂\u001b[39m█\u001b[39m▄\u001b[39m \u001b[39m \u001b[39m \u001b[34m \u001b[39m\u001b[39m \u001b[39m \u001b[39m \u001b[39m \u001b[39m \u001b[39m \u001b[39m \u001b[39m \u001b[39m \u001b[39m \u001b[32m \u001b[39m\u001b[39m \u001b[39m \u001b[39m \u001b[39m \u001b[39m \u001b[39m \u001b[39m \u001b[39m \u001b[39m \u001b[39m \u001b[39m \u001b[39m \u001b[39m \u001b[39m \u001b[39m \u001b[39m \u001b[39m \u001b[39m \u001b[39m \u001b[39m \u001b[39m \u001b[39m \u001b[39m \u001b[39m \u001b[39m \u001b[39m \u001b[39m \u001b[39m \u001b[39m \u001b[39m \u001b[39m \u001b[39m \u001b[39m \u001b[39m \u001b[39m \u001b[39m \u001b[39m \u001b[39m \u001b[39m \u001b[39m \u001b[39m \u001b[39m \u001b[39m \u001b[39m \n",
       "  \u001b[39m▂\u001b[39m█\u001b[39m█\u001b[39m█\u001b[39m█\u001b[39m▃\u001b[39m▂\u001b[34m▂\u001b[39m\u001b[39m▂\u001b[39m▄\u001b[39m▄\u001b[39m▄\u001b[39m▄\u001b[39m▃\u001b[39m▃\u001b[39m▂\u001b[39m▂\u001b[39m▃\u001b[32m▃\u001b[39m\u001b[39m▂\u001b[39m▂\u001b[39m▂\u001b[39m▂\u001b[39m▂\u001b[39m▂\u001b[39m▂\u001b[39m▂\u001b[39m▂\u001b[39m▂\u001b[39m▂\u001b[39m▂\u001b[39m▂\u001b[39m▂\u001b[39m▂\u001b[39m▁\u001b[39m▂\u001b[39m▁\u001b[39m▁\u001b[39m▁\u001b[39m▁\u001b[39m▁\u001b[39m▁\u001b[39m▁\u001b[39m▁\u001b[39m▁\u001b[39m▁\u001b[39m▁\u001b[39m▁\u001b[39m▁\u001b[39m▁\u001b[39m▁\u001b[39m▁\u001b[39m▁\u001b[39m▁\u001b[39m▁\u001b[39m▁\u001b[39m▁\u001b[39m▁\u001b[39m▁\u001b[39m▁\u001b[39m▁\u001b[39m \u001b[39m▂\n",
       "  232 ns\u001b[90m           Histogram: frequency by time\u001b[39m          295 ns \u001b[0m\u001b[1m<\u001b[22m\n",
       "\n",
       " Memory estimate\u001b[90m: \u001b[39m\u001b[33m224 bytes\u001b[39m, allocs estimate\u001b[90m: \u001b[39m\u001b[33m3\u001b[39m."
      ]
     },
     "metadata": {},
     "output_type": "display_data"
    }
   ],
   "source": [
    "nns = [3, 5, 7, 9, 11, 15, 17, 29, 100, 123, 200, 400]\n",
    "nnsc = copy(nns)\n",
    "@benchmark nnsc = nns .* 2"
   ]
  },
  {
   "cell_type": "code",
   "execution_count": 1,
   "metadata": {},
   "outputs": [
    {
     "data": {
      "text/plain": [
       "Float64[]"
      ]
     },
     "metadata": {},
     "output_type": "display_data"
    }
   ],
   "source": [
    "v1 = Vector{Float64}()"
   ]
  },
  {
   "cell_type": "code",
   "execution_count": 2,
   "metadata": {},
   "outputs": [
    {
     "data": {
      "text/plain": [
       "1-element Vector{Float64}:\n",
       " 5.6"
      ]
     },
     "metadata": {},
     "output_type": "display_data"
    }
   ],
   "source": [
    "push!(v1, 5.6)"
   ]
  },
  {
   "cell_type": "code",
   "execution_count": null,
   "metadata": {},
   "outputs": [],
   "source": []
  }
 ],
 "metadata": {
  "kernelspec": {
   "display_name": "Julia 1.9.2",
   "language": "julia",
   "name": "julia-1.9"
  },
  "language_info": {
   "file_extension": ".jl",
   "mimetype": "application/julia",
   "name": "julia",
   "version": "1.9.2"
  },
  "orig_nbformat": 4
 },
 "nbformat": 4,
 "nbformat_minor": 2
}

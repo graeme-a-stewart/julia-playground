{
 "cells": [
  {
   "cell_type": "markdown",
   "metadata": {},
   "source": [
    "# Push and pop test\n",
    "\n",
    "Test how fast it is to push and pop items from a `Vector()` and a `Set()`\n",
    "\n",
    "**Bottom line:** for this kind of work `Set()` is far more optimal!"
   ]
  },
  {
   "cell_type": "code",
   "execution_count": 1,
   "metadata": {},
   "outputs": [],
   "source": [
    "using Pkg\n",
    "# Pkg.activate(\".\")\n",
    "using Random\n",
    "using BenchmarkTools"
   ]
  },
  {
   "cell_type": "code",
   "execution_count": 2,
   "metadata": {},
   "outputs": [
    {
     "data": {
      "text/plain": [
       "500"
      ]
     },
     "metadata": {},
     "output_type": "display_data"
    }
   ],
   "source": [
    "coll_size = 500"
   ]
  },
  {
   "cell_type": "code",
   "execution_count": 6,
   "metadata": {},
   "outputs": [
    {
     "data": {
      "text/plain": [
       "500-element Vector{Int64}:\n",
       " 446\n",
       "  15\n",
       "  67\n",
       "  93\n",
       " 131\n",
       " 238\n",
       " 500\n",
       " 471\n",
       " 274\n",
       " 423\n",
       "   ⋮\n",
       " 155\n",
       " 370\n",
       "  23\n",
       " 384\n",
       " 330\n",
       " 383\n",
       " 279\n",
       " 377\n",
       "  49"
      ]
     },
     "metadata": {},
     "output_type": "display_data"
    }
   ],
   "source": [
    "testv = collect(1:coll_size)\n",
    "shuffle!(testv)"
   ]
  },
  {
   "cell_type": "code",
   "execution_count": 7,
   "metadata": {},
   "outputs": [
    {
     "data": {
      "text/plain": [
       "BenchmarkTools.Trial: 2391 samples with 1 evaluation.\n",
       " Range \u001b[90m(\u001b[39m\u001b[36m\u001b[1mmin\u001b[22m\u001b[39m … \u001b[35mmax\u001b[39m\u001b[90m):  \u001b[39m\u001b[36m\u001b[1m1.407 ms\u001b[22m\u001b[39m … \u001b[35m  4.268 ms\u001b[39m  \u001b[90m┊\u001b[39m GC \u001b[90m(\u001b[39mmin … max\u001b[90m): \u001b[39m 0.00% … 53.08%\n",
       " Time  \u001b[90m(\u001b[39m\u001b[34m\u001b[1mmedian\u001b[22m\u001b[39m\u001b[90m):     \u001b[39m\u001b[34m\u001b[1m1.805 ms               \u001b[22m\u001b[39m\u001b[90m┊\u001b[39m GC \u001b[90m(\u001b[39mmedian\u001b[90m):    \u001b[39m 0.00%\n",
       " Time  \u001b[90m(\u001b[39m\u001b[32m\u001b[1mmean\u001b[22m\u001b[39m ± \u001b[32mσ\u001b[39m\u001b[90m):   \u001b[39m\u001b[32m\u001b[1m2.091 ms\u001b[22m\u001b[39m ± \u001b[32m646.488 μs\u001b[39m  \u001b[90m┊\u001b[39m GC \u001b[90m(\u001b[39mmean ± σ\u001b[90m):  \u001b[39m15.94% ± 20.04%\n",
       "\n",
       "  \u001b[39m \u001b[39m \u001b[39m \u001b[39m \u001b[39m \u001b[39m \u001b[39m \u001b[39m \u001b[39m \u001b[39m█\u001b[34m▇\u001b[39m\u001b[39m \u001b[39m \u001b[39m \u001b[39m \u001b[39m \u001b[39m \u001b[39m \u001b[32m \u001b[39m\u001b[39m \u001b[39m \u001b[39m \u001b[39m \u001b[39m \u001b[39m \u001b[39m \u001b[39m \u001b[39m \u001b[39m \u001b[39m \u001b[39m \u001b[39m \u001b[39m \u001b[39m \u001b[39m \u001b[39m \u001b[39m \u001b[39m \u001b[39m \u001b[39m \u001b[39m \u001b[39m \u001b[39m \u001b[39m \u001b[39m \u001b[39m \u001b[39m \u001b[39m \u001b[39m \u001b[39m \u001b[39m \u001b[39m \u001b[39m \u001b[39m \u001b[39m \u001b[39m \u001b[39m \u001b[39m \u001b[39m \u001b[39m \u001b[39m \n",
       "  \u001b[39m▂\u001b[39m▃\u001b[39m▃\u001b[39m▃\u001b[39m▃\u001b[39m▃\u001b[39m▃\u001b[39m▄\u001b[39m█\u001b[39m█\u001b[34m█\u001b[39m\u001b[39m█\u001b[39m▄\u001b[39m▃\u001b[39m▃\u001b[39m▂\u001b[39m▂\u001b[39m▁\u001b[32m▁\u001b[39m\u001b[39m▁\u001b[39m▁\u001b[39m▁\u001b[39m▁\u001b[39m▁\u001b[39m▁\u001b[39m▁\u001b[39m▁\u001b[39m▁\u001b[39m▁\u001b[39m▁\u001b[39m▁\u001b[39m▁\u001b[39m▁\u001b[39m▁\u001b[39m▁\u001b[39m▁\u001b[39m▁\u001b[39m▁\u001b[39m▂\u001b[39m▂\u001b[39m▂\u001b[39m▂\u001b[39m▂\u001b[39m▂\u001b[39m▂\u001b[39m▂\u001b[39m▃\u001b[39m▃\u001b[39m▃\u001b[39m▃\u001b[39m▃\u001b[39m▃\u001b[39m▃\u001b[39m▃\u001b[39m▃\u001b[39m▂\u001b[39m▂\u001b[39m▂\u001b[39m▂\u001b[39m \u001b[39m▃\n",
       "  1.41 ms\u001b[90m         Histogram: frequency by time\u001b[39m        3.69 ms \u001b[0m\u001b[1m<\u001b[22m\n",
       "\n",
       " Memory estimate\u001b[90m: \u001b[39m\u001b[33m8.58 MiB\u001b[39m, allocs estimate\u001b[90m: \u001b[39m\u001b[33m6842\u001b[39m."
      ]
     },
     "metadata": {},
     "output_type": "display_data"
    }
   ],
   "source": [
    "@benchmark begin\n",
    "    v1 = copy($(testv))\n",
    "    for i in 1:coll_size\n",
    "        ind = indexin(i, v1)\n",
    "        deleteat!(v1, ind[1])\n",
    "    end\n",
    "end"
   ]
  },
  {
   "cell_type": "code",
   "execution_count": 34,
   "metadata": {},
   "outputs": [
    {
     "data": {
      "text/plain": [
       "test_vector"
      ]
     },
     "metadata": {},
     "output_type": "display_data"
    }
   ],
   "source": [
    "\"\"\"Test performance of popping from a Vector\"\"\"\n",
    "####\n",
    "# Cannot get this to work, as @benchmark does not inherit the local context\n",
    "# from the function, so it cannot find the `this_v2` Vector\n",
    "####\n",
    "function test_vector(coll_size::Int)\n",
    "    # Setup a random ordered array of \n",
    "    this_v2 = collect(1:coll_size)\n",
    "    shuffle!(this_v2)\n",
    "    println(length(this_v2))\n",
    "\n",
    "    # Now benckmark deleting the collection, by element value\n",
    "    @benchmark begin\n",
    "        setup=(copy_v = copy($this_v2)) \n",
    "        evals=1\n",
    "        for i in 1:coll_size\n",
    "            ind = indexin(i, copy_v)\n",
    "            deleteat!(copy_v, ind[1])\n",
    "        end\n",
    "    end\n",
    "end"
   ]
  },
  {
   "cell_type": "markdown",
   "metadata": {},
   "source": [
    "## Vector `deleteat!` timing\n",
    "\n",
    "This is how to solve it, define what is needed globally, but ensure that the correct global values get copied into the benchmark context, using the context references `$(this_v)` and `$(coll_size)`"
   ]
  },
  {
   "cell_type": "code",
   "execution_count": 4,
   "metadata": {},
   "outputs": [
    {
     "name": "stdout",
     "output_type": "stream",
     "text": [
      "5\n"
     ]
    },
    {
     "name": "stdout",
     "output_type": "stream",
     "text": [
      "10\n"
     ]
    },
    {
     "name": "stdout",
     "output_type": "stream",
     "text": [
      "50\n"
     ]
    },
    {
     "name": "stdout",
     "output_type": "stream",
     "text": [
      "100\n"
     ]
    },
    {
     "name": "stdout",
     "output_type": "stream",
     "text": [
      "500\n"
     ]
    },
    {
     "name": "stdout",
     "output_type": "stream",
     "text": [
      "1000\n"
     ]
    }
   ],
   "source": [
    "coll_sizes = [5, 10, 50, 100, 500, 1000]\n",
    "trial_v = Vector{BenchmarkTools.Trial}()\n",
    "for coll_size in coll_sizes\n",
    "    this_v = collect(1:coll_size)\n",
    "    shuffle!(this_v)\n",
    "    println(length(this_v))\n",
    "\n",
    "    # Now benckmark deleting the collection, by element value\n",
    "    res = @benchmark begin\n",
    "        setup=(copy_v = copy($this_v); v_size=$(coll_size))\n",
    "        for i in 1:v_size\n",
    "            ind = indexin(i, copy_v)\n",
    "            deleteat!(copy_v, ind[1])\n",
    "        end\n",
    "    end\n",
    "    push!(trial_v, res)\n",
    "end"
   ]
  },
  {
   "cell_type": "code",
   "execution_count": 8,
   "metadata": {},
   "outputs": [
    {
     "name": "stdout",
     "output_type": "stream",
     "text": [
      "573.7043010752689\n",
      "1291.7\n",
      "21125.0\n",
      "79708.0\n",
      "1.8266045e6\n",
      "9.2163335e6\n"
     ]
    }
   ],
   "source": [
    "time_v = Float64[]\n",
    "for trial in trial_v\n",
    "    push!(time_v, median(trial).time)\n",
    "    println(median(trial).time)\n",
    "end"
   ]
  },
  {
   "cell_type": "code",
   "execution_count": 9,
   "metadata": {},
   "outputs": [
    {
     "name": "stdout",
     "output_type": "stream",
     "text": [
      "5\n"
     ]
    },
    {
     "name": "stdout",
     "output_type": "stream",
     "text": [
      "10\n"
     ]
    },
    {
     "name": "stdout",
     "output_type": "stream",
     "text": [
      "50\n"
     ]
    },
    {
     "name": "stdout",
     "output_type": "stream",
     "text": [
      "100\n"
     ]
    },
    {
     "name": "stdout",
     "output_type": "stream",
     "text": [
      "500\n"
     ]
    },
    {
     "name": "stdout",
     "output_type": "stream",
     "text": [
      "1000\n"
     ]
    }
   ],
   "source": [
    "trial_s = Vector{BenchmarkTools.Trial}()\n",
    "for coll_size in coll_sizes\n",
    "    this_s = Set(1:coll_size)\n",
    "    println(length(this_s))\n",
    "\n",
    "    # Now benckmark deleting the collection, by element value\n",
    "    res = @benchmark begin\n",
    "        setup=(copy_s = copy($this_s); s_size=$(coll_size))\n",
    "        for i in 1:s_size\n",
    "            delete!(copy_s, i)\n",
    "        end\n",
    "    end\n",
    "    push!(trial_s, res)\n",
    "end"
   ]
  },
  {
   "cell_type": "code",
   "execution_count": 10,
   "metadata": {},
   "outputs": [
    {
     "name": "stdout",
     "output_type": "stream",
     "text": [
      "57.8253807106599\n",
      "67.96935648621042\n",
      "240.437125748503\n",
      "581.2272727272727\n",
      "2512.5\n",
      "4869.875\n"
     ]
    }
   ],
   "source": [
    "time_s = Float64[]\n",
    "for trial in trial_s\n",
    "    push!(time_s, median(trial).time)\n",
    "    println(median(trial).time)\n",
    "end"
   ]
  },
  {
   "cell_type": "code",
   "execution_count": 27,
   "metadata": {},
   "outputs": [],
   "source": [
    "# N.B. Cannot be \"using\" CairoMakie and Plots in the same session - they define the same\n",
    "# things in the global namespace (could use \"import\", if one really did want to have them both)\n",
    "using CairoMakie\n"
   ]
  },
  {
   "cell_type": "code",
   "execution_count": 21,
   "metadata": {},
   "outputs": [
    {
     "data": {
      "image/png": "[encoded data removed]"
     },
     "metadata": {},
     "output_type": "display_data"
    }
   ],
   "source": [
    "f = Figure()\n",
    "ax = Axis(f[1, 1], title=\"Collection Deletion Scaling\", \n",
    "    xlabel=\"Initial Collection Size\", ylabel=\"Time (ns) to delete all elements\", \n",
    "    yscale = Makie.pseudolog10, xscale=Makie.pseudolog10)\n",
    "scatter!(ax, coll_sizes, time_v)\n",
    "scatter!(ax, coll_sizes, time_s)\n",
    "f"
   ]
  },
  {
   "cell_type": "code",
   "execution_count": 18,
   "metadata": {},
   "outputs": [
    {
     "data": {
      "text/plain": [
       "Scatter{Tuple{Vector{Point{2, Float32}}}}"
      ]
     },
     "metadata": {},
     "output_type": "display_data"
    }
   ],
   "source": [
    "scatter!(ax, coll_sizes, time_v)\n",
    "scatter!(ax, coll_sizes, time_s)"
   ]
  },
  {
   "cell_type": "code",
   "execution_count": 19,
   "metadata": {},
   "outputs": [
    {
     "data": {
      "image/png": "[encoded data removed]"
     },
     "metadata": {},
     "output_type": "display_data"
    }
   ],
   "source": [
    "f"
   ]
  },
  {
   "cell_type": "code",
   "execution_count": null,
   "metadata": {},
   "outputs": [],
   "source": []
  }
 ],
 "metadata": {
  "kernelspec": {
   "display_name": "Julia 1.9.2",
   "language": "julia",
   "name": "julia-1.9"
  },
  "language_info": {
   "file_extension": ".jl",
   "mimetype": "application/julia",
   "name": "julia",
   "version": "1.9.2"
  },
  "orig_nbformat": 4
 },
 "nbformat": 4,
 "nbformat_minor": 2
}
